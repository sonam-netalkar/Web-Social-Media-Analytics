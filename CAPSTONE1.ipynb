{
  "cells": [
    {
      "cell_type": "markdown",
      "metadata": {
        "id": "KInQ37S0NkwX"
      },
      "source": [
        "**MOUNTING GDRIVE FOR COLAB**"
      ]
    },
    {
      "cell_type": "code",
      "execution_count": 1,
      "metadata": {
        "id": "oFmkaICD3Rcy",
        "colab": {
          "base_uri": "https://localhost:8080/"
        },
        "outputId": "03b7f447-5483-4b3e-8ed9-9550bd8ebe4e"
      },
      "outputs": [
        {
          "output_type": "stream",
          "name": "stdout",
          "text": [
            "Mounted at /content/gdrive\n"
          ]
        }
      ],
      "source": [
        "from google.colab import drive\n",
        "drive.mount('/content/gdrive')\n"
      ]
    },
    {
      "cell_type": "code",
      "source": [
        "!ls /'content/gdrive/MyDrive/Web_and_social_media_analytics'/"
      ],
      "metadata": {
        "id": "LOLlCmLyaN-a",
        "colab": {
          "base_uri": "https://localhost:8080/"
        },
        "outputId": "96729dcb-0c2a-49b2-bd00-9fe7e66587d9"
      },
      "execution_count": 2,
      "outputs": [
        {
          "output_type": "stream",
          "name": "stdout",
          "text": [
            "'Brands and Asins.csv'\t\t\t    phone_data_final.csv\n",
            " Cell_Phones_and_Accessories_5.csv\t    phone_reviews.csv\n",
            " meta_Cell_Phones_and_Accessories.json\t    positive_corpus.xlsx\n",
            " meta_Cell_Phones_and_Accessories.json.gz   pos_words.txt\n",
            " negative_corpus.xlsx\t\t\t    review_sentiment.csv\n",
            " neg_words.txt\t\t\t\t    stop_words_long.txt\n"
          ]
        }
      ]
    },
    {
      "cell_type": "markdown",
      "metadata": {
        "id": "MR2DrzoiNmNt"
      },
      "source": [
        "**IMPORTING LIBRARIES**\n"
      ]
    },
    {
      "cell_type": "code",
      "execution_count": 3,
      "metadata": {
        "id": "xgCqNeF76NKv"
      },
      "outputs": [],
      "source": [
        "import pandas as pd\n",
        "import numpy as np"
      ]
    },
    {
      "cell_type": "code",
      "execution_count": 4,
      "metadata": {
        "id": "TTPqSh4L-pem"
      },
      "outputs": [],
      "source": [
        "\n",
        "df=pd.read_csv('/content/gdrive/MyDrive/Web_and_social_media_analytics/phone_data_final.csv')"
      ]
    },
    {
      "cell_type": "markdown",
      "source": [
        "**The following data sets are available**\n",
        "\n",
        "1.meta data of type .json\n",
        "\n",
        "2.phone data of type .csv\n",
        "\n",
        "The meta data holds information from sellers point of view and the phone data holds user information. We begin by unzipping the meta data file and extracting its content to a list"
      ],
      "metadata": {
        "id": "gfPYcWMoTVho"
      }
    },
    {
      "cell_type": "markdown",
      "metadata": {
        "id": "qVn_Zx6dOCT6"
      },
      "source": [
        "**UNZIPPING DATA**"
      ]
    },
    {
      "cell_type": "markdown",
      "metadata": {
        "id": "HcYIM8uW_cVI"
      },
      "source": [
        "**READING DATA**"
      ]
    },
    {
      "cell_type": "code",
      "execution_count": 4,
      "metadata": {
        "id": "F3FH51At_kmz"
      },
      "outputs": [],
      "source": [
        "#Reading meta data\n",
        "#Importing Libraries\n",
        "\n",
        "import gzip\n",
        "import shutil\n",
        "\n",
        "#path to meta data zip file\n",
        "path1='/content/gdrive/MyDrive/Web_and_social_media_analytics/meta_Cell_Phones_and_Accessories.json.gz'\n",
        "\n",
        "#path to meta data .json file\n",
        "path2='/content/gdrive/MyDrive/Web_and_social_media_analytics/meta_Cell_Phones_and_Accessories.json'"
      ]
    },
    {
      "cell_type": "code",
      "execution_count": 5,
      "metadata": {
        "id": "qDa3_SF4C1BB",
        "colab": {
          "base_uri": "https://localhost:8080/"
        },
        "outputId": "4d146348-9f28-491e-d18b-78fd2a4d487b"
      },
      "outputs": [
        {
          "output_type": "stream",
          "name": "stdout",
          "text": [
            "Archive:  gdrive/My Drive/Web_and_social_media_analytics/meta_Cell_Phones_and_Accessories.json.gz\n",
            "  End-of-central-directory signature not found.  Either this file is not\n",
            "  a zipfile, or it constitutes one disk of a multi-part archive.  In the\n",
            "  latter case the central directory and zipfile comment will be found on\n",
            "  the last disk(s) of this archive.\n",
            "unzip:  cannot find zipfile directory in one of gdrive/My Drive/Web_and_social_media_analytics/meta_Cell_Phones_and_Accessories.json.gz or\n",
            "        gdrive/My Drive/Web_and_social_media_analytics/meta_Cell_Phones_and_Accessories.json.gz.zip, and cannot find gdrive/My Drive/Web_and_social_media_analytics/meta_Cell_Phones_and_Accessories.json.gz.ZIP, period.\n"
          ]
        }
      ],
      "source": [
        "!unzip gdrive/My\\ Drive/Web_and_social_media_analytics/meta_Cell_Phones_and_Accessories.json.gz"
      ]
    },
    {
      "cell_type": "code",
      "execution_count": 6,
      "metadata": {
        "id": "rI27waMdDfzS"
      },
      "outputs": [],
      "source": [
        "# Reading the unzipped meta data into a Python list. The result will be a list of dictionaries. \n",
        "import json\n",
        "\n",
        "# Empty list to store the dictonaries\n",
        "phonemetadata = []\n",
        "\n",
        "# Reading the dictionaries in the json file and appending it to the list phonemetadata[]\n",
        "with open(path2, 'r') as f:\n",
        "    for line in f:\n",
        "        phonemetadata.append(json.loads(line))"
      ]
    },
    {
      "cell_type": "code",
      "execution_count": 7,
      "metadata": {
        "id": "jGHKGwgtD6uK",
        "colab": {
          "base_uri": "https://localhost:8080/"
        },
        "outputId": "728cfdd8-6bca-4905-ae2f-7596ba7b410e"
      },
      "outputs": [
        {
          "output_type": "execute_result",
          "data": {
            "text/plain": [
              "590071"
            ]
          },
          "metadata": {},
          "execution_count": 7
        }
      ],
      "source": [
        "# Getting the number of entries in the phonemetadata list\n",
        "len(phonemetadata)"
      ]
    },
    {
      "cell_type": "code",
      "execution_count": 8,
      "metadata": {
        "id": "j1bMhiizD6w4"
      },
      "outputs": [],
      "source": [
        "#converting the list phonemetadata into a data frame\n",
        "df_meta=pd.DataFrame(phonemetadata)"
      ]
    },
    {
      "cell_type": "code",
      "source": [
        "#creating new .csv file for meta\n",
        "df_meta.to_csv('/content/gdrive/MyDrive/meta.csv')"
      ],
      "metadata": {
        "id": "_7Mlit6RuAoe"
      },
      "execution_count": 11,
      "outputs": []
    },
    {
      "cell_type": "code",
      "source": [
        "#reading meta.csv file\n",
        "df_meta=pd.read_csv('/content/gdrive/MyDrive/meta.csv')"
      ],
      "metadata": {
        "id": "4lScu93X6W7S",
        "colab": {
          "base_uri": "https://localhost:8080/"
        },
        "outputId": "fee40102-6b1e-4d72-f22a-2a8afc1840cd"
      },
      "execution_count": 12,
      "outputs": [
        {
          "output_type": "stream",
          "name": "stderr",
          "text": [
            "/usr/local/lib/python3.8/dist-packages/IPython/core/interactiveshell.py:3326: DtypeWarning: Columns (4,8) have mixed types.Specify dtype option on import or set low_memory=False.\n",
            "  exec(code_obj, self.user_global_ns, self.user_ns)\n"
          ]
        }
      ]
    },
    {
      "cell_type": "code",
      "execution_count": 13,
      "metadata": {
        "id": "CarKxwAZD60Q",
        "colab": {
          "base_uri": "https://localhost:8080/"
        },
        "outputId": "66cf851f-34fe-42c3-d536-93bdc09524c9"
      },
      "outputs": [
        {
          "output_type": "stream",
          "name": "stderr",
          "text": [
            "/usr/local/lib/python3.8/dist-packages/IPython/core/interactiveshell.py:3326: DtypeWarning: Columns (9) have mixed types.Specify dtype option on import or set low_memory=False.\n",
            "  exec(code_obj, self.user_global_ns, self.user_ns)\n"
          ]
        }
      ],
      "source": [
        "#Reading the .csv file of the phone data into a dataframe\n",
        "df_phonedata=pd.read_csv('/content/gdrive/MyDrive/Web_and_social_media_analytics/Cell_Phones_and_Accessories_5.csv')"
      ]
    },
    {
      "cell_type": "code",
      "execution_count": 14,
      "metadata": {
        "id": "A0D0EfphFOUA",
        "colab": {
          "base_uri": "https://localhost:8080/",
          "height": 337
        },
        "outputId": "31643aa9-dd12-4e2a-fd8f-7543f465a864"
      },
      "outputs": [
        {
          "output_type": "execute_result",
          "data": {
            "text/plain": [
              "   overall  verified      reviewerID        asin                 style  \\\n",
              "0      5.0      True  A24E3SXTC62LJI  7508492919  {'Color:': ' Bling'}   \n",
              "1      5.0      True  A269FLZCB4GIPV  7508492919                   NaN   \n",
              "2      3.0      True   AB6CHQWHZW4TV  7508492919                   NaN   \n",
              "3      2.0      True   A1M117A53LEI8  7508492919                   NaN   \n",
              "4      4.0      True  A272DUT8M88ZS8  7508492919                   NaN   \n",
              "\n",
              "       reviewerName                                         reviewText  \\\n",
              "0  Claudia Valdivia  Looks even better in person. Be careful to not...   \n",
              "1       sarah ponce  When you don't want to spend a whole lot of ca...   \n",
              "2               Kai  so the case came on time, i love the design. I...   \n",
              "3   Sharon Williams  DON'T CARE FOR IT.  GAVE IT AS A GIFT AND THEY...   \n",
              "4   Bella Rodriguez  I liked it because it was cute, but the studs ...   \n",
              "\n",
              "                               summary  unixReviewTime vote image  \\\n",
              "0  Can't stop won't stop looking at it      1407110400  NaN   NaN   \n",
              "1                                    1      1392163200  NaN   NaN   \n",
              "2                             Its okay      1391817600  NaN   NaN   \n",
              "3                                 CASE      1391472000  NaN   NaN   \n",
              "4                                Cute!      1391385600  NaN   NaN   \n",
              "\n",
              "  review_sentiment  \n",
              "0         POSITIVE  \n",
              "1         POSITIVE  \n",
              "2         NEGATIVE  \n",
              "3         POSITIVE  \n",
              "4         POSITIVE  "
            ],
            "text/html": [
              "\n",
              "  <div id=\"df-f28d8cd2-baf2-4517-8d21-5bb58fd74f7e\">\n",
              "    <div class=\"colab-df-container\">\n",
              "      <div>\n",
              "<style scoped>\n",
              "    .dataframe tbody tr th:only-of-type {\n",
              "        vertical-align: middle;\n",
              "    }\n",
              "\n",
              "    .dataframe tbody tr th {\n",
              "        vertical-align: top;\n",
              "    }\n",
              "\n",
              "    .dataframe thead th {\n",
              "        text-align: right;\n",
              "    }\n",
              "</style>\n",
              "<table border=\"1\" class=\"dataframe\">\n",
              "  <thead>\n",
              "    <tr style=\"text-align: right;\">\n",
              "      <th></th>\n",
              "      <th>overall</th>\n",
              "      <th>verified</th>\n",
              "      <th>reviewerID</th>\n",
              "      <th>asin</th>\n",
              "      <th>style</th>\n",
              "      <th>reviewerName</th>\n",
              "      <th>reviewText</th>\n",
              "      <th>summary</th>\n",
              "      <th>unixReviewTime</th>\n",
              "      <th>vote</th>\n",
              "      <th>image</th>\n",
              "      <th>review_sentiment</th>\n",
              "    </tr>\n",
              "  </thead>\n",
              "  <tbody>\n",
              "    <tr>\n",
              "      <th>0</th>\n",
              "      <td>5.0</td>\n",
              "      <td>True</td>\n",
              "      <td>A24E3SXTC62LJI</td>\n",
              "      <td>7508492919</td>\n",
              "      <td>{'Color:': ' Bling'}</td>\n",
              "      <td>Claudia Valdivia</td>\n",
              "      <td>Looks even better in person. Be careful to not...</td>\n",
              "      <td>Can't stop won't stop looking at it</td>\n",
              "      <td>1407110400</td>\n",
              "      <td>NaN</td>\n",
              "      <td>NaN</td>\n",
              "      <td>POSITIVE</td>\n",
              "    </tr>\n",
              "    <tr>\n",
              "      <th>1</th>\n",
              "      <td>5.0</td>\n",
              "      <td>True</td>\n",
              "      <td>A269FLZCB4GIPV</td>\n",
              "      <td>7508492919</td>\n",
              "      <td>NaN</td>\n",
              "      <td>sarah ponce</td>\n",
              "      <td>When you don't want to spend a whole lot of ca...</td>\n",
              "      <td>1</td>\n",
              "      <td>1392163200</td>\n",
              "      <td>NaN</td>\n",
              "      <td>NaN</td>\n",
              "      <td>POSITIVE</td>\n",
              "    </tr>\n",
              "    <tr>\n",
              "      <th>2</th>\n",
              "      <td>3.0</td>\n",
              "      <td>True</td>\n",
              "      <td>AB6CHQWHZW4TV</td>\n",
              "      <td>7508492919</td>\n",
              "      <td>NaN</td>\n",
              "      <td>Kai</td>\n",
              "      <td>so the case came on time, i love the design. I...</td>\n",
              "      <td>Its okay</td>\n",
              "      <td>1391817600</td>\n",
              "      <td>NaN</td>\n",
              "      <td>NaN</td>\n",
              "      <td>NEGATIVE</td>\n",
              "    </tr>\n",
              "    <tr>\n",
              "      <th>3</th>\n",
              "      <td>2.0</td>\n",
              "      <td>True</td>\n",
              "      <td>A1M117A53LEI8</td>\n",
              "      <td>7508492919</td>\n",
              "      <td>NaN</td>\n",
              "      <td>Sharon Williams</td>\n",
              "      <td>DON'T CARE FOR IT.  GAVE IT AS A GIFT AND THEY...</td>\n",
              "      <td>CASE</td>\n",
              "      <td>1391472000</td>\n",
              "      <td>NaN</td>\n",
              "      <td>NaN</td>\n",
              "      <td>POSITIVE</td>\n",
              "    </tr>\n",
              "    <tr>\n",
              "      <th>4</th>\n",
              "      <td>4.0</td>\n",
              "      <td>True</td>\n",
              "      <td>A272DUT8M88ZS8</td>\n",
              "      <td>7508492919</td>\n",
              "      <td>NaN</td>\n",
              "      <td>Bella Rodriguez</td>\n",
              "      <td>I liked it because it was cute, but the studs ...</td>\n",
              "      <td>Cute!</td>\n",
              "      <td>1391385600</td>\n",
              "      <td>NaN</td>\n",
              "      <td>NaN</td>\n",
              "      <td>POSITIVE</td>\n",
              "    </tr>\n",
              "  </tbody>\n",
              "</table>\n",
              "</div>\n",
              "      <button class=\"colab-df-convert\" onclick=\"convertToInteractive('df-f28d8cd2-baf2-4517-8d21-5bb58fd74f7e')\"\n",
              "              title=\"Convert this dataframe to an interactive table.\"\n",
              "              style=\"display:none;\">\n",
              "        \n",
              "  <svg xmlns=\"http://www.w3.org/2000/svg\" height=\"24px\"viewBox=\"0 0 24 24\"\n",
              "       width=\"24px\">\n",
              "    <path d=\"M0 0h24v24H0V0z\" fill=\"none\"/>\n",
              "    <path d=\"M18.56 5.44l.94 2.06.94-2.06 2.06-.94-2.06-.94-.94-2.06-.94 2.06-2.06.94zm-11 1L8.5 8.5l.94-2.06 2.06-.94-2.06-.94L8.5 2.5l-.94 2.06-2.06.94zm10 10l.94 2.06.94-2.06 2.06-.94-2.06-.94-.94-2.06-.94 2.06-2.06.94z\"/><path d=\"M17.41 7.96l-1.37-1.37c-.4-.4-.92-.59-1.43-.59-.52 0-1.04.2-1.43.59L10.3 9.45l-7.72 7.72c-.78.78-.78 2.05 0 2.83L4 21.41c.39.39.9.59 1.41.59.51 0 1.02-.2 1.41-.59l7.78-7.78 2.81-2.81c.8-.78.8-2.07 0-2.86zM5.41 20L4 18.59l7.72-7.72 1.47 1.35L5.41 20z\"/>\n",
              "  </svg>\n",
              "      </button>\n",
              "      \n",
              "  <style>\n",
              "    .colab-df-container {\n",
              "      display:flex;\n",
              "      flex-wrap:wrap;\n",
              "      gap: 12px;\n",
              "    }\n",
              "\n",
              "    .colab-df-convert {\n",
              "      background-color: #E8F0FE;\n",
              "      border: none;\n",
              "      border-radius: 50%;\n",
              "      cursor: pointer;\n",
              "      display: none;\n",
              "      fill: #1967D2;\n",
              "      height: 32px;\n",
              "      padding: 0 0 0 0;\n",
              "      width: 32px;\n",
              "    }\n",
              "\n",
              "    .colab-df-convert:hover {\n",
              "      background-color: #E2EBFA;\n",
              "      box-shadow: 0px 1px 2px rgba(60, 64, 67, 0.3), 0px 1px 3px 1px rgba(60, 64, 67, 0.15);\n",
              "      fill: #174EA6;\n",
              "    }\n",
              "\n",
              "    [theme=dark] .colab-df-convert {\n",
              "      background-color: #3B4455;\n",
              "      fill: #D2E3FC;\n",
              "    }\n",
              "\n",
              "    [theme=dark] .colab-df-convert:hover {\n",
              "      background-color: #434B5C;\n",
              "      box-shadow: 0px 1px 3px 1px rgba(0, 0, 0, 0.15);\n",
              "      filter: drop-shadow(0px 1px 2px rgba(0, 0, 0, 0.3));\n",
              "      fill: #FFFFFF;\n",
              "    }\n",
              "  </style>\n",
              "\n",
              "      <script>\n",
              "        const buttonEl =\n",
              "          document.querySelector('#df-f28d8cd2-baf2-4517-8d21-5bb58fd74f7e button.colab-df-convert');\n",
              "        buttonEl.style.display =\n",
              "          google.colab.kernel.accessAllowed ? 'block' : 'none';\n",
              "\n",
              "        async function convertToInteractive(key) {\n",
              "          const element = document.querySelector('#df-f28d8cd2-baf2-4517-8d21-5bb58fd74f7e');\n",
              "          const dataTable =\n",
              "            await google.colab.kernel.invokeFunction('convertToInteractive',\n",
              "                                                     [key], {});\n",
              "          if (!dataTable) return;\n",
              "\n",
              "          const docLinkHtml = 'Like what you see? Visit the ' +\n",
              "            '<a target=\"_blank\" href=https://colab.research.google.com/notebooks/data_table.ipynb>data table notebook</a>'\n",
              "            + ' to learn more about interactive tables.';\n",
              "          element.innerHTML = '';\n",
              "          dataTable['output_type'] = 'display_data';\n",
              "          await google.colab.output.renderOutput(dataTable, element);\n",
              "          const docLink = document.createElement('div');\n",
              "          docLink.innerHTML = docLinkHtml;\n",
              "          element.appendChild(docLink);\n",
              "        }\n",
              "      </script>\n",
              "    </div>\n",
              "  </div>\n",
              "  "
            ]
          },
          "metadata": {},
          "execution_count": 14
        }
      ],
      "source": [
        "df_phonedata.head(5)"
      ]
    },
    {
      "cell_type": "markdown",
      "metadata": {
        "id": "amkk-AoxNTAA"
      },
      "source": [
        " **DATA** **PREPROCESSING**"
      ]
    },
    {
      "cell_type": "code",
      "execution_count": 15,
      "metadata": {
        "id": "r14AvcdaFPH1"
      },
      "outputs": [],
      "source": [
        "# Converting unix review time to date-time format\n",
        "\n",
        "#Transforming unixReview time to date time format\n",
        "from datetime import datetime, timedelta\n",
        "df_phonedata['Date&Time'] = df_phonedata['unixReviewTime'].apply(lambda d: (datetime.fromtimestamp(d) - timedelta(hours=2)).strftime('%Y-%m-%d'))"
      ]
    },
    {
      "cell_type": "code",
      "execution_count": 16,
      "metadata": {
        "id": "rhEzTs_vMlH9",
        "colab": {
          "base_uri": "https://localhost:8080/",
          "height": 191
        },
        "outputId": "39cd3c07-ce7d-46b8-d60a-ec54ec24c5d4"
      },
      "outputs": [
        {
          "output_type": "execute_result",
          "data": {
            "text/plain": [
              "   overall  verified      reviewerID        asin                 style  \\\n",
              "0      5.0      True  A24E3SXTC62LJI  7508492919  {'Color:': ' Bling'}   \n",
              "1      5.0      True  A269FLZCB4GIPV  7508492919                   NaN   \n",
              "\n",
              "       reviewerName                                         reviewText  \\\n",
              "0  Claudia Valdivia  Looks even better in person. Be careful to not...   \n",
              "1       sarah ponce  When you don't want to spend a whole lot of ca...   \n",
              "\n",
              "                               summary  unixReviewTime vote image  \\\n",
              "0  Can't stop won't stop looking at it      1407110400  NaN   NaN   \n",
              "1                                    1      1392163200  NaN   NaN   \n",
              "\n",
              "  review_sentiment   Date&Time  \n",
              "0         POSITIVE  2014-08-03  \n",
              "1         POSITIVE  2014-02-11  "
            ],
            "text/html": [
              "\n",
              "  <div id=\"df-35e9645b-e775-4674-8ca2-f6d0325e79ed\">\n",
              "    <div class=\"colab-df-container\">\n",
              "      <div>\n",
              "<style scoped>\n",
              "    .dataframe tbody tr th:only-of-type {\n",
              "        vertical-align: middle;\n",
              "    }\n",
              "\n",
              "    .dataframe tbody tr th {\n",
              "        vertical-align: top;\n",
              "    }\n",
              "\n",
              "    .dataframe thead th {\n",
              "        text-align: right;\n",
              "    }\n",
              "</style>\n",
              "<table border=\"1\" class=\"dataframe\">\n",
              "  <thead>\n",
              "    <tr style=\"text-align: right;\">\n",
              "      <th></th>\n",
              "      <th>overall</th>\n",
              "      <th>verified</th>\n",
              "      <th>reviewerID</th>\n",
              "      <th>asin</th>\n",
              "      <th>style</th>\n",
              "      <th>reviewerName</th>\n",
              "      <th>reviewText</th>\n",
              "      <th>summary</th>\n",
              "      <th>unixReviewTime</th>\n",
              "      <th>vote</th>\n",
              "      <th>image</th>\n",
              "      <th>review_sentiment</th>\n",
              "      <th>Date&amp;Time</th>\n",
              "    </tr>\n",
              "  </thead>\n",
              "  <tbody>\n",
              "    <tr>\n",
              "      <th>0</th>\n",
              "      <td>5.0</td>\n",
              "      <td>True</td>\n",
              "      <td>A24E3SXTC62LJI</td>\n",
              "      <td>7508492919</td>\n",
              "      <td>{'Color:': ' Bling'}</td>\n",
              "      <td>Claudia Valdivia</td>\n",
              "      <td>Looks even better in person. Be careful to not...</td>\n",
              "      <td>Can't stop won't stop looking at it</td>\n",
              "      <td>1407110400</td>\n",
              "      <td>NaN</td>\n",
              "      <td>NaN</td>\n",
              "      <td>POSITIVE</td>\n",
              "      <td>2014-08-03</td>\n",
              "    </tr>\n",
              "    <tr>\n",
              "      <th>1</th>\n",
              "      <td>5.0</td>\n",
              "      <td>True</td>\n",
              "      <td>A269FLZCB4GIPV</td>\n",
              "      <td>7508492919</td>\n",
              "      <td>NaN</td>\n",
              "      <td>sarah ponce</td>\n",
              "      <td>When you don't want to spend a whole lot of ca...</td>\n",
              "      <td>1</td>\n",
              "      <td>1392163200</td>\n",
              "      <td>NaN</td>\n",
              "      <td>NaN</td>\n",
              "      <td>POSITIVE</td>\n",
              "      <td>2014-02-11</td>\n",
              "    </tr>\n",
              "  </tbody>\n",
              "</table>\n",
              "</div>\n",
              "      <button class=\"colab-df-convert\" onclick=\"convertToInteractive('df-35e9645b-e775-4674-8ca2-f6d0325e79ed')\"\n",
              "              title=\"Convert this dataframe to an interactive table.\"\n",
              "              style=\"display:none;\">\n",
              "        \n",
              "  <svg xmlns=\"http://www.w3.org/2000/svg\" height=\"24px\"viewBox=\"0 0 24 24\"\n",
              "       width=\"24px\">\n",
              "    <path d=\"M0 0h24v24H0V0z\" fill=\"none\"/>\n",
              "    <path d=\"M18.56 5.44l.94 2.06.94-2.06 2.06-.94-2.06-.94-.94-2.06-.94 2.06-2.06.94zm-11 1L8.5 8.5l.94-2.06 2.06-.94-2.06-.94L8.5 2.5l-.94 2.06-2.06.94zm10 10l.94 2.06.94-2.06 2.06-.94-2.06-.94-.94-2.06-.94 2.06-2.06.94z\"/><path d=\"M17.41 7.96l-1.37-1.37c-.4-.4-.92-.59-1.43-.59-.52 0-1.04.2-1.43.59L10.3 9.45l-7.72 7.72c-.78.78-.78 2.05 0 2.83L4 21.41c.39.39.9.59 1.41.59.51 0 1.02-.2 1.41-.59l7.78-7.78 2.81-2.81c.8-.78.8-2.07 0-2.86zM5.41 20L4 18.59l7.72-7.72 1.47 1.35L5.41 20z\"/>\n",
              "  </svg>\n",
              "      </button>\n",
              "      \n",
              "  <style>\n",
              "    .colab-df-container {\n",
              "      display:flex;\n",
              "      flex-wrap:wrap;\n",
              "      gap: 12px;\n",
              "    }\n",
              "\n",
              "    .colab-df-convert {\n",
              "      background-color: #E8F0FE;\n",
              "      border: none;\n",
              "      border-radius: 50%;\n",
              "      cursor: pointer;\n",
              "      display: none;\n",
              "      fill: #1967D2;\n",
              "      height: 32px;\n",
              "      padding: 0 0 0 0;\n",
              "      width: 32px;\n",
              "    }\n",
              "\n",
              "    .colab-df-convert:hover {\n",
              "      background-color: #E2EBFA;\n",
              "      box-shadow: 0px 1px 2px rgba(60, 64, 67, 0.3), 0px 1px 3px 1px rgba(60, 64, 67, 0.15);\n",
              "      fill: #174EA6;\n",
              "    }\n",
              "\n",
              "    [theme=dark] .colab-df-convert {\n",
              "      background-color: #3B4455;\n",
              "      fill: #D2E3FC;\n",
              "    }\n",
              "\n",
              "    [theme=dark] .colab-df-convert:hover {\n",
              "      background-color: #434B5C;\n",
              "      box-shadow: 0px 1px 3px 1px rgba(0, 0, 0, 0.15);\n",
              "      filter: drop-shadow(0px 1px 2px rgba(0, 0, 0, 0.3));\n",
              "      fill: #FFFFFF;\n",
              "    }\n",
              "  </style>\n",
              "\n",
              "      <script>\n",
              "        const buttonEl =\n",
              "          document.querySelector('#df-35e9645b-e775-4674-8ca2-f6d0325e79ed button.colab-df-convert');\n",
              "        buttonEl.style.display =\n",
              "          google.colab.kernel.accessAllowed ? 'block' : 'none';\n",
              "\n",
              "        async function convertToInteractive(key) {\n",
              "          const element = document.querySelector('#df-35e9645b-e775-4674-8ca2-f6d0325e79ed');\n",
              "          const dataTable =\n",
              "            await google.colab.kernel.invokeFunction('convertToInteractive',\n",
              "                                                     [key], {});\n",
              "          if (!dataTable) return;\n",
              "\n",
              "          const docLinkHtml = 'Like what you see? Visit the ' +\n",
              "            '<a target=\"_blank\" href=https://colab.research.google.com/notebooks/data_table.ipynb>data table notebook</a>'\n",
              "            + ' to learn more about interactive tables.';\n",
              "          element.innerHTML = '';\n",
              "          dataTable['output_type'] = 'display_data';\n",
              "          await google.colab.output.renderOutput(dataTable, element);\n",
              "          const docLink = document.createElement('div');\n",
              "          docLink.innerHTML = docLinkHtml;\n",
              "          element.appendChild(docLink);\n",
              "        }\n",
              "      </script>\n",
              "    </div>\n",
              "  </div>\n",
              "  "
            ]
          },
          "metadata": {},
          "execution_count": 16
        }
      ],
      "source": [
        "df_phonedata.head(2)"
      ]
    },
    {
      "cell_type": "code",
      "execution_count": 17,
      "metadata": {
        "id": "qvl0OxAvOr-3",
        "colab": {
          "base_uri": "https://localhost:8080/"
        },
        "outputId": "458dc657-cc9b-402e-c549-e49643022086"
      },
      "outputs": [
        {
          "output_type": "stream",
          "name": "stdout",
          "text": [
            "<class 'pandas.core.frame.DataFrame'>\n",
            "RangeIndex: 1128437 entries, 0 to 1128436\n",
            "Data columns (total 13 columns):\n",
            " #   Column            Non-Null Count    Dtype  \n",
            "---  ------            --------------    -----  \n",
            " 0   overall           1128437 non-null  float64\n",
            " 1   verified          1128437 non-null  bool   \n",
            " 2   reviewerID        1128437 non-null  object \n",
            " 3   asin              1128437 non-null  object \n",
            " 4   style             605241 non-null   object \n",
            " 5   reviewerName      1128281 non-null  object \n",
            " 6   reviewText        1127669 non-null  object \n",
            " 7   summary           1127912 non-null  object \n",
            " 8   unixReviewTime    1128437 non-null  int64  \n",
            " 9   vote              92034 non-null    object \n",
            " 10  image             27107 non-null    object \n",
            " 11  review_sentiment  1128437 non-null  object \n",
            " 12  Date&Time         1128437 non-null  object \n",
            "dtypes: bool(1), float64(1), int64(1), object(10)\n",
            "memory usage: 104.4+ MB\n"
          ]
        }
      ],
      "source": [
        "#checking for dataset info\n",
        "df_phonedata.info()"
      ]
    },
    {
      "cell_type": "code",
      "execution_count": 18,
      "metadata": {
        "id": "FgTEuSltO4YE",
        "colab": {
          "base_uri": "https://localhost:8080/"
        },
        "outputId": "016103a9-23e9-4a41-cb24-2fb150da557e"
      },
      "outputs": [
        {
          "output_type": "execute_result",
          "data": {
            "text/plain": [
              "overall                   0\n",
              "verified                  0\n",
              "reviewerID                0\n",
              "asin                      0\n",
              "style                523196\n",
              "reviewerName            156\n",
              "reviewText              768\n",
              "summary                 525\n",
              "unixReviewTime            0\n",
              "vote                1036403\n",
              "image               1101330\n",
              "review_sentiment          0\n",
              "Date&Time                 0\n",
              "dtype: int64"
            ]
          },
          "metadata": {},
          "execution_count": 18
        }
      ],
      "source": [
        "#checking for null values\n",
        "df_phonedata.isnull().sum()"
      ]
    },
    {
      "cell_type": "code",
      "execution_count": 19,
      "metadata": {
        "id": "97RaaViD3aGm"
      },
      "outputs": [],
      "source": [
        "df_phonedata=df_phonedata[~df_phonedata['style'].isnull()]"
      ]
    },
    {
      "cell_type": "code",
      "execution_count": 20,
      "metadata": {
        "id": "oSHSK8B64ZcG",
        "colab": {
          "base_uri": "https://localhost:8080/"
        },
        "outputId": "6bf1ef49-0baf-4e03-a0b0-4df40d4d856e"
      },
      "outputs": [
        {
          "output_type": "execute_result",
          "data": {
            "text/plain": [
              "overall                  0\n",
              "verified                 0\n",
              "reviewerID               0\n",
              "asin                     0\n",
              "style                    0\n",
              "reviewerName            80\n",
              "reviewText             435\n",
              "summary                322\n",
              "unixReviewTime           0\n",
              "vote                557363\n",
              "image               589137\n",
              "review_sentiment         0\n",
              "Date&Time                0\n",
              "dtype: int64"
            ]
          },
          "metadata": {},
          "execution_count": 20
        }
      ],
      "source": [
        "df_phonedata.isnull().sum()"
      ]
    },
    {
      "cell_type": "code",
      "execution_count": 21,
      "metadata": {
        "id": "RQ4hbn9l4iZ0"
      },
      "outputs": [],
      "source": [
        "#dropping the columns with null vlues\n",
        "df_phonedata.drop(['vote','image',],axis=1,inplace=True)"
      ]
    },
    {
      "cell_type": "code",
      "execution_count": 22,
      "metadata": {
        "id": "qQiqfDhJ6g9q",
        "colab": {
          "base_uri": "https://localhost:8080/",
          "height": 337
        },
        "outputId": "b3d8155f-b409-43b5-8323-684d4292723a"
      },
      "outputs": [
        {
          "output_type": "execute_result",
          "data": {
            "text/plain": [
              "     overall  verified      reviewerID        asin                 style  \\\n",
              "0        5.0      True  A24E3SXTC62LJI  7508492919  {'Color:': ' Bling'}   \n",
              "226      5.0      True  A1TNHWAM2GJ08G  961301375X  {'Color:': ' White'}   \n",
              "227      5.0      True   AXGPQOWI0CF39  961301375X  {'Color:': ' White'}   \n",
              "228      5.0      True  A1SI6TJGULNBSM  961301375X  {'Color:': ' White'}   \n",
              "229      1.0      True  A1KGX6ZUP9BVIZ  961301375X  {'Color:': ' White'}   \n",
              "\n",
              "         reviewerName                                         reviewText  \\\n",
              "0    Claudia Valdivia  Looks even better in person. Be careful to not...   \n",
              "226        P. Latella  this charger is amazing. Fantastic long cord a...   \n",
              "227             TimB.  I am very satisfied with this product! It came...   \n",
              "228   Reashea Thigpen  It works good, the light is quite bright, but ...   \n",
              "229             h l m  waste of time and money. Light stays on but it...   \n",
              "\n",
              "                                      summary  unixReviewTime  \\\n",
              "0         Can't stop won't stop looking at it      1407110400   \n",
              "226                       Perfect works great      1392076800   \n",
              "227                   Very Nice Looking Item!      1391212800   \n",
              "228  It works good, the light is quite bright      1420675200   \n",
              "229                                  One Star      1418515200   \n",
              "\n",
              "    review_sentiment   Date&Time  \n",
              "0           POSITIVE  2014-08-03  \n",
              "226         POSITIVE  2014-02-10  \n",
              "227         POSITIVE  2014-01-31  \n",
              "228         POSITIVE  2015-01-07  \n",
              "229         POSITIVE  2014-12-13  "
            ],
            "text/html": [
              "\n",
              "  <div id=\"df-844373f2-b80a-466f-b197-e43a3adb6d24\">\n",
              "    <div class=\"colab-df-container\">\n",
              "      <div>\n",
              "<style scoped>\n",
              "    .dataframe tbody tr th:only-of-type {\n",
              "        vertical-align: middle;\n",
              "    }\n",
              "\n",
              "    .dataframe tbody tr th {\n",
              "        vertical-align: top;\n",
              "    }\n",
              "\n",
              "    .dataframe thead th {\n",
              "        text-align: right;\n",
              "    }\n",
              "</style>\n",
              "<table border=\"1\" class=\"dataframe\">\n",
              "  <thead>\n",
              "    <tr style=\"text-align: right;\">\n",
              "      <th></th>\n",
              "      <th>overall</th>\n",
              "      <th>verified</th>\n",
              "      <th>reviewerID</th>\n",
              "      <th>asin</th>\n",
              "      <th>style</th>\n",
              "      <th>reviewerName</th>\n",
              "      <th>reviewText</th>\n",
              "      <th>summary</th>\n",
              "      <th>unixReviewTime</th>\n",
              "      <th>review_sentiment</th>\n",
              "      <th>Date&amp;Time</th>\n",
              "    </tr>\n",
              "  </thead>\n",
              "  <tbody>\n",
              "    <tr>\n",
              "      <th>0</th>\n",
              "      <td>5.0</td>\n",
              "      <td>True</td>\n",
              "      <td>A24E3SXTC62LJI</td>\n",
              "      <td>7508492919</td>\n",
              "      <td>{'Color:': ' Bling'}</td>\n",
              "      <td>Claudia Valdivia</td>\n",
              "      <td>Looks even better in person. Be careful to not...</td>\n",
              "      <td>Can't stop won't stop looking at it</td>\n",
              "      <td>1407110400</td>\n",
              "      <td>POSITIVE</td>\n",
              "      <td>2014-08-03</td>\n",
              "    </tr>\n",
              "    <tr>\n",
              "      <th>226</th>\n",
              "      <td>5.0</td>\n",
              "      <td>True</td>\n",
              "      <td>A1TNHWAM2GJ08G</td>\n",
              "      <td>961301375X</td>\n",
              "      <td>{'Color:': ' White'}</td>\n",
              "      <td>P. Latella</td>\n",
              "      <td>this charger is amazing. Fantastic long cord a...</td>\n",
              "      <td>Perfect works great</td>\n",
              "      <td>1392076800</td>\n",
              "      <td>POSITIVE</td>\n",
              "      <td>2014-02-10</td>\n",
              "    </tr>\n",
              "    <tr>\n",
              "      <th>227</th>\n",
              "      <td>5.0</td>\n",
              "      <td>True</td>\n",
              "      <td>AXGPQOWI0CF39</td>\n",
              "      <td>961301375X</td>\n",
              "      <td>{'Color:': ' White'}</td>\n",
              "      <td>TimB.</td>\n",
              "      <td>I am very satisfied with this product! It came...</td>\n",
              "      <td>Very Nice Looking Item!</td>\n",
              "      <td>1391212800</td>\n",
              "      <td>POSITIVE</td>\n",
              "      <td>2014-01-31</td>\n",
              "    </tr>\n",
              "    <tr>\n",
              "      <th>228</th>\n",
              "      <td>5.0</td>\n",
              "      <td>True</td>\n",
              "      <td>A1SI6TJGULNBSM</td>\n",
              "      <td>961301375X</td>\n",
              "      <td>{'Color:': ' White'}</td>\n",
              "      <td>Reashea Thigpen</td>\n",
              "      <td>It works good, the light is quite bright, but ...</td>\n",
              "      <td>It works good, the light is quite bright</td>\n",
              "      <td>1420675200</td>\n",
              "      <td>POSITIVE</td>\n",
              "      <td>2015-01-07</td>\n",
              "    </tr>\n",
              "    <tr>\n",
              "      <th>229</th>\n",
              "      <td>1.0</td>\n",
              "      <td>True</td>\n",
              "      <td>A1KGX6ZUP9BVIZ</td>\n",
              "      <td>961301375X</td>\n",
              "      <td>{'Color:': ' White'}</td>\n",
              "      <td>h l m</td>\n",
              "      <td>waste of time and money. Light stays on but it...</td>\n",
              "      <td>One Star</td>\n",
              "      <td>1418515200</td>\n",
              "      <td>POSITIVE</td>\n",
              "      <td>2014-12-13</td>\n",
              "    </tr>\n",
              "  </tbody>\n",
              "</table>\n",
              "</div>\n",
              "      <button class=\"colab-df-convert\" onclick=\"convertToInteractive('df-844373f2-b80a-466f-b197-e43a3adb6d24')\"\n",
              "              title=\"Convert this dataframe to an interactive table.\"\n",
              "              style=\"display:none;\">\n",
              "        \n",
              "  <svg xmlns=\"http://www.w3.org/2000/svg\" height=\"24px\"viewBox=\"0 0 24 24\"\n",
              "       width=\"24px\">\n",
              "    <path d=\"M0 0h24v24H0V0z\" fill=\"none\"/>\n",
              "    <path d=\"M18.56 5.44l.94 2.06.94-2.06 2.06-.94-2.06-.94-.94-2.06-.94 2.06-2.06.94zm-11 1L8.5 8.5l.94-2.06 2.06-.94-2.06-.94L8.5 2.5l-.94 2.06-2.06.94zm10 10l.94 2.06.94-2.06 2.06-.94-2.06-.94-.94-2.06-.94 2.06-2.06.94z\"/><path d=\"M17.41 7.96l-1.37-1.37c-.4-.4-.92-.59-1.43-.59-.52 0-1.04.2-1.43.59L10.3 9.45l-7.72 7.72c-.78.78-.78 2.05 0 2.83L4 21.41c.39.39.9.59 1.41.59.51 0 1.02-.2 1.41-.59l7.78-7.78 2.81-2.81c.8-.78.8-2.07 0-2.86zM5.41 20L4 18.59l7.72-7.72 1.47 1.35L5.41 20z\"/>\n",
              "  </svg>\n",
              "      </button>\n",
              "      \n",
              "  <style>\n",
              "    .colab-df-container {\n",
              "      display:flex;\n",
              "      flex-wrap:wrap;\n",
              "      gap: 12px;\n",
              "    }\n",
              "\n",
              "    .colab-df-convert {\n",
              "      background-color: #E8F0FE;\n",
              "      border: none;\n",
              "      border-radius: 50%;\n",
              "      cursor: pointer;\n",
              "      display: none;\n",
              "      fill: #1967D2;\n",
              "      height: 32px;\n",
              "      padding: 0 0 0 0;\n",
              "      width: 32px;\n",
              "    }\n",
              "\n",
              "    .colab-df-convert:hover {\n",
              "      background-color: #E2EBFA;\n",
              "      box-shadow: 0px 1px 2px rgba(60, 64, 67, 0.3), 0px 1px 3px 1px rgba(60, 64, 67, 0.15);\n",
              "      fill: #174EA6;\n",
              "    }\n",
              "\n",
              "    [theme=dark] .colab-df-convert {\n",
              "      background-color: #3B4455;\n",
              "      fill: #D2E3FC;\n",
              "    }\n",
              "\n",
              "    [theme=dark] .colab-df-convert:hover {\n",
              "      background-color: #434B5C;\n",
              "      box-shadow: 0px 1px 3px 1px rgba(0, 0, 0, 0.15);\n",
              "      filter: drop-shadow(0px 1px 2px rgba(0, 0, 0, 0.3));\n",
              "      fill: #FFFFFF;\n",
              "    }\n",
              "  </style>\n",
              "\n",
              "      <script>\n",
              "        const buttonEl =\n",
              "          document.querySelector('#df-844373f2-b80a-466f-b197-e43a3adb6d24 button.colab-df-convert');\n",
              "        buttonEl.style.display =\n",
              "          google.colab.kernel.accessAllowed ? 'block' : 'none';\n",
              "\n",
              "        async function convertToInteractive(key) {\n",
              "          const element = document.querySelector('#df-844373f2-b80a-466f-b197-e43a3adb6d24');\n",
              "          const dataTable =\n",
              "            await google.colab.kernel.invokeFunction('convertToInteractive',\n",
              "                                                     [key], {});\n",
              "          if (!dataTable) return;\n",
              "\n",
              "          const docLinkHtml = 'Like what you see? Visit the ' +\n",
              "            '<a target=\"_blank\" href=https://colab.research.google.com/notebooks/data_table.ipynb>data table notebook</a>'\n",
              "            + ' to learn more about interactive tables.';\n",
              "          element.innerHTML = '';\n",
              "          dataTable['output_type'] = 'display_data';\n",
              "          await google.colab.output.renderOutput(dataTable, element);\n",
              "          const docLink = document.createElement('div');\n",
              "          docLink.innerHTML = docLinkHtml;\n",
              "          element.appendChild(docLink);\n",
              "        }\n",
              "      </script>\n",
              "    </div>\n",
              "  </div>\n",
              "  "
            ]
          },
          "metadata": {},
          "execution_count": 22
        }
      ],
      "source": [
        "df_phonedata.head()"
      ]
    },
    {
      "cell_type": "code",
      "execution_count": 23,
      "metadata": {
        "id": "Vs7Az4td8Yex"
      },
      "outputs": [],
      "source": [
        "df_phonedata.drop(['unixReviewTime'],axis=1,inplace=True)"
      ]
    },
    {
      "cell_type": "code",
      "execution_count": 24,
      "metadata": {
        "id": "SMqEZiq08jcE",
        "colab": {
          "base_uri": "https://localhost:8080/",
          "height": 337
        },
        "outputId": "1f5f8486-ee3d-4d8f-9069-d99d06ef5056"
      },
      "outputs": [
        {
          "output_type": "execute_result",
          "data": {
            "text/plain": [
              "     overall  verified      reviewerID        asin                 style  \\\n",
              "0        5.0      True  A24E3SXTC62LJI  7508492919  {'Color:': ' Bling'}   \n",
              "226      5.0      True  A1TNHWAM2GJ08G  961301375X  {'Color:': ' White'}   \n",
              "227      5.0      True   AXGPQOWI0CF39  961301375X  {'Color:': ' White'}   \n",
              "228      5.0      True  A1SI6TJGULNBSM  961301375X  {'Color:': ' White'}   \n",
              "229      1.0      True  A1KGX6ZUP9BVIZ  961301375X  {'Color:': ' White'}   \n",
              "\n",
              "         reviewerName                                         reviewText  \\\n",
              "0    Claudia Valdivia  Looks even better in person. Be careful to not...   \n",
              "226        P. Latella  this charger is amazing. Fantastic long cord a...   \n",
              "227             TimB.  I am very satisfied with this product! It came...   \n",
              "228   Reashea Thigpen  It works good, the light is quite bright, but ...   \n",
              "229             h l m  waste of time and money. Light stays on but it...   \n",
              "\n",
              "                                      summary review_sentiment   Date&Time  \n",
              "0         Can't stop won't stop looking at it         POSITIVE  2014-08-03  \n",
              "226                       Perfect works great         POSITIVE  2014-02-10  \n",
              "227                   Very Nice Looking Item!         POSITIVE  2014-01-31  \n",
              "228  It works good, the light is quite bright         POSITIVE  2015-01-07  \n",
              "229                                  One Star         POSITIVE  2014-12-13  "
            ],
            "text/html": [
              "\n",
              "  <div id=\"df-ac6da8fd-2919-43d6-90a6-5f92b219bd3c\">\n",
              "    <div class=\"colab-df-container\">\n",
              "      <div>\n",
              "<style scoped>\n",
              "    .dataframe tbody tr th:only-of-type {\n",
              "        vertical-align: middle;\n",
              "    }\n",
              "\n",
              "    .dataframe tbody tr th {\n",
              "        vertical-align: top;\n",
              "    }\n",
              "\n",
              "    .dataframe thead th {\n",
              "        text-align: right;\n",
              "    }\n",
              "</style>\n",
              "<table border=\"1\" class=\"dataframe\">\n",
              "  <thead>\n",
              "    <tr style=\"text-align: right;\">\n",
              "      <th></th>\n",
              "      <th>overall</th>\n",
              "      <th>verified</th>\n",
              "      <th>reviewerID</th>\n",
              "      <th>asin</th>\n",
              "      <th>style</th>\n",
              "      <th>reviewerName</th>\n",
              "      <th>reviewText</th>\n",
              "      <th>summary</th>\n",
              "      <th>review_sentiment</th>\n",
              "      <th>Date&amp;Time</th>\n",
              "    </tr>\n",
              "  </thead>\n",
              "  <tbody>\n",
              "    <tr>\n",
              "      <th>0</th>\n",
              "      <td>5.0</td>\n",
              "      <td>True</td>\n",
              "      <td>A24E3SXTC62LJI</td>\n",
              "      <td>7508492919</td>\n",
              "      <td>{'Color:': ' Bling'}</td>\n",
              "      <td>Claudia Valdivia</td>\n",
              "      <td>Looks even better in person. Be careful to not...</td>\n",
              "      <td>Can't stop won't stop looking at it</td>\n",
              "      <td>POSITIVE</td>\n",
              "      <td>2014-08-03</td>\n",
              "    </tr>\n",
              "    <tr>\n",
              "      <th>226</th>\n",
              "      <td>5.0</td>\n",
              "      <td>True</td>\n",
              "      <td>A1TNHWAM2GJ08G</td>\n",
              "      <td>961301375X</td>\n",
              "      <td>{'Color:': ' White'}</td>\n",
              "      <td>P. Latella</td>\n",
              "      <td>this charger is amazing. Fantastic long cord a...</td>\n",
              "      <td>Perfect works great</td>\n",
              "      <td>POSITIVE</td>\n",
              "      <td>2014-02-10</td>\n",
              "    </tr>\n",
              "    <tr>\n",
              "      <th>227</th>\n",
              "      <td>5.0</td>\n",
              "      <td>True</td>\n",
              "      <td>AXGPQOWI0CF39</td>\n",
              "      <td>961301375X</td>\n",
              "      <td>{'Color:': ' White'}</td>\n",
              "      <td>TimB.</td>\n",
              "      <td>I am very satisfied with this product! It came...</td>\n",
              "      <td>Very Nice Looking Item!</td>\n",
              "      <td>POSITIVE</td>\n",
              "      <td>2014-01-31</td>\n",
              "    </tr>\n",
              "    <tr>\n",
              "      <th>228</th>\n",
              "      <td>5.0</td>\n",
              "      <td>True</td>\n",
              "      <td>A1SI6TJGULNBSM</td>\n",
              "      <td>961301375X</td>\n",
              "      <td>{'Color:': ' White'}</td>\n",
              "      <td>Reashea Thigpen</td>\n",
              "      <td>It works good, the light is quite bright, but ...</td>\n",
              "      <td>It works good, the light is quite bright</td>\n",
              "      <td>POSITIVE</td>\n",
              "      <td>2015-01-07</td>\n",
              "    </tr>\n",
              "    <tr>\n",
              "      <th>229</th>\n",
              "      <td>1.0</td>\n",
              "      <td>True</td>\n",
              "      <td>A1KGX6ZUP9BVIZ</td>\n",
              "      <td>961301375X</td>\n",
              "      <td>{'Color:': ' White'}</td>\n",
              "      <td>h l m</td>\n",
              "      <td>waste of time and money. Light stays on but it...</td>\n",
              "      <td>One Star</td>\n",
              "      <td>POSITIVE</td>\n",
              "      <td>2014-12-13</td>\n",
              "    </tr>\n",
              "  </tbody>\n",
              "</table>\n",
              "</div>\n",
              "      <button class=\"colab-df-convert\" onclick=\"convertToInteractive('df-ac6da8fd-2919-43d6-90a6-5f92b219bd3c')\"\n",
              "              title=\"Convert this dataframe to an interactive table.\"\n",
              "              style=\"display:none;\">\n",
              "        \n",
              "  <svg xmlns=\"http://www.w3.org/2000/svg\" height=\"24px\"viewBox=\"0 0 24 24\"\n",
              "       width=\"24px\">\n",
              "    <path d=\"M0 0h24v24H0V0z\" fill=\"none\"/>\n",
              "    <path d=\"M18.56 5.44l.94 2.06.94-2.06 2.06-.94-2.06-.94-.94-2.06-.94 2.06-2.06.94zm-11 1L8.5 8.5l.94-2.06 2.06-.94-2.06-.94L8.5 2.5l-.94 2.06-2.06.94zm10 10l.94 2.06.94-2.06 2.06-.94-2.06-.94-.94-2.06-.94 2.06-2.06.94z\"/><path d=\"M17.41 7.96l-1.37-1.37c-.4-.4-.92-.59-1.43-.59-.52 0-1.04.2-1.43.59L10.3 9.45l-7.72 7.72c-.78.78-.78 2.05 0 2.83L4 21.41c.39.39.9.59 1.41.59.51 0 1.02-.2 1.41-.59l7.78-7.78 2.81-2.81c.8-.78.8-2.07 0-2.86zM5.41 20L4 18.59l7.72-7.72 1.47 1.35L5.41 20z\"/>\n",
              "  </svg>\n",
              "      </button>\n",
              "      \n",
              "  <style>\n",
              "    .colab-df-container {\n",
              "      display:flex;\n",
              "      flex-wrap:wrap;\n",
              "      gap: 12px;\n",
              "    }\n",
              "\n",
              "    .colab-df-convert {\n",
              "      background-color: #E8F0FE;\n",
              "      border: none;\n",
              "      border-radius: 50%;\n",
              "      cursor: pointer;\n",
              "      display: none;\n",
              "      fill: #1967D2;\n",
              "      height: 32px;\n",
              "      padding: 0 0 0 0;\n",
              "      width: 32px;\n",
              "    }\n",
              "\n",
              "    .colab-df-convert:hover {\n",
              "      background-color: #E2EBFA;\n",
              "      box-shadow: 0px 1px 2px rgba(60, 64, 67, 0.3), 0px 1px 3px 1px rgba(60, 64, 67, 0.15);\n",
              "      fill: #174EA6;\n",
              "    }\n",
              "\n",
              "    [theme=dark] .colab-df-convert {\n",
              "      background-color: #3B4455;\n",
              "      fill: #D2E3FC;\n",
              "    }\n",
              "\n",
              "    [theme=dark] .colab-df-convert:hover {\n",
              "      background-color: #434B5C;\n",
              "      box-shadow: 0px 1px 3px 1px rgba(0, 0, 0, 0.15);\n",
              "      filter: drop-shadow(0px 1px 2px rgba(0, 0, 0, 0.3));\n",
              "      fill: #FFFFFF;\n",
              "    }\n",
              "  </style>\n",
              "\n",
              "      <script>\n",
              "        const buttonEl =\n",
              "          document.querySelector('#df-ac6da8fd-2919-43d6-90a6-5f92b219bd3c button.colab-df-convert');\n",
              "        buttonEl.style.display =\n",
              "          google.colab.kernel.accessAllowed ? 'block' : 'none';\n",
              "\n",
              "        async function convertToInteractive(key) {\n",
              "          const element = document.querySelector('#df-ac6da8fd-2919-43d6-90a6-5f92b219bd3c');\n",
              "          const dataTable =\n",
              "            await google.colab.kernel.invokeFunction('convertToInteractive',\n",
              "                                                     [key], {});\n",
              "          if (!dataTable) return;\n",
              "\n",
              "          const docLinkHtml = 'Like what you see? Visit the ' +\n",
              "            '<a target=\"_blank\" href=https://colab.research.google.com/notebooks/data_table.ipynb>data table notebook</a>'\n",
              "            + ' to learn more about interactive tables.';\n",
              "          element.innerHTML = '';\n",
              "          dataTable['output_type'] = 'display_data';\n",
              "          await google.colab.output.renderOutput(dataTable, element);\n",
              "          const docLink = document.createElement('div');\n",
              "          docLink.innerHTML = docLinkHtml;\n",
              "          element.appendChild(docLink);\n",
              "        }\n",
              "      </script>\n",
              "    </div>\n",
              "  </div>\n",
              "  "
            ]
          },
          "metadata": {},
          "execution_count": 24
        }
      ],
      "source": [
        "df_phonedata.head()"
      ]
    },
    {
      "cell_type": "code",
      "execution_count": 25,
      "metadata": {
        "id": "2Hhhqt1a8nGT",
        "colab": {
          "base_uri": "https://localhost:8080/"
        },
        "outputId": "105c1cdb-22dc-4ba4-92a5-50fa39f25692"
      },
      "outputs": [
        {
          "output_type": "execute_result",
          "data": {
            "text/plain": [
              "(605241, 10)"
            ]
          },
          "metadata": {},
          "execution_count": 25
        }
      ],
      "source": [
        "df_phonedata.shape"
      ]
    },
    {
      "cell_type": "code",
      "execution_count": 26,
      "metadata": {
        "id": "w90D_TbJ8thk",
        "colab": {
          "base_uri": "https://localhost:8080/",
          "height": 300
        },
        "outputId": "60d4cb25-dc4e-4f18-dab8-7f88c91be3e2"
      },
      "outputs": [
        {
          "output_type": "execute_result",
          "data": {
            "text/plain": [
              "             overall\n",
              "count  605241.000000\n",
              "mean        4.257537\n",
              "std         1.198782\n",
              "min         1.000000\n",
              "25%         4.000000\n",
              "50%         5.000000\n",
              "75%         5.000000\n",
              "max         5.000000"
            ],
            "text/html": [
              "\n",
              "  <div id=\"df-70469cad-bc73-4554-87b5-064677b5f53f\">\n",
              "    <div class=\"colab-df-container\">\n",
              "      <div>\n",
              "<style scoped>\n",
              "    .dataframe tbody tr th:only-of-type {\n",
              "        vertical-align: middle;\n",
              "    }\n",
              "\n",
              "    .dataframe tbody tr th {\n",
              "        vertical-align: top;\n",
              "    }\n",
              "\n",
              "    .dataframe thead th {\n",
              "        text-align: right;\n",
              "    }\n",
              "</style>\n",
              "<table border=\"1\" class=\"dataframe\">\n",
              "  <thead>\n",
              "    <tr style=\"text-align: right;\">\n",
              "      <th></th>\n",
              "      <th>overall</th>\n",
              "    </tr>\n",
              "  </thead>\n",
              "  <tbody>\n",
              "    <tr>\n",
              "      <th>count</th>\n",
              "      <td>605241.000000</td>\n",
              "    </tr>\n",
              "    <tr>\n",
              "      <th>mean</th>\n",
              "      <td>4.257537</td>\n",
              "    </tr>\n",
              "    <tr>\n",
              "      <th>std</th>\n",
              "      <td>1.198782</td>\n",
              "    </tr>\n",
              "    <tr>\n",
              "      <th>min</th>\n",
              "      <td>1.000000</td>\n",
              "    </tr>\n",
              "    <tr>\n",
              "      <th>25%</th>\n",
              "      <td>4.000000</td>\n",
              "    </tr>\n",
              "    <tr>\n",
              "      <th>50%</th>\n",
              "      <td>5.000000</td>\n",
              "    </tr>\n",
              "    <tr>\n",
              "      <th>75%</th>\n",
              "      <td>5.000000</td>\n",
              "    </tr>\n",
              "    <tr>\n",
              "      <th>max</th>\n",
              "      <td>5.000000</td>\n",
              "    </tr>\n",
              "  </tbody>\n",
              "</table>\n",
              "</div>\n",
              "      <button class=\"colab-df-convert\" onclick=\"convertToInteractive('df-70469cad-bc73-4554-87b5-064677b5f53f')\"\n",
              "              title=\"Convert this dataframe to an interactive table.\"\n",
              "              style=\"display:none;\">\n",
              "        \n",
              "  <svg xmlns=\"http://www.w3.org/2000/svg\" height=\"24px\"viewBox=\"0 0 24 24\"\n",
              "       width=\"24px\">\n",
              "    <path d=\"M0 0h24v24H0V0z\" fill=\"none\"/>\n",
              "    <path d=\"M18.56 5.44l.94 2.06.94-2.06 2.06-.94-2.06-.94-.94-2.06-.94 2.06-2.06.94zm-11 1L8.5 8.5l.94-2.06 2.06-.94-2.06-.94L8.5 2.5l-.94 2.06-2.06.94zm10 10l.94 2.06.94-2.06 2.06-.94-2.06-.94-.94-2.06-.94 2.06-2.06.94z\"/><path d=\"M17.41 7.96l-1.37-1.37c-.4-.4-.92-.59-1.43-.59-.52 0-1.04.2-1.43.59L10.3 9.45l-7.72 7.72c-.78.78-.78 2.05 0 2.83L4 21.41c.39.39.9.59 1.41.59.51 0 1.02-.2 1.41-.59l7.78-7.78 2.81-2.81c.8-.78.8-2.07 0-2.86zM5.41 20L4 18.59l7.72-7.72 1.47 1.35L5.41 20z\"/>\n",
              "  </svg>\n",
              "      </button>\n",
              "      \n",
              "  <style>\n",
              "    .colab-df-container {\n",
              "      display:flex;\n",
              "      flex-wrap:wrap;\n",
              "      gap: 12px;\n",
              "    }\n",
              "\n",
              "    .colab-df-convert {\n",
              "      background-color: #E8F0FE;\n",
              "      border: none;\n",
              "      border-radius: 50%;\n",
              "      cursor: pointer;\n",
              "      display: none;\n",
              "      fill: #1967D2;\n",
              "      height: 32px;\n",
              "      padding: 0 0 0 0;\n",
              "      width: 32px;\n",
              "    }\n",
              "\n",
              "    .colab-df-convert:hover {\n",
              "      background-color: #E2EBFA;\n",
              "      box-shadow: 0px 1px 2px rgba(60, 64, 67, 0.3), 0px 1px 3px 1px rgba(60, 64, 67, 0.15);\n",
              "      fill: #174EA6;\n",
              "    }\n",
              "\n",
              "    [theme=dark] .colab-df-convert {\n",
              "      background-color: #3B4455;\n",
              "      fill: #D2E3FC;\n",
              "    }\n",
              "\n",
              "    [theme=dark] .colab-df-convert:hover {\n",
              "      background-color: #434B5C;\n",
              "      box-shadow: 0px 1px 3px 1px rgba(0, 0, 0, 0.15);\n",
              "      filter: drop-shadow(0px 1px 2px rgba(0, 0, 0, 0.3));\n",
              "      fill: #FFFFFF;\n",
              "    }\n",
              "  </style>\n",
              "\n",
              "      <script>\n",
              "        const buttonEl =\n",
              "          document.querySelector('#df-70469cad-bc73-4554-87b5-064677b5f53f button.colab-df-convert');\n",
              "        buttonEl.style.display =\n",
              "          google.colab.kernel.accessAllowed ? 'block' : 'none';\n",
              "\n",
              "        async function convertToInteractive(key) {\n",
              "          const element = document.querySelector('#df-70469cad-bc73-4554-87b5-064677b5f53f');\n",
              "          const dataTable =\n",
              "            await google.colab.kernel.invokeFunction('convertToInteractive',\n",
              "                                                     [key], {});\n",
              "          if (!dataTable) return;\n",
              "\n",
              "          const docLinkHtml = 'Like what you see? Visit the ' +\n",
              "            '<a target=\"_blank\" href=https://colab.research.google.com/notebooks/data_table.ipynb>data table notebook</a>'\n",
              "            + ' to learn more about interactive tables.';\n",
              "          element.innerHTML = '';\n",
              "          dataTable['output_type'] = 'display_data';\n",
              "          await google.colab.output.renderOutput(dataTable, element);\n",
              "          const docLink = document.createElement('div');\n",
              "          docLink.innerHTML = docLinkHtml;\n",
              "          element.appendChild(docLink);\n",
              "        }\n",
              "      </script>\n",
              "    </div>\n",
              "  </div>\n",
              "  "
            ]
          },
          "metadata": {},
          "execution_count": 26
        }
      ],
      "source": [
        "df_phonedata.describe()"
      ]
    },
    {
      "cell_type": "code",
      "execution_count": 27,
      "metadata": {
        "id": "enuSKQ8U8zHg",
        "colab": {
          "base_uri": "https://localhost:8080/",
          "height": 704
        },
        "outputId": "ff8ad9fd-b8d3-4708-b163-a80c83a4c6da"
      },
      "outputs": [
        {
          "output_type": "execute_result",
          "data": {
            "text/plain": [
              "   Unnamed: 0                                           category tech1  \\\n",
              "0           0  ['Cell Phones & Accessories', 'Accessories', '...   NaN   \n",
              "1           1  ['Cell Phones & Accessories', 'Accessories', '...   NaN   \n",
              "2           2  ['Cell Phones & Accessories', 'Cases, Holsters...   NaN   \n",
              "3           3  ['Cell Phones & Accessories', 'Cases, Holsters...   NaN   \n",
              "4           4  ['Cell Phones & Accessories', 'Cases, Holsters...   NaN   \n",
              "\n",
              "                                         description  fit  \\\n",
              "0                                                 []  NaN   \n",
              "1                                                 []  NaN   \n",
              "2  ['New items to give you a new good mood, welco...  NaN   \n",
              "3  ['A brand-new, unused, unopened, undamaged ite...  NaN   \n",
              "4  ['A brand-new, unused, unopened, undamaged ite...  NaN   \n",
              "\n",
              "                                               title also_buy image tech2  \\\n",
              "0                     Trollies Sing a Long Party VHS       []    []   NaN   \n",
              "1                                        La Pura VHS       []    []   NaN   \n",
              "2  Leopard Thanksgiving Easter PC Black Case for ...       []    []   NaN   \n",
              "3  Puppies Faceplate Hard Case Protector for Net1...       []    []   NaN   \n",
              "4  White Wolf Faceplate Protector Hard Case for S...       []    []   NaN   \n",
              "\n",
              "               brand                                            feature  \\\n",
              "0                NaN                                                 []   \n",
              "1    Maribel Guardia                                                 []   \n",
              "2                NaN                                                 []   \n",
              "3         Live2Pedal  ['Protect your phone with style through this A...   \n",
              "4  wirelessoutletusa  ['Protect your phone with style through this A...   \n",
              "\n",
              "                                                rank also_view  \\\n",
              "0                           557,379 in Movies & TV (        []   \n",
              "1                         1,024,449 in Movies & TV (        []   \n",
              "2                               5,315,017 in Books (        []   \n",
              "3  ['>#6,368,825 in Cell Phones & Accessories (Se...        []   \n",
              "4  ['>#2,672,454 in Cell Phones & Accessories (Se...        []   \n",
              "\n",
              "                                             details  \\\n",
              "0                           {'ASIN: ': '6303195164'}   \n",
              "1                           {'ASIN: ': '630524412X'}   \n",
              "2  {'Publisher:': 'juduiou', 'ASIN:': '6310200240...   \n",
              "3                                                 {}   \n",
              "4                                                 {}   \n",
              "\n",
              "                    main_cat similar_item date price        asin  \n",
              "0                Movies & TV          NaN  NaN   NaN  6303195164  \n",
              "1                Movies & TV          NaN  NaN   NaN  630524412X  \n",
              "2                      Books          NaN  NaN   NaN  6310200240  \n",
              "3  Cell Phones & Accessories          NaN  NaN   NaN  6786501710  \n",
              "4  Cell Phones & Accessories          NaN  NaN   NaN  6786501273  "
            ],
            "text/html": [
              "\n",
              "  <div id=\"df-39063deb-78f7-4bcd-918b-68f753a56793\">\n",
              "    <div class=\"colab-df-container\">\n",
              "      <div>\n",
              "<style scoped>\n",
              "    .dataframe tbody tr th:only-of-type {\n",
              "        vertical-align: middle;\n",
              "    }\n",
              "\n",
              "    .dataframe tbody tr th {\n",
              "        vertical-align: top;\n",
              "    }\n",
              "\n",
              "    .dataframe thead th {\n",
              "        text-align: right;\n",
              "    }\n",
              "</style>\n",
              "<table border=\"1\" class=\"dataframe\">\n",
              "  <thead>\n",
              "    <tr style=\"text-align: right;\">\n",
              "      <th></th>\n",
              "      <th>Unnamed: 0</th>\n",
              "      <th>category</th>\n",
              "      <th>tech1</th>\n",
              "      <th>description</th>\n",
              "      <th>fit</th>\n",
              "      <th>title</th>\n",
              "      <th>also_buy</th>\n",
              "      <th>image</th>\n",
              "      <th>tech2</th>\n",
              "      <th>brand</th>\n",
              "      <th>feature</th>\n",
              "      <th>rank</th>\n",
              "      <th>also_view</th>\n",
              "      <th>details</th>\n",
              "      <th>main_cat</th>\n",
              "      <th>similar_item</th>\n",
              "      <th>date</th>\n",
              "      <th>price</th>\n",
              "      <th>asin</th>\n",
              "    </tr>\n",
              "  </thead>\n",
              "  <tbody>\n",
              "    <tr>\n",
              "      <th>0</th>\n",
              "      <td>0</td>\n",
              "      <td>['Cell Phones &amp; Accessories', 'Accessories', '...</td>\n",
              "      <td>NaN</td>\n",
              "      <td>[]</td>\n",
              "      <td>NaN</td>\n",
              "      <td>Trollies Sing a Long Party VHS</td>\n",
              "      <td>[]</td>\n",
              "      <td>[]</td>\n",
              "      <td>NaN</td>\n",
              "      <td>NaN</td>\n",
              "      <td>[]</td>\n",
              "      <td>557,379 in Movies &amp; TV (</td>\n",
              "      <td>[]</td>\n",
              "      <td>{'ASIN: ': '6303195164'}</td>\n",
              "      <td>Movies &amp; TV</td>\n",
              "      <td>NaN</td>\n",
              "      <td>NaN</td>\n",
              "      <td>NaN</td>\n",
              "      <td>6303195164</td>\n",
              "    </tr>\n",
              "    <tr>\n",
              "      <th>1</th>\n",
              "      <td>1</td>\n",
              "      <td>['Cell Phones &amp; Accessories', 'Accessories', '...</td>\n",
              "      <td>NaN</td>\n",
              "      <td>[]</td>\n",
              "      <td>NaN</td>\n",
              "      <td>La Pura VHS</td>\n",
              "      <td>[]</td>\n",
              "      <td>[]</td>\n",
              "      <td>NaN</td>\n",
              "      <td>Maribel Guardia</td>\n",
              "      <td>[]</td>\n",
              "      <td>1,024,449 in Movies &amp; TV (</td>\n",
              "      <td>[]</td>\n",
              "      <td>{'ASIN: ': '630524412X'}</td>\n",
              "      <td>Movies &amp; TV</td>\n",
              "      <td>NaN</td>\n",
              "      <td>NaN</td>\n",
              "      <td>NaN</td>\n",
              "      <td>630524412X</td>\n",
              "    </tr>\n",
              "    <tr>\n",
              "      <th>2</th>\n",
              "      <td>2</td>\n",
              "      <td>['Cell Phones &amp; Accessories', 'Cases, Holsters...</td>\n",
              "      <td>NaN</td>\n",
              "      <td>['New items to give you a new good mood, welco...</td>\n",
              "      <td>NaN</td>\n",
              "      <td>Leopard Thanksgiving Easter PC Black Case for ...</td>\n",
              "      <td>[]</td>\n",
              "      <td>[]</td>\n",
              "      <td>NaN</td>\n",
              "      <td>NaN</td>\n",
              "      <td>[]</td>\n",
              "      <td>5,315,017 in Books (</td>\n",
              "      <td>[]</td>\n",
              "      <td>{'Publisher:': 'juduiou', 'ASIN:': '6310200240...</td>\n",
              "      <td>Books</td>\n",
              "      <td>NaN</td>\n",
              "      <td>NaN</td>\n",
              "      <td>NaN</td>\n",
              "      <td>6310200240</td>\n",
              "    </tr>\n",
              "    <tr>\n",
              "      <th>3</th>\n",
              "      <td>3</td>\n",
              "      <td>['Cell Phones &amp; Accessories', 'Cases, Holsters...</td>\n",
              "      <td>NaN</td>\n",
              "      <td>['A brand-new, unused, unopened, undamaged ite...</td>\n",
              "      <td>NaN</td>\n",
              "      <td>Puppies Faceplate Hard Case Protector for Net1...</td>\n",
              "      <td>[]</td>\n",
              "      <td>[]</td>\n",
              "      <td>NaN</td>\n",
              "      <td>Live2Pedal</td>\n",
              "      <td>['Protect your phone with style through this A...</td>\n",
              "      <td>['&gt;#6,368,825 in Cell Phones &amp; Accessories (Se...</td>\n",
              "      <td>[]</td>\n",
              "      <td>{}</td>\n",
              "      <td>Cell Phones &amp; Accessories</td>\n",
              "      <td>NaN</td>\n",
              "      <td>NaN</td>\n",
              "      <td>NaN</td>\n",
              "      <td>6786501710</td>\n",
              "    </tr>\n",
              "    <tr>\n",
              "      <th>4</th>\n",
              "      <td>4</td>\n",
              "      <td>['Cell Phones &amp; Accessories', 'Cases, Holsters...</td>\n",
              "      <td>NaN</td>\n",
              "      <td>['A brand-new, unused, unopened, undamaged ite...</td>\n",
              "      <td>NaN</td>\n",
              "      <td>White Wolf Faceplate Protector Hard Case for S...</td>\n",
              "      <td>[]</td>\n",
              "      <td>[]</td>\n",
              "      <td>NaN</td>\n",
              "      <td>wirelessoutletusa</td>\n",
              "      <td>['Protect your phone with style through this A...</td>\n",
              "      <td>['&gt;#2,672,454 in Cell Phones &amp; Accessories (Se...</td>\n",
              "      <td>[]</td>\n",
              "      <td>{}</td>\n",
              "      <td>Cell Phones &amp; Accessories</td>\n",
              "      <td>NaN</td>\n",
              "      <td>NaN</td>\n",
              "      <td>NaN</td>\n",
              "      <td>6786501273</td>\n",
              "    </tr>\n",
              "  </tbody>\n",
              "</table>\n",
              "</div>\n",
              "      <button class=\"colab-df-convert\" onclick=\"convertToInteractive('df-39063deb-78f7-4bcd-918b-68f753a56793')\"\n",
              "              title=\"Convert this dataframe to an interactive table.\"\n",
              "              style=\"display:none;\">\n",
              "        \n",
              "  <svg xmlns=\"http://www.w3.org/2000/svg\" height=\"24px\"viewBox=\"0 0 24 24\"\n",
              "       width=\"24px\">\n",
              "    <path d=\"M0 0h24v24H0V0z\" fill=\"none\"/>\n",
              "    <path d=\"M18.56 5.44l.94 2.06.94-2.06 2.06-.94-2.06-.94-.94-2.06-.94 2.06-2.06.94zm-11 1L8.5 8.5l.94-2.06 2.06-.94-2.06-.94L8.5 2.5l-.94 2.06-2.06.94zm10 10l.94 2.06.94-2.06 2.06-.94-2.06-.94-.94-2.06-.94 2.06-2.06.94z\"/><path d=\"M17.41 7.96l-1.37-1.37c-.4-.4-.92-.59-1.43-.59-.52 0-1.04.2-1.43.59L10.3 9.45l-7.72 7.72c-.78.78-.78 2.05 0 2.83L4 21.41c.39.39.9.59 1.41.59.51 0 1.02-.2 1.41-.59l7.78-7.78 2.81-2.81c.8-.78.8-2.07 0-2.86zM5.41 20L4 18.59l7.72-7.72 1.47 1.35L5.41 20z\"/>\n",
              "  </svg>\n",
              "      </button>\n",
              "      \n",
              "  <style>\n",
              "    .colab-df-container {\n",
              "      display:flex;\n",
              "      flex-wrap:wrap;\n",
              "      gap: 12px;\n",
              "    }\n",
              "\n",
              "    .colab-df-convert {\n",
              "      background-color: #E8F0FE;\n",
              "      border: none;\n",
              "      border-radius: 50%;\n",
              "      cursor: pointer;\n",
              "      display: none;\n",
              "      fill: #1967D2;\n",
              "      height: 32px;\n",
              "      padding: 0 0 0 0;\n",
              "      width: 32px;\n",
              "    }\n",
              "\n",
              "    .colab-df-convert:hover {\n",
              "      background-color: #E2EBFA;\n",
              "      box-shadow: 0px 1px 2px rgba(60, 64, 67, 0.3), 0px 1px 3px 1px rgba(60, 64, 67, 0.15);\n",
              "      fill: #174EA6;\n",
              "    }\n",
              "\n",
              "    [theme=dark] .colab-df-convert {\n",
              "      background-color: #3B4455;\n",
              "      fill: #D2E3FC;\n",
              "    }\n",
              "\n",
              "    [theme=dark] .colab-df-convert:hover {\n",
              "      background-color: #434B5C;\n",
              "      box-shadow: 0px 1px 3px 1px rgba(0, 0, 0, 0.15);\n",
              "      filter: drop-shadow(0px 1px 2px rgba(0, 0, 0, 0.3));\n",
              "      fill: #FFFFFF;\n",
              "    }\n",
              "  </style>\n",
              "\n",
              "      <script>\n",
              "        const buttonEl =\n",
              "          document.querySelector('#df-39063deb-78f7-4bcd-918b-68f753a56793 button.colab-df-convert');\n",
              "        buttonEl.style.display =\n",
              "          google.colab.kernel.accessAllowed ? 'block' : 'none';\n",
              "\n",
              "        async function convertToInteractive(key) {\n",
              "          const element = document.querySelector('#df-39063deb-78f7-4bcd-918b-68f753a56793');\n",
              "          const dataTable =\n",
              "            await google.colab.kernel.invokeFunction('convertToInteractive',\n",
              "                                                     [key], {});\n",
              "          if (!dataTable) return;\n",
              "\n",
              "          const docLinkHtml = 'Like what you see? Visit the ' +\n",
              "            '<a target=\"_blank\" href=https://colab.research.google.com/notebooks/data_table.ipynb>data table notebook</a>'\n",
              "            + ' to learn more about interactive tables.';\n",
              "          element.innerHTML = '';\n",
              "          dataTable['output_type'] = 'display_data';\n",
              "          await google.colab.output.renderOutput(dataTable, element);\n",
              "          const docLink = document.createElement('div');\n",
              "          docLink.innerHTML = docLinkHtml;\n",
              "          element.appendChild(docLink);\n",
              "        }\n",
              "      </script>\n",
              "    </div>\n",
              "  </div>\n",
              "  "
            ]
          },
          "metadata": {},
          "execution_count": 27
        }
      ],
      "source": [
        "df_meta.head()"
      ]
    },
    {
      "cell_type": "code",
      "source": [
        "df_meta.tail(3)"
      ],
      "metadata": {
        "id": "wXL3_2cnm3nq",
        "colab": {
          "base_uri": "https://localhost:8080/",
          "height": 485
        },
        "outputId": "58cf8567-b60e-489b-e341-c1343e36b7ed"
      },
      "execution_count": 28,
      "outputs": [
        {
          "output_type": "execute_result",
          "data": {
            "text/plain": [
              "        Unnamed: 0                                           category tech1  \\\n",
              "590068      590068  ['Cell Phones & Accessories', 'Cases, Holsters...   NaN   \n",
              "590069      590069  ['Cell Phones & Accessories', 'Cases, Holsters...   NaN   \n",
              "590070      590070  ['Cell Phones & Accessories', 'Cases, Holsters...   NaN   \n",
              "\n",
              "                                              description  fit  \\\n",
              "590068  ['<b>Brand Aim of LoHi:</b> <br /> LoHi is ded...  NaN   \n",
              "590069                                                 []  NaN   \n",
              "590070                                                 []  NaN   \n",
              "\n",
              "                                                    title also_buy  \\\n",
              "590068  iPhone 6 Plus Case, LoHi iPhone 6s Plus Case [...       []   \n",
              "590069  Universal Sports Armband Casehigh Shop Easy Fi...       []   \n",
              "590070  Case For Samsung Galaxy S7 Edge, CoverProof Ti...       []   \n",
              "\n",
              "                                                    image tech2       brand  \\\n",
              "590068  ['https://images-na.ssl-images-amazon.com/imag...   NaN        LoHi   \n",
              "590069  ['https://images-na.ssl-images-amazon.com/imag...   NaN      CaseHQ   \n",
              "590070  ['https://images-na.ssl-images-amazon.com/imag...   NaN  CoverProof   \n",
              "\n",
              "                                                  feature  \\\n",
              "590068  ['UNIQUE DESIGNED for Apple iPhone 6/6s Plus 5...   \n",
              "590069  ['Universal Designed: Up to 5.7\" diagonal size...   \n",
              "590070                                                 []   \n",
              "\n",
              "                                                     rank       also_view  \\\n",
              "590068  ['>#323,452 in Cell Phones & Accessories (See ...              []   \n",
              "590069           1,662,046 in Cell Phones & Accessories (  ['B00SXRXUFE']   \n",
              "590070  ['>#3,789,048 in Cell Phones & Accessories (Se...              []   \n",
              "\n",
              "                                                  details  \\\n",
              "590068                                                 {}   \n",
              "590069  {'ASIN: ': 'B01HJFFF1W', 'Item model number:':...   \n",
              "590070                                                 {}   \n",
              "\n",
              "                         main_cat  \\\n",
              "590068  Cell Phones & Accessories   \n",
              "590069  Cell Phones & Accessories   \n",
              "590070  Cell Phones & Accessories   \n",
              "\n",
              "                                             similar_item date  price  \\\n",
              "590068                                                NaN  NaN    NaN   \n",
              "590069   class=\"a-bordered a-horizontal-stripes  a-spa...  NaN  $3.99   \n",
              "590070                                                NaN  NaN    NaN   \n",
              "\n",
              "              asin  \n",
              "590068  B01HJH9IN6  \n",
              "590069  B01HJFFF1W  \n",
              "590070  B01HJHMQXU  "
            ],
            "text/html": [
              "\n",
              "  <div id=\"df-975462bc-4a73-4cc8-9e8a-9b284ee55b9d\">\n",
              "    <div class=\"colab-df-container\">\n",
              "      <div>\n",
              "<style scoped>\n",
              "    .dataframe tbody tr th:only-of-type {\n",
              "        vertical-align: middle;\n",
              "    }\n",
              "\n",
              "    .dataframe tbody tr th {\n",
              "        vertical-align: top;\n",
              "    }\n",
              "\n",
              "    .dataframe thead th {\n",
              "        text-align: right;\n",
              "    }\n",
              "</style>\n",
              "<table border=\"1\" class=\"dataframe\">\n",
              "  <thead>\n",
              "    <tr style=\"text-align: right;\">\n",
              "      <th></th>\n",
              "      <th>Unnamed: 0</th>\n",
              "      <th>category</th>\n",
              "      <th>tech1</th>\n",
              "      <th>description</th>\n",
              "      <th>fit</th>\n",
              "      <th>title</th>\n",
              "      <th>also_buy</th>\n",
              "      <th>image</th>\n",
              "      <th>tech2</th>\n",
              "      <th>brand</th>\n",
              "      <th>feature</th>\n",
              "      <th>rank</th>\n",
              "      <th>also_view</th>\n",
              "      <th>details</th>\n",
              "      <th>main_cat</th>\n",
              "      <th>similar_item</th>\n",
              "      <th>date</th>\n",
              "      <th>price</th>\n",
              "      <th>asin</th>\n",
              "    </tr>\n",
              "  </thead>\n",
              "  <tbody>\n",
              "    <tr>\n",
              "      <th>590068</th>\n",
              "      <td>590068</td>\n",
              "      <td>['Cell Phones &amp; Accessories', 'Cases, Holsters...</td>\n",
              "      <td>NaN</td>\n",
              "      <td>['&lt;b&gt;Brand Aim of LoHi:&lt;/b&gt; &lt;br /&gt; LoHi is ded...</td>\n",
              "      <td>NaN</td>\n",
              "      <td>iPhone 6 Plus Case, LoHi iPhone 6s Plus Case [...</td>\n",
              "      <td>[]</td>\n",
              "      <td>['https://images-na.ssl-images-amazon.com/imag...</td>\n",
              "      <td>NaN</td>\n",
              "      <td>LoHi</td>\n",
              "      <td>['UNIQUE DESIGNED for Apple iPhone 6/6s Plus 5...</td>\n",
              "      <td>['&gt;#323,452 in Cell Phones &amp; Accessories (See ...</td>\n",
              "      <td>[]</td>\n",
              "      <td>{}</td>\n",
              "      <td>Cell Phones &amp; Accessories</td>\n",
              "      <td>NaN</td>\n",
              "      <td>NaN</td>\n",
              "      <td>NaN</td>\n",
              "      <td>B01HJH9IN6</td>\n",
              "    </tr>\n",
              "    <tr>\n",
              "      <th>590069</th>\n",
              "      <td>590069</td>\n",
              "      <td>['Cell Phones &amp; Accessories', 'Cases, Holsters...</td>\n",
              "      <td>NaN</td>\n",
              "      <td>[]</td>\n",
              "      <td>NaN</td>\n",
              "      <td>Universal Sports Armband Casehigh Shop Easy Fi...</td>\n",
              "      <td>[]</td>\n",
              "      <td>['https://images-na.ssl-images-amazon.com/imag...</td>\n",
              "      <td>NaN</td>\n",
              "      <td>CaseHQ</td>\n",
              "      <td>['Universal Designed: Up to 5.7\" diagonal size...</td>\n",
              "      <td>1,662,046 in Cell Phones &amp; Accessories (</td>\n",
              "      <td>['B00SXRXUFE']</td>\n",
              "      <td>{'ASIN: ': 'B01HJFFF1W', 'Item model number:':...</td>\n",
              "      <td>Cell Phones &amp; Accessories</td>\n",
              "      <td>class=\"a-bordered a-horizontal-stripes  a-spa...</td>\n",
              "      <td>NaN</td>\n",
              "      <td>$3.99</td>\n",
              "      <td>B01HJFFF1W</td>\n",
              "    </tr>\n",
              "    <tr>\n",
              "      <th>590070</th>\n",
              "      <td>590070</td>\n",
              "      <td>['Cell Phones &amp; Accessories', 'Cases, Holsters...</td>\n",
              "      <td>NaN</td>\n",
              "      <td>[]</td>\n",
              "      <td>NaN</td>\n",
              "      <td>Case For Samsung Galaxy S7 Edge, CoverProof Ti...</td>\n",
              "      <td>[]</td>\n",
              "      <td>['https://images-na.ssl-images-amazon.com/imag...</td>\n",
              "      <td>NaN</td>\n",
              "      <td>CoverProof</td>\n",
              "      <td>[]</td>\n",
              "      <td>['&gt;#3,789,048 in Cell Phones &amp; Accessories (Se...</td>\n",
              "      <td>[]</td>\n",
              "      <td>{}</td>\n",
              "      <td>Cell Phones &amp; Accessories</td>\n",
              "      <td>NaN</td>\n",
              "      <td>NaN</td>\n",
              "      <td>NaN</td>\n",
              "      <td>B01HJHMQXU</td>\n",
              "    </tr>\n",
              "  </tbody>\n",
              "</table>\n",
              "</div>\n",
              "      <button class=\"colab-df-convert\" onclick=\"convertToInteractive('df-975462bc-4a73-4cc8-9e8a-9b284ee55b9d')\"\n",
              "              title=\"Convert this dataframe to an interactive table.\"\n",
              "              style=\"display:none;\">\n",
              "        \n",
              "  <svg xmlns=\"http://www.w3.org/2000/svg\" height=\"24px\"viewBox=\"0 0 24 24\"\n",
              "       width=\"24px\">\n",
              "    <path d=\"M0 0h24v24H0V0z\" fill=\"none\"/>\n",
              "    <path d=\"M18.56 5.44l.94 2.06.94-2.06 2.06-.94-2.06-.94-.94-2.06-.94 2.06-2.06.94zm-11 1L8.5 8.5l.94-2.06 2.06-.94-2.06-.94L8.5 2.5l-.94 2.06-2.06.94zm10 10l.94 2.06.94-2.06 2.06-.94-2.06-.94-.94-2.06-.94 2.06-2.06.94z\"/><path d=\"M17.41 7.96l-1.37-1.37c-.4-.4-.92-.59-1.43-.59-.52 0-1.04.2-1.43.59L10.3 9.45l-7.72 7.72c-.78.78-.78 2.05 0 2.83L4 21.41c.39.39.9.59 1.41.59.51 0 1.02-.2 1.41-.59l7.78-7.78 2.81-2.81c.8-.78.8-2.07 0-2.86zM5.41 20L4 18.59l7.72-7.72 1.47 1.35L5.41 20z\"/>\n",
              "  </svg>\n",
              "      </button>\n",
              "      \n",
              "  <style>\n",
              "    .colab-df-container {\n",
              "      display:flex;\n",
              "      flex-wrap:wrap;\n",
              "      gap: 12px;\n",
              "    }\n",
              "\n",
              "    .colab-df-convert {\n",
              "      background-color: #E8F0FE;\n",
              "      border: none;\n",
              "      border-radius: 50%;\n",
              "      cursor: pointer;\n",
              "      display: none;\n",
              "      fill: #1967D2;\n",
              "      height: 32px;\n",
              "      padding: 0 0 0 0;\n",
              "      width: 32px;\n",
              "    }\n",
              "\n",
              "    .colab-df-convert:hover {\n",
              "      background-color: #E2EBFA;\n",
              "      box-shadow: 0px 1px 2px rgba(60, 64, 67, 0.3), 0px 1px 3px 1px rgba(60, 64, 67, 0.15);\n",
              "      fill: #174EA6;\n",
              "    }\n",
              "\n",
              "    [theme=dark] .colab-df-convert {\n",
              "      background-color: #3B4455;\n",
              "      fill: #D2E3FC;\n",
              "    }\n",
              "\n",
              "    [theme=dark] .colab-df-convert:hover {\n",
              "      background-color: #434B5C;\n",
              "      box-shadow: 0px 1px 3px 1px rgba(0, 0, 0, 0.15);\n",
              "      filter: drop-shadow(0px 1px 2px rgba(0, 0, 0, 0.3));\n",
              "      fill: #FFFFFF;\n",
              "    }\n",
              "  </style>\n",
              "\n",
              "      <script>\n",
              "        const buttonEl =\n",
              "          document.querySelector('#df-975462bc-4a73-4cc8-9e8a-9b284ee55b9d button.colab-df-convert');\n",
              "        buttonEl.style.display =\n",
              "          google.colab.kernel.accessAllowed ? 'block' : 'none';\n",
              "\n",
              "        async function convertToInteractive(key) {\n",
              "          const element = document.querySelector('#df-975462bc-4a73-4cc8-9e8a-9b284ee55b9d');\n",
              "          const dataTable =\n",
              "            await google.colab.kernel.invokeFunction('convertToInteractive',\n",
              "                                                     [key], {});\n",
              "          if (!dataTable) return;\n",
              "\n",
              "          const docLinkHtml = 'Like what you see? Visit the ' +\n",
              "            '<a target=\"_blank\" href=https://colab.research.google.com/notebooks/data_table.ipynb>data table notebook</a>'\n",
              "            + ' to learn more about interactive tables.';\n",
              "          element.innerHTML = '';\n",
              "          dataTable['output_type'] = 'display_data';\n",
              "          await google.colab.output.renderOutput(dataTable, element);\n",
              "          const docLink = document.createElement('div');\n",
              "          docLink.innerHTML = docLinkHtml;\n",
              "          element.appendChild(docLink);\n",
              "        }\n",
              "      </script>\n",
              "    </div>\n",
              "  </div>\n",
              "  "
            ]
          },
          "metadata": {},
          "execution_count": 28
        }
      ]
    },
    {
      "cell_type": "code",
      "execution_count": 29,
      "metadata": {
        "id": "fYbpVdol-nMh",
        "colab": {
          "base_uri": "https://localhost:8080/"
        },
        "outputId": "cf0ceb32-3063-4a01-fea5-4c74949428b4"
      },
      "outputs": [
        {
          "output_type": "stream",
          "name": "stdout",
          "text": [
            "<class 'pandas.core.frame.DataFrame'>\n",
            "RangeIndex: 590071 entries, 0 to 590070\n",
            "Data columns (total 19 columns):\n",
            " #   Column        Non-Null Count   Dtype \n",
            "---  ------        --------------   ----- \n",
            " 0   Unnamed: 0    590071 non-null  int64 \n",
            " 1   category      590071 non-null  object\n",
            " 2   tech1         6585 non-null    object\n",
            " 3   description   590071 non-null  object\n",
            " 4   fit           43 non-null      object\n",
            " 5   title         590062 non-null  object\n",
            " 6   also_buy      590071 non-null  object\n",
            " 7   image         590071 non-null  object\n",
            " 8   tech2         231 non-null     object\n",
            " 9   brand         577311 non-null  object\n",
            " 10  feature       590071 non-null  object\n",
            " 11  rank          590071 non-null  object\n",
            " 12  also_view     590071 non-null  object\n",
            " 13  details       590071 non-null  object\n",
            " 14  main_cat      586685 non-null  object\n",
            " 15  similar_item  50931 non-null   object\n",
            " 16  date          45880 non-null   object\n",
            " 17  price         127564 non-null  object\n",
            " 18  asin          590071 non-null  object\n",
            "dtypes: int64(1), object(18)\n",
            "memory usage: 85.5+ MB\n"
          ]
        }
      ],
      "source": [
        "df_meta.info()"
      ]
    },
    {
      "cell_type": "code",
      "execution_count": 30,
      "metadata": {
        "id": "V4EzO65eLMDQ",
        "colab": {
          "base_uri": "https://localhost:8080/"
        },
        "outputId": "2ddbd784-d9e5-406a-9efa-480e378db33b"
      },
      "outputs": [
        {
          "output_type": "execute_result",
          "data": {
            "text/plain": [
              "(590071, 19)"
            ]
          },
          "metadata": {},
          "execution_count": 30
        }
      ],
      "source": [
        "df_meta.shape"
      ]
    },
    {
      "cell_type": "code",
      "execution_count": 31,
      "metadata": {
        "id": "zZJqWZALOhbQ",
        "colab": {
          "base_uri": "https://localhost:8080/"
        },
        "outputId": "048d434a-ace2-4419-dc6c-9317cfd776f4"
      },
      "outputs": [
        {
          "output_type": "execute_result",
          "data": {
            "text/plain": [
              "$7.99      6293\n",
              "$9.99      6204\n",
              "$6.99      5131\n",
              "$8.99      4384\n",
              "$14.99     3728\n",
              "           ... \n",
              "$19.54        1\n",
              "$65.24        1\n",
              "$100.60       1\n",
              "$23.30        1\n",
              "$75.24        1\n",
              "Name: price, Length: 4668, dtype: int64"
            ]
          },
          "metadata": {},
          "execution_count": 31
        }
      ],
      "source": [
        "df_meta.price.value_counts()"
      ]
    },
    {
      "cell_type": "code",
      "execution_count": 32,
      "metadata": {
        "id": "gQeQjYFiPokG",
        "colab": {
          "base_uri": "https://localhost:8080/"
        },
        "outputId": "997b9ee1-b386-4745-db63-3801dc5c8278"
      },
      "outputs": [
        {
          "output_type": "execute_result",
          "data": {
            "text/plain": [
              " class=\"a-bordered a-horizontal-stripes  a-spacing-extra-large a-size-base comparison_table\">\\n\\n\\n\\n            \\n            \\n            \\n            \\n            \\n            <tr class=\"comparison_table_image_row\">\\n                <td class=\"comparison_table_first_col\"></td>\\n\\n\\n                <th class=\"comparison_image_title_cell\" role=\"columnheader\">\\n                    <div class=\"a-row a-spacing-top-micro\">\\n                        <center>\\n                             <img alt=\"Galaxy S6 Case, EpicGadget(TM) Bling 3D Handmade Luxury I Love You Heart Chain Diamond Case Cover for Samsung Galaxy S6 + HD Clear Galaxy S6 VI Screen Protector (US Seller!!)\" src=\"https://images-na.ssl-images-amazon.com/images/I/510KzkpjwBL._SL500_AC_SS350_.jpg\" id=\"comparison_image\">\\n                        </center>\\n                    </div>\\n                    <div class=\"a-row a-spacing-top-small\">\\n                        <div id=\"comparison_title\" class=\"a-section a-spacing-none\">\\n                            <span aria-hidden=\"true\" class=\"a-size-base a-color-base a-text-bold\">\\n                                This item\\n                            </span>\\n                            <span aria-hidden=\"true\" class=\"a-size-base a-color-base\">Galaxy S6 Case, EpicGadget(TM) Bling 3D Handmade Luxury I Love You Heart Chain Diamond Case Cover for Samsung Galaxy S6 + HD Clear Galaxy S6 VI Screen Protector (US Seller!!)</span>\\n                        </div>\\n                        \\n                        \\n                    </div>\\n                </th>\\n\\n\\n                \\n                    <th class=\"comparison_image_title_cell comparable_item0\" role=\"columnheader\">\\n                        <a class=\"a-link-normal\" target=\"_self\" rel=\"noopener\" href=\"/dp/B00WVGAWE0/ref=psdc_2407756011_t1_B00W668QWA\">\\n                          <div class=\"a-row a-spacing-top-micro\">\\n                            <center>\\n                                <img alt=\"\" src=\"https://images-na.ssl-images-amazon.com/images/I/519c5IYYoyL._SL500_AC_SS350_.jpg\" aria-hidden=\"true\" id=\"comparison_image0\">\\n                            </center>\\n                          </div>\\n                          <div id=\"comparison_title0\" class=\"a-row a-spacing-top-small\">\\n                            <span class=\"a-size-base\">Galaxy S6 Edge Case, EpicGadget(TM) Bling 3D Handmade Luxury I Love You Heart Chain Diamond Case Cover for Samsung Galaxy S6 Edge + HD Clear Galaxy S6 Edge Screen Protector (US Seller!!)</span>\\n                          </div>\\n                        </a>\\n                        \\n                        \\n                    </th>\\n                \\n                    <th class=\"comparison_image_title_cell comparable_item1\" role=\"columnheader\">\\n                        <a class=\"a-link-normal\" target=\"_self\" rel=\"noopener\" href=\"/dp/B00TJB7Q6M/ref=psdc_2407756011_t2_B00W668QWA\">\\n                          <div class=\"a-row a-spacing-top-micro\">\\n                            <center>\\n                                <img alt=\"\" src=\"https://images-na.ssl-images-amazon.com/images/I/61i13-9WVrL._SL500_AC_SS350_.jpg\" aria-hidden=\"true\" id=\"comparison_image1\">\\n                            </center>\\n                          </div>\\n                          <div id=\"comparison_title1\" class=\"a-row a-spacing-top-small\">\\n                            <span class=\"a-size-base\">EpicGadget(TM) Bling Luxury Handmade Diamond Crystal Fairy Tale Flowers Pearl 3D Skin Case Cover for Samsung Galaxy Note 3 N9000 + HD Clear Galaxy Note III Screen Protector (US Seller!!) (Pink)</span>\\n                          </div>\\n                        </a>\\n                        \\n                        \\n                    </th>\\n                \\n                    <th class=\"comparison_image_title_cell comparable_item2\" role=\"columnheader\">\\n                        <a class=\"a-link-normal\" target=\"_self\" rel=\"noopener\" href=\"/dp/B00XWUGCXE/ref=psdc_2407756011_t3_B00W668QWA\">\\n                          <div class=\"a-row a-spacing-top-micro\">\\n                            <center>\\n                                <img alt=\"\" src=\"https://images-na.ssl-images-amazon.com/images/I/618oMMxdZBL._SL500_AC_SS350_.jpg\" aria-hidden=\"true\" id=\"comparison_image2\">\\n                            </center>\\n                          </div>\\n                          <div id=\"comparison_title2\" class=\"a-row a-spacing-top-small\">\\n                            <span class=\"a-size-base\">Galaxy S6 Case, EpicGadget(TM) 3D Luxury Diamond Slim Fit Glitter Bling Black Hard Cover Shiny Sparkling with Crystal Rhinestone Case for Samsung Galaxy S6 SM-G9200 + HD Clear Galaxy S6 Screen Protector (US Seller!!)</span>\\n                          </div>\\n                        </a>\\n                        \\n                        \\n                    </th>\\n                \\n            </tr>\\n\\n\\n            <tr></tr>\\n\\n\\n            \\n            \\n            <tr>\\n                <td class=\"comparison_table_first_col\"></td>\\n\\n\\n                <td class=\"comparison_add_to_cart_button\">\\n                    \\n                        \\n                        \\n                        \\n                            <span id=\"comparison_add_to_cart_button\" class=\"a-button a-spacing-small a-button-primary\"><span class=\"a-button-inner\"><a id=\"comparison_add_to_cart_button-announce\" href=\"/gp/item-dispatch/ref=psdc_2407756011_a0_B00W668QWA?ie=UTF8&amp;itemCount=1&amp;nodeID=2335752011&amp;offeringID.1=rKzjmRDgYF2dvFLAmu7LQF53QhLURHnvFCnjAKhdrIaMfQGw7QGh5zCnMtBPy1ZqDhR%252B1SkzceX3xLWTQTZjf1%252B7Zc07FUmFm4uKvn9fY8GanopkOidVWYr59dFeIp4no6UerV%252BO%252FuABgfcpmEDFHo8COnL4kT6P&amp;storeID=wireless&amp;session-id=131-8135850-4851802&amp;submit.addToCart=addToCart&amp;signInToHUC=0\" class=\"a-button-text\" role=\"button\">Add to Cart</a></span></span>\\n                        \\n                    \\n                </td>\\n\\n\\n                \\n                    <td class=\"a-text-left comparison_add_to_cart_button comparable_item0\">\\n                        \\n                            \\n                            \\n                                <span id=\"comparison_add_to_cart_button0\" class=\"a-button a-spacing-small a-button-primary\"><span class=\"a-button-inner\"><a id=\"comparison_add_to_cart_button0-announce\" href=\"/gp/item-dispatch/ref=psdc_2407756011_a1_B00W668QWA?ie=UTF8&amp;itemCount=1&amp;nodeID=2335752011&amp;offeringID.1=rKzjmRDgYF2dvFLAmu7LQNwbgB6IF5vvXTFvVo7Sc2lkLL8uzfO2DOupmn2UjIx3qapM0YT2ii%252FvhcLrrQdvXKJ0Uaj%252Bg%252Fb0%252BxWmtTFMcqHoMgf%252F0rByHhRZ08vwsPCWI0MTvLxMX7KcA4H2oKL74TL7BQ7EJcfy&amp;storeID=wireless&amp;session-id=131-8135850-4851802&amp;submit.addToCart=addToCart&amp;signInToHUC=0\" class=\"a-button-text\" role=\"button\">Add to Cart</a></span></span>\\n                            \\n                        \\n                    </td>\\n                \\n                    <td class=\"a-text-left comparison_add_to_cart_button comparable_item1\">\\n                        \\n                            \\n                            \\n                                <span id=\"comparison_add_to_cart_button1\" class=\"a-button a-spacing-small a-button-primary\"><span class=\"a-button-inner\"><a id=\"comparison_add_to_cart_button1-announce\" href=\"/gp/item-dispatch/ref=psdc_2407756011_a2_B00W668QWA?ie=UTF8&amp;itemCount=1&amp;nodeID=2335752011&amp;offeringID.1=rKzjmRDgYF2dvFLAmu7LQHAMCc77BSPmvtyF9IR2eAeqwhWSzTuOXdxAJd8fX6HnQMqZSQSdFr33bBmrugk2EAFIrXuEeFrFPdkcqHecZGw11euIKOk38Be2KLvJUwOa8YdUQPxVkZ0yJI3G3k2pTunoRj1po%252FYO&amp;storeID=wireless&amp;session-id=131-8135850-4851802&amp;submit.addToCart=addToCart&amp;signInToHUC=0\" class=\"a-button-text\" role=\"button\">Add to Cart</a></span></span>\\n                            \\n                        \\n                    </td>\\n                \\n                    <td class=\"a-text-left comparison_add_to_cart_button comparable_item2\">\\n                        \\n                            \\n                            \\n                                <span id=\"comparison_add_to_cart_button2\" class=\"a-button a-spacing-small a-button-primary\"><span class=\"a-button-inner\"><a id=\"comparison_add_to_cart_button2-announce\" href=\"/gp/item-dispatch/ref=psdc_2407756011_a3_B00W668QWA?ie=UTF8&amp;itemCount=1&amp;nodeID=2335752011&amp;offeringID.1=rKzjmRDgYF2dvFLAmu7LQI88CsDVZE8jhazWpRxUM8oKBdp3uWYjF4SA39NvQ%252FUx1RrWsSr66aMtMDdoeqFO5IRzAmS7OlBJAAVwA67SaCqvb3uWji4Y91f0kp9EVthkm8YgIMwYN9TsIOrZBLxGO7%252BBs0I8WVa7&amp;storeID=wireless&amp;session-id=131-8135850-4851802&amp;submit.addToCart=addToCart&amp;signInToHUC=0\" class=\"a-button-text\" role=\"button\">Add to Cart</a></span></span>\\n                            \\n                        \\n                    </td>\\n                \\n            </tr>\\n\\n\\n            <tr id=\"comparison_custormer_rating_row\">\\n                \\n                \\n                \\n                \\n\\n                <th class=\"comparison_attribute_name_column comparison_table_first_col\" role=\"rowheader\">\\n                    <span class=\"a-size-base a-color-base\">Customer Rating</span>\\n                </th>\\n\\n\\n                <td class=\"comparison_baseitem_column\">\\n                    \\n                    \\n                    \\n                    <span>\\n                        <span class=\"a-declarative\" data-action=\"a-popover\" data-a-popover=\"{&quot;max-width&quot;:&quot;700&quot;,&quot;closeButton&quot;:&quot;false&quot;,&quot;position&quot;:&quot;triggerBottom&quot;,&quot;url&quot;:&quot; /gp/customer-reviews/widgets/average-customer-review/popover/ref=acr_dpComparsion__popover?contextId=dpComparsion&amp;asin=B00W668QWA &quot;,&quot;restoreFocusOnHide&quot;:&quot;false&quot;}\">\\n                            <i class=\"a-icon a-icon-star a-star-3-5 a-spacing-none\"><span class=\"a-icon-alt\">3 out of 5 stars</span></i>\\n                        </span>\\n                        <a class=\"a-link-normal\" target=\"_self\" rel=\"noopener\" href=\"/product-reviews/B00W668QWA/ref=psdc_2407756011_r0_B00W668QWA?_encoding=UTF8&amp;showViewpoints=1\">(10)</a>\\n                        <span class=\"a-letter-space\"></span>\\n                    </span>\\n                </td>\\n\\n\\n                \\n                    <td class=\"comparison_sim_items_column comparable_item0\">\\n                        \\n                        \\n                        \\n                        <span>\\n                            <span class=\"a-declarative\" data-action=\"a-popover\" data-a-popover=\"{&quot;max-width&quot;:&quot;700&quot;,&quot;closeButton&quot;:&quot;false&quot;,&quot;position&quot;:&quot;triggerBottom&quot;,&quot;url&quot;:&quot; /gp/customer-reviews/widgets/average-customer-review/popover/ref=acr_dpComparsion__popover?contextId=dpComparsion&amp;asin=B00WVGAWE0 &quot;,&quot;restoreFocusOnHide&quot;:&quot;false&quot;}\">\\n                                <i class=\"a-icon a-icon-star a-star-3-5 a-spacing-none\"><span class=\"a-icon-alt\">3 out of 5 stars</span></i>\\n                            </span>\\n                            <a class=\"a-link-normal\" target=\"_self\" rel=\"noopener\" href=\"/product-reviews/B00WVGAWE0/ref=psdc_2407756011_r1_B00W668QWA?_encoding=UTF8&amp;showViewpoints=1\">(6)</a>\\n                            <span class=\"a-letter-space\"></span>\\n                        </span>\\n                    </td>\\n                \\n                    <td class=\"comparison_sim_items_column comparable_item1\">\\n                        \\n                        \\n                        \\n                        <span>\\n                            <span class=\"a-declarative\" data-action=\"a-popover\" data-a-popover=\"{&quot;max-width&quot;:&quot;700&quot;,&quot;closeButton&quot;:&quot;false&quot;,&quot;position&quot;:&quot;triggerBottom&quot;,&quot;url&quot;:&quot; /gp/customer-reviews/widgets/average-customer-review/popover/ref=acr_dpComparsion__popover?contextId=dpComparsion&amp;asin=B00TJB7Q6M &quot;,&quot;restoreFocusOnHide&quot;:&quot;false&quot;}\">\\n                                <i class=\"a-icon a-icon-star a-star-3 a-spacing-none\"><span class=\"a-icon-alt\">3 out of 5 stars</span></i>\\n                            </span>\\n                            <a class=\"a-link-normal\" target=\"_self\" rel=\"noopener\" href=\"/product-reviews/B00TJB7Q6M/ref=psdc_2407756011_r2_B00W668QWA?_encoding=UTF8&amp;showViewpoints=1\">(6)</a>\\n                            <span class=\"a-letter-space\"></span>\\n                        </span>\\n                    </td>\\n                \\n                    <td class=\"comparison_sim_items_column comparable_item2\">\\n                        \\n                        \\n                        \\n                        <span>\\n                            <span class=\"a-declarative\" data-action=\"a-popover\" data-a-popover=\"{&quot;max-width&quot;:&quot;700&quot;,&quot;closeButton&quot;:&quot;false&quot;,&quot;position&quot;:&quot;triggerBottom&quot;,&quot;url&quot;:&quot; /gp/customer-reviews/widgets/average-customer-review/popover/ref=acr_dpComparsion__popover?contextId=dpComparsion&amp;asin=B00XWUGCXE &quot;,&quot;restoreFocusOnHide&quot;:&quot;false&quot;}\">\\n                                <i class=\"a-icon a-icon-star a-star-3-5 a-spacing-none\"><span class=\"a-icon-alt\">3 out of 5 stars</span></i>\\n                            </span>\\n                            <a class=\"a-link-normal\" target=\"_self\" rel=\"noopener\" href=\"/product-reviews/B00XWUGCXE/ref=psdc_2407756011_r3_B00W668QWA?_encoding=UTF8&amp;showViewpoints=1\">(178)</a>\\n                            <span class=\"a-letter-space\"></span>\\n                        </span>\\n                    </td>\\n                \\n            </tr>\\n\\n\\n            <tr id=\"comparison_price_row\">\\n                <th class=\"comparison_attribute_name_column comparison_table_first_col\" role=\"rowheader\">\\n                    <span class=\"a-size-base a-color-base\">Price</span>\\n                </th>\\n\\n\\n                <td class=\"comparison_baseitem_column\">\\n                    \\n                        \\n                        \\n                        \\n                        \\n                            \\n                                \\n                                    <span class=\"a-price\" data-a-size=\"l\" data-a-color=\"base\"><span class=\"a-offscreen\">$3.99</span><span aria-hidden=\"true\"><span class=\"a-price-symbol\">$</span><span class=\"a-price-whole\">3<span class=\"a-price-decimal\">                                                                                                                                                                                                                                                                                                                                                                                                                                                                                                                                                                                                                                                                                                                                                                                                                                                                                                                                                                                                                                                                                                                                                                                                                                                                                                                                                                                                                                                                                                                                                                                                                                                                                                                                                                                                                                                                                                                                                                                                                                                                                                                                                                                                                                                                                                                                                                                                                                                                                                                                                                                                                                                                                                                                                                                                                                                                                                                                                                                                                                                                                                                                                                                                                                                                                                                                                                                                                                                                                                                                                                                                                                                                                                                                                                                                                                                                                                                                                                                                                                                                                                                                                                                                                                                                                                                                                                                                                                                                                                                                                                                                                                                                                                                                                                                                                                                                                                                                                                                                                                                                                                                                                                                                                                                                                                                                                                                                                                                                                                                                                                                                                                                                                                                                                                                                                                                                                                                                                                                                                                                                                                                                                                                                                                                                                                                                                                                                                                                                                                                                                                                                                                                                                                                                                                                                                                                                                                                                                                                                                                                                                                          3\n",
              " class=\"a-bordered a-horizontal-stripes  a-spacing-extra-large a-size-base comparison_table\">\\n\\n\\n\\n            \\n            \\n            \\n            \\n            \\n            <tr class=\"comparison_table_image_row\">\\n                <td class=\"comparison_table_first_col\"></td>\\n\\n\\n                <th class=\"comparison_image_title_cell\" role=\"columnheader\">\\n                    <div class=\"a-row a-spacing-top-micro\">\\n                        <center>\\n                             <img alt=\"[3 Pack] iPhone XR Screen Protectors Loopilops Tempered Glass Screen Protectors [No Bubbles] [9H Hardness] [3D Touch] Compatible with Apple iPhone XR [6.1 Inch] [2018]\" src=\"https://images-na.ssl-images-amazon.com/images/I/51h%2BasSc42L._SL500_AC_SS350_.jpg\" id=\"comparison_image\">\\n                        </center>\\n                    </div>\\n                    <div class=\"a-row a-spacing-top-small\">\\n                        <div id=\"comparison_title\" class=\"a-section a-spacing-none\">\\n                            <span aria-hidden=\"true\" class=\"a-size-base a-color-base a-text-bold\">\\n                                This item\\n                            </span>\\n                            <span aria-hidden=\"true\" class=\"a-size-base a-color-base\">[3 Pack] iPhone XR Screen Protectors Loopilops Tempered Glass Screen Protectors [No Bubbles] [9H Hardness] [3D Touch] Compatible with Apple iPhone XR [6.1 Inch] [2018]</span>\\n                        </div>\\n                        \\n                        \\n                    </div>\\n                </th>\\n\\n\\n                \\n                    <th class=\"comparison_image_title_cell comparable_item0\" role=\"columnheader\">\\n                        <a class=\"a-link-normal\" target=\"_self\" rel=\"noopener\" href=\"/dp/B07FNYD5RQ/ref=psdc_2407781011_t1_B07LF5HD6N\">\\n                          <div class=\"a-row a-spacing-top-micro\">\\n                            <center>\\n                                <img alt=\"\" src=\"https://images-na.ssl-images-amazon.com/images/I/41L09P-BfbL._SL500_AC_SS350_.jpg\" aria-hidden=\"true\" id=\"comparison_image0\">\\n                            </center>\\n                          </div>\\n                          <div id=\"comparison_title0\" class=\"a-row a-spacing-top-small\">\\n                            <span class=\"a-size-base\">Trianium (3 Packs) Screen Protector Designed for Apple iPhone XR (6.1\" 2018) Premium HD Clarity 0.25mm Tempered Glass Screen Protector with Easy Installation Alignment Case Frame [3D Touch] (3-Pack)</span>\\n                          </div>\\n                        </a>\\n                        \\n                        \\n                    </th>\\n                \\n                    <th class=\"comparison_image_title_cell comparable_item1\" role=\"columnheader\">\\n                        <a class=\"a-link-normal\" target=\"_self\" rel=\"noopener\" href=\"/dp/B07G48RDKF/ref=psdc_2407781011_t2_B07LF5HD6N\">\\n                          <div class=\"a-row a-spacing-top-micro\">\\n                            <center>\\n                                <img alt=\"\" src=\"https://images-na.ssl-images-amazon.com/images/I/51yWY5oB0IL._SL500_AC_SS350_.jpg\" aria-hidden=\"true\" id=\"comparison_image1\">\\n                            </center>\\n                          </div>\\n                          <div id=\"comparison_title1\" class=\"a-row a-spacing-top-small\">\\n                            <span class=\"a-size-base\">OMOTON Tempered Glass Screen Protector Compatible with Apple iPhone XR 6.1 inch [3 Pack]</span>\\n                          </div>\\n                        </a>\\n                        \\n                        \\n                    </th>\\n                \\n                    <th class=\"comparison_image_title_cell comparable_item2\" role=\"columnheader\">\\n                        <a class=\"a-link-normal\" target=\"_self\" rel=\"noopener\" href=\"/dp/B07FR1LQNZ/ref=psdc_2407781011_t3_B07LF5HD6N\">\\n                          <div class=\"a-row a-spacing-top-micro\">\\n                            <center>\\n                                <img alt=\"\" src=\"https://images-na.ssl-images-amazon.com/images/I/51bTzUN1-DL._SL500_AC_SS350_.jpg\" aria-hidden=\"true\" id=\"comparison_image2\">\\n                            </center>\\n                          </div>\\n                          <div id=\"comparison_title2\" class=\"a-row a-spacing-top-small\">\\n                            <span class=\"a-size-base\">XDesign Glass Screen Protector Designed for Apple iPhone XR 2018 (3-Pack) Tempered Glass with Touch Accurate and Impact Absorb + Easy Installation Tray for iPhone XR [Fit with Most Cases] - 3 Pack</span>\\n                          </div>\\n                        </a>\\n                        \\n                        \\n                            \\n                            <div id=\"comparison_zeitgeist_section2\" class=\"a-row a-spacing-none a-spacing-top-micro\">\\n                                \\n\\n\\n\\n\\n\\n\\n\\n\\n\\n\\n\\n    \\n\\n<a class=\"comparison_zeitgeist\"\\n        href=\"/gp/new-releases/wireless/ref=psdcznr_2407781011_t3_B07LF5HD6N\"\\n        title=\"Cell Phones & Accessories\">\\n    <i class=\"a-icon a-icon-addon comparison_zeitgeist_badge\"><span class=\"a-text-normal\">\\n        #1 New Release\\n    </span></i>\\n    \\n    \\n</a>\\n\\n                            </div>\\n                        \\n                    </th>\\n                \\n                    <th class=\"comparison_image_title_cell comparable_item3\" role=\"columnheader\">\\n                        <a class=\"a-link-normal\" target=\"_self\" rel=\"noopener\" href=\"/dp/B07L8X1LGG/ref=psdc_2407781011_t4_B07LF5HD6N\">\\n                          <div class=\"a-row a-spacing-top-micro\">\\n                            <center>\\n                                <img alt=\"\" src=\"https://images-na.ssl-images-amazon.com/images/I/51j7Eea8odL._SL500_AC_SS350_.jpg\" aria-hidden=\"true\" id=\"comparison_image3\">\\n                            </center>\\n                          </div>\\n                          <div id=\"comparison_title3\" class=\"a-row a-spacing-top-small\">\\n                            <span class=\"a-size-base\">ChefzBest Screen Protector Compatible iPhone XR (6.1inch 2018 Release),[3 Pack],0.33mm Tempered Glass, Compatible iPhone XR (6.1inch 2018 Release),Anti-Scratch,Advanced HD Clarity Work Most Case</span>\\n                          </div>\\n                        </a>\\n                        \\n                        \\n                    </th>\\n                \\n                    <th class=\"comparison_image_title_cell comparable_item4\" role=\"columnheader\">\\n                        <a class=\"a-link-normal\" target=\"_self\" rel=\"noopener\" href=\"/dp/B07L7BDYYT/ref=psdc_2407781011_t5_B07LF5HD6N\">\\n                          <div class=\"a-row a-spacing-top-micro\">\\n                            <center>\\n                                <img alt=\"\" src=\"https://images-na.ssl-images-amazon.com/images/I/510SfZcUYEL._SL500_AC_SS350_.jpg\" aria-hidden=\"true\" id=\"comparison_image4\">\\n                            </center>\\n                          </div>\\n                          <div id=\"comparison_title4\" class=\"a-row a-spacing-top-small\">\\n                            <span class=\"a-size-base\">[2-Pack] Screen Protector for iPhone XR Full Coverage Case Friendly and No-Bubble 9H Tempered Glass High Response</span>\\n                          </div>\\n                        </a>\\n                        \\n                        \\n                    </th>\\n                \\n            </tr>\\n\\n\\n            <tr></tr>\\n\\n\\n            \\n            \\n            <tr>\\n                <td class=\"comparison_table_first_col\"></td>\\n\\n\\n                <td class=\"comparison_add_to_cart_button\">\\n                    \\n                        \\n                        \\n                        \\n                            <span id=\"comparison_add_to_cart_button\" class=\"a-button a-spacing-small a-button-primary\"><span class=\"a-button-inner\"><a id=\"comparison_add_to_cart_button-announce\" href=\"/gp/item-dispatch/ref=psdc_2407781011_a0_B07LF5HD6N?ie=UTF8&amp;itemCount=1&amp;nodeID=2335752011&amp;offeringID.1=nYIxWKOWrbcdePYn67aj8r4EaPblovnGBVKVXtHxokZVZHYCieGrdOlkK6V9xal1uMxy4cWC3DI6Tv0eUn0mvG45Nhbj4ibFR5rzbvBx7lo5iG6UTmtdAsqYxV4I5WzlWXSEOsKIIuY8ZIeAlpgD%252BwWYepeBRiZ9&amp;storeID=wireless&amp;session-id=143-0778038-9178745&amp;submit.addToCart=addToCart&amp;signInToHUC=0\" class=\"a-button-text\" role=\"button\">Add to Cart</a></span></span>\\n                        \\n                    \\n                </td>\\n\\n\\n                \\n                    <td class=\"a-text-left comparison_add_to_cart_button comparable_item0\">\\n                        \\n                            \\n                            \\n                                <span id=\"comparison_add_to_cart_button0\" class=\"a-button a-spacing-small a-button-primary\"><span class=\"a-button-inner\"><a id=\"comparison_add_to_cart_button0-announce\" href=\"/gp/item-dispatch/ref=psdc_2407781011_a1_B07LF5HD6N?ie=UTF8&amp;itemCount=1&amp;nodeID=2335752011&amp;offeringID.1=73dLadAt1z%252F5PhNGJRr5Ao656gzZOlAPS%252FPYGGY2sHeMuZNszSZtrmRjh8S%252FtJxiP5F%252BRPKc7dMe9BeYGPaGc5kM35fNWdEtdp%252Bp3LmW4Bcm2iWdmUjEk%252BtbRw3Ik20FB0c8lCKxV%252FKv73qSlHOhCirnsnKPtAJw&amp;storeID=wireless&amp;session-id=143-0778038-9178745&amp;submit.addToCart=addToCart&amp;signInToHUC=0\" class=\"a-button-text\" role=\"button\">Add to Cart</a></span></span>\\n                            \\n                        \\n                    </td>\\n                \\n                    <td class=\"a-text-left comparison_add_to_cart_button comparable_item1\">\\n                        \\n                            \\n                            \\n                                <span id=\"comparison_add_to_cart_button1\" class=\"a-button a-spacing-small a-button-primary\"><span class=\"a-button-inner\"><a id=\"comparison_add_to_cart_button1-announce\" href=\"/gp/item-dispatch/ref=psdc_2407781011_a2_B07LF5HD6N?ie=UTF8&amp;itemCount=1&amp;nodeID=2335752011&amp;offeringID.1=Q4khsqJBuIFIrc1chU2pCYCaeBrEeX9t%252FKCf9FsMawjAjnaR%252BtEMJPf%252FBF9FC21O1T1vQvYwTZpUm5D9wXWALEJ2fJBnezrelIHNFM7HfUIGrS%252BsWH4fdLyHVqWF1Kds0h2lDCZWOHo3I0ZDjuOgUh5TEX0Iva1U&amp;storeID=wireless&amp;session-id=143-0778038-9178745&amp;submit.addToCart=addToCart&amp;signInToHUC=0\" class=\"a-button-text\" role=\"button\">Add to Cart</a></span></span>\\n                            \\n                        \\n                    </td>\\n                \\n                    <td class=\"a-text-left comparison_add_to_cart_button comparable_item2\">\\n                        \\n                            \\n                            \\n                                <span id=\"comparison_add_to_cart_button2\" class=\"a-button a-spacing-small a-button-primary\"><span class=\"a-button-inner\"><a id=\"comparison_add_to_cart_button2-announce\" href=\"/gp/item-dispatch/ref=psdc_2407781011_a3_B07LF5HD6N?ie=UTF8&amp;itemCount=1&amp;nodeID=2335752011&amp;offeringID.1=sn2%252Ff1yiFG%252Bmb1Il6rEI9uj5G1AKz6tXT4G7oKeMfkH5QvLRtBeo0f69EYj3eNT3bjD3ZF0i7OIwVObNyJhrXvsUwkab%252F4fvkcdGYkXafexg96RKQrlIu3SLyCTKjqaiZfWFCwLMX89tc%252FQshbN3qWxz8%252BgjDisb&amp;storeID=wireless&amp;session-id=143-0778038-9178745&amp;submit.addToCart=addToCart&amp;signInToHUC=0\" class=\"a-button-text\" role=\"button\">Add to Cart</a></span></span>\\n                            \\n                        \\n                    </td>\\n                \\n                    <td class=\"a-text-left comparison_add_to_cart_button comparable_item3\">\\n                        \\n                            \\n                            \\n                                <span id=\"comparison_add_to_cart_button3\" class=\"a-button a-spacing-small a-button-primary\"><span class=\"a-button-inner\"><a id=\"comparison_add_to_cart_button3-announce\" href=\"/gp/item-dispatch/ref=psdc_2407781011_a4_B07LF5HD6N?ie=UTF8&amp;itemCount=1&amp;nodeID=2335752011&amp;offeringID.1=BB1YLefx%252FaJKjTW34TCuoHdGbMqt530XxR%252BZud3SYwBy1%252BS0CKdCZAdJO54Ct4%252FvOlFbkvbKH5%252B%252BNeRnKfc2d0OZbzdX4Oaw49Py8YK%252BLcgw6IDJLtzzTCrRpZ%252FWRmqdE0hk5Is8zffVS1k1SCCQ3x%252BKReQOHvfw&amp;storeID=wireless&amp;session-id=143-0778038-9178745&amp;submit.addToCart=addToCart&amp;signInToHUC=0\" class=\"a-button-text\" role=\"button\">Add to Cart</a></span></span>\\n                            \\n                        \\n                    </td>\\n                \\n                    <td class=\"a-text-left comparison_add_to_cart_button comparable_item4\">\\n                        \\n                            \\n                            \\n                                <span id=\"comparison_add_to_cart_button4\" class=\"a-button a-spacing-small a-button-primary\"><span class=\"a-button-inner\"><a id=\"comparison_add_to_cart_button4-announce\" href=\"/gp/item-dispatch/ref=psdc_2407781011_a5_B07LF5HD6N?ie=UTF8&amp;itemCount=1&amp;nodeID=2335752011&amp;offeringID.1=8IHLIoXNdqk%252Fb74x9cKGDVL3DL40Gyw2hPV9YOqPKieY1VoFNHBsWH9pS6Sqn7OpoezBCRkIp7JZA49ZczBnMrZyFXZEDzZzLfBODzU%252FofScaxTs0OqdlKvCj%252BnfewjaE6YAHkZpMITHrmsuAP4fwUvwwZ9XILW4&amp;storeID=wireless&amp;session-id=143-0778038-9178745&amp;submit.addToCart=addToCart&amp;signInToHUC=0\" class=\"a-button-text\" role=\"button\">Add to Cart</a></span></span>\\n                            \\n                        \\n                    </td>\\n                \\n            </tr>\\n\\n\\n            <tr id=\"comparison_custormer_rating_row\">\\n                \\n                \\n                \\n                \\n\\n                <th class=\"comparison_attribute_name_column comparison_table_first_col\" role=\"rowheader\">\\n                    <span class=\"a-size-base a-color-base\">Customer Rating</span>\\n                </th>\\n\\n\\n                <td class=\"comparison_baseitem_column\">\\n                    \\n                    \\n                    \\n                    <span>\\n                        <span class=\"a-declarative\" data-action=\"a-popover\" data-a-popover=\"{&quot;max-width&quot;:&quot;700&quot;,&quot;closeButton&quot;:&quot;false&quot;,&quot;position&quot;:&quot;triggerBottom&quot;,&quot;url&quot;:&quot; /gp/customer-reviews/widgets/average-customer-review/popover/ref=acr_dpComparsion__popover?contextId=dpComparsion&amp;asin=B07LF5HD6N &quot;,&quot;restoreFocusOnHide&quot;:&quot;false&quot;}\">\\n                            <i class=\"a-icon a-icon-star a-star-5 a-spacing-none\"><span class=\"a-icon-alt\">5 out of 5 stars</span></i>\\n                        </span>\\n                        <a class=\"a-link-normal\" target=\"_self\" rel=\"noopener\" href=\"/product-reviews/B07LF5HD6N/ref=psdc_2407781011_r0_B07LF5HD6N?_encoding=UTF8&amp;showViewpoints=1\">(667)</a>\\n                        <span class=\"a-letter-space\"></span>\\n                    </span>\\n                </td>\\n\\n\\n                \\n                    <td class=\"comparison_sim_items_column comparable_item0\">\\n                        \\n                        \\n                        \\n                        <span>\\n                            <span class=\"a-declarative\" data-action=\"a-popover\" data-a-popover=\"{&quot;max-width&quot;:&quot;700&quot;,&quot;closeButton&quot;:&quot;false&quot;,&quot;position&quot;:&quot;triggerBottom&quot;,&quot;url&quot;:&quot; /gp/customer-reviews/widgets/average-customer-review/popover/ref=acr_dpComparsion__popover?contextId=dpComparsion&amp;asin=B07FNYD5RQ &quot;,&quot;restoreFocusOnHide&quot;:&quot;false&quot;}\">\\n                                <i class=\"a-icon a-icon-star a-star-4-5 a-spacing-none\"><span class=\"a-icon-alt\">4 out of 5 stars</span></i>\\n                            </span>\\n                            <a class=\"a-link-normal\" target=\"_self\" rel=\"noopener\" href=\"/product-reviews/B07FNYD5RQ/ref=psdc_2407781011_r1_B07LF5HD6N?_encoding=UTF8&amp;showViewpoints=1\">(1136)</a>\\n                            <span class=\"a-letter-space\"></span>\\n                        </span>\\n                    </td>\\n                \\n                    <td class=\"comparison_sim_items_column comparable_item1\">\\n                        \\n                        \\n                        \\n                        <span>\\n                            <span class=\"a-declarative\" data-action=\"a-popover\" data-a-popover=\"{&quot;max-width&quot;:&quot;700&quot;,&quot;closeButton&quot;:&quot;false&quot;,&quot;position&quot;:&quot;triggerBottom&quot;,&quot;url&quot;:&quot; /gp/customer-reviews/widgets/average-customer-review/popover/ref=acr_dpComparsion__popover?contextId=dpComparsion&amp;asin=B07G48RDKF &quot;,&quot;restoreFocusOnHide&quot;:&quot;false&quot;}\">\\n                                <i class=\"a-icon a-icon-star a-star-4-5 a-spacing-none\"><span class=\"a-icon-alt\">4 out of 5 stars</span></i>\\n                            </span>\\n                            <a class=\"a-link-normal\" target=\"_self\" rel=\"noopener\" href=\"/product-reviews/B07G48RDKF/ref=psdc_2407781011_r2_B07LF5HD6N?_encoding=UTF8&amp;showViewpoints=1\">(186)</a>\\n                            <span class=\"a-letter-space\"></span>\\n                        </span>\\n                    </td>\\n                \\n                    <td class=\"comparison_sim_items_column comparable_item2\">\\n                        \\n                        \\n                        \\n                        <span>\\n                            <span class=\"a-declarative\" data-action=\"a-popover\" data-a-popover=\"{&quot;max-width&quot;:&quot;700&quot;,&quot;closeButton&quot;:&quot;false&quot;,&quot;position&quot;:&quot;triggerBottom&quot;,&quot;url&quot;:&quot; /gp/customer-reviews/widgets/average-customer-review/popover/ref=acr_dpComparsion__popover?contextId=dpComparsion&amp;asin=B07FR1LQNZ &quot;,&quot;restoreFocusOnHide&quot;:&quot;false&quot;}\">\\n                                <i class=\"a-icon a-icon-star a-star-4-5 a-spacing-none\"><span class=\"a-icon-alt\">4 out of 5 stars</span></i>\\n                            </span>\\n                            <a class=\"a-link-normal\" target=\"_self\" rel=\"noopener\" href=\"/product-reviews/B07FR1LQNZ/ref=psdc_2407781011_r3_B07LF5HD6N?_encoding=UTF8&amp;showViewpoints=1\">(2017)</a>\\n                            <span class=\"a-letter-space\"></span>\\n                        </span>\\n                    </td>\\n                \\n                    <td class=\"comparison_sim_items_column comparable_item3\">\\n                        \\n                        \\n                        \\n                        <span>\\n                            <span class=\"a-declarative\" data-action=\"a-popover\" data-a-popover=\"{&quot;max-width&quot;:&quot;700&quot;,&quot;closeButton&quot;:&quot;false&quot;,&quot;position&quot;:&quot;triggerBottom&quot;,&quot;url&quot;:&quot; /gp/customer-reviews/widgets/average-customer-review/popover/ref=acr_dpComparsion__popover?contextId=dpComparsion&amp;asin=B07L8X1LGG &quot;,&quot;restoreFocusOnHide&quot;:&quot;false&quot;}\">\\n                                <i class=\"a-icon a-icon-star a-star-5 a-spacing-none\"><span class=\"a-icon-alt\">5 out of 5 stars</span></i>\\n                            </span>\\n                            <a class=\"a-link-normal\" target=\"_self\" rel=\"noopener\" href=\"/product-reviews/B07L8X1LGG/ref=psdc_2407781011_r4_B07LF5HD6N?_encoding=UTF8&amp;showViewpoints=1\">(2055)</a>\\n                            <span class=\"a-letter-space\"></span>\\n                        </span>\\n                    </td>\\n                \\n                    <td class=\"comparison_sim_items_column comparable_item4\">\\n                        \\n                        \\n                        \\n                        <span>\\n                            <span class=\"a-declarative\" data-action=\"a-popover\" data-a-popover=\"{&quot;max-width&quot;:&quot;700&quot;,&quot;closeButton&quot;:&quot;false&quot;,&quot;position&quot;:&quot;triggerBottom&quot;,&quot;url&quot;:&quot; /gp/customer-reviews/widgets/average-customer-review/popover/ref=acr_dpComparsion__popover?contextId=dpComparsion&amp;asin=B07L7BDYYT &quot;,&quot;restoreFocusOnHide&quot;:&quot;false&quot;}\">\\n                                <i class=\"a-icon a-icon-star a-star-4 a-spacing-none\"><span class=\"a-icon-alt\">4 out of 5 stars</span></i>\\n                            </span>\\n                            <a class=\"a-link-normal\" target=\"_self\" rel=\"noopener\" href=\"/product-reviews/B07L7BDYYT/ref=psdc_2407781011_r5_B07LF5HD6N?_encoding=UTF8&amp;showViewpoints=1\">(277)</a>\\n                            <span class=\"a-letter-space\"></span>\\n                        </span>\\n                    </td>\\n                \\n            </tr>\\n\\n\\n            <tr id=\"comparison_price_row\">\\n                <th class=\"comparison_attribute_name_column comparison_table_first_col\" role=\"rowheader\">\\n                    <span class=\"a-size-base a-color-base\">Price</span>\\n                </th>\\n\\n\\n                <td class=\"comparison_baseitem_column\">\\n                    \\n                        \\n                        \\n                        \\n                        \\n                            \\n                                \\n                                    <span class=\"a-price\" data-a-size=\"l\" data-a-color=\"base\"><span class=\"a-offscreen\">$8.99</span><span aria-hidden=\"true\"><span class=\"a-price-symbol\">$</span><span class=\"a-price-whole\">8<span class=\"a-price-decimal\">    3\n",
              " class=\"a-bordered a-horizontal-stripes  a-spacing-extra-large a-size-base comparison_table\">\\n\\n\\n\\n            \\n            \\n            \\n            \\n            \\n            <tr class=\"comparison_table_image_row\">\\n                <td class=\"comparison_table_first_col\"></td>\\n\\n\\n                <th class=\"comparison_image_title_cell\" role=\"columnheader\">\\n                    <div class=\"a-row a-spacing-top-micro\">\\n                        <center>\\n                             <img alt=\"[2-Pack] Google Pixel 2 XL Screen Protector Live2Pedal - Bubble Free/9H Hardness/Anti-Fingerprint/Easy to Install/HD Clear/Tempered Glass Compatible Google Pixel 2 XL Screen Protector\" src=\"https://images-na.ssl-images-amazon.com/images/I/51hBc4QP7eL._SL500_AC_SS350_.jpg\" id=\"comparison_image\">\\n                        </center>\\n                    </div>\\n                    <div class=\"a-row a-spacing-top-small\">\\n                        <div id=\"comparison_title\" class=\"a-section a-spacing-none\">\\n                            <span aria-hidden=\"true\" class=\"a-size-base a-color-base a-text-bold\">\\n                                This item\\n                            </span>\\n                            <span aria-hidden=\"true\" class=\"a-size-base a-color-base\">[2-Pack] Google Pixel 2 XL Screen Protector Live2Pedal - Bubble Free/9H Hardness/Anti-Fingerprint/Easy to Install/HD Clear/Tempered Glass Compatible Google Pixel 2 XL Screen Protector</span>\\n                        </div>\\n                        \\n                        \\n                    </div>\\n                </th>\\n\\n\\n                \\n                    <th class=\"comparison_image_title_cell comparable_item0\" role=\"columnheader\">\\n                        <a class=\"a-link-normal\" target=\"_self\" rel=\"noopener\" href=\"/dp/B075WW69PS/ref=psdc_2407781011_t1_B07MNB462J\">\\n                          <div class=\"a-row a-spacing-top-micro\">\\n                            <center>\\n                                <img alt=\"\" src=\"https://images-na.ssl-images-amazon.com/images/I/51b-beUlX3L._SL500_AC_SS350_.jpg\" aria-hidden=\"true\" id=\"comparison_image0\">\\n                            </center>\\n                          </div>\\n                          <div id=\"comparison_title0\" class=\"a-row a-spacing-top-small\">\\n                            <span class=\"a-size-base\">amFilm Google Pixel 2 XL Screen Protector Glass, Google Pixel 2 XL Tempered Glass Screen Protector 3D Curved with Dot Matrix for Google Pixel 2 XL 0.3mm</span>\\n                          </div>\\n                        </a>\\n                        \\n                        \\n                    </th>\\n                \\n                    <th class=\"comparison_image_title_cell comparable_item1\" role=\"columnheader\">\\n                        <a class=\"a-link-normal\" target=\"_self\" rel=\"noopener\" href=\"/dp/B073RV6PQD/ref=psdc_2407781011_t2_B07MNB462J\">\\n                          <div class=\"a-row a-spacing-top-micro\">\\n                            <center>\\n                                <img alt=\"\" src=\"https://images-na.ssl-images-amazon.com/images/I/51lO3TwD6-L._SL500_AC_SS350_.jpg\" aria-hidden=\"true\" id=\"comparison_image1\">\\n                            </center>\\n                          </div>\\n                          <div id=\"comparison_title1\" class=\"a-row a-spacing-top-small\">\\n                            <span class=\"a-size-base\">Google Pixel 2 XL Screen Protector [Not Glass][2-Pack], IQ Shield LiQuidSkin Full Coverage Screen Protector for Google Pixel 2 XL [Case-friendly][HD Clear][Anti-Bubble][Anti-Scratch]</span>\\n                          </div>\\n                        </a>\\n                        \\n                        \\n                    </th>\\n                \\n                    <th class=\"comparison_image_title_cell comparable_item2\" role=\"columnheader\">\\n                        <a class=\"a-link-normal\" target=\"_self\" rel=\"noopener\" href=\"/dp/B077LDJTWZ/ref=psdc_2407781011_t3_B07MNB462J\">\\n                          <div class=\"a-row a-spacing-top-micro\">\\n                            <center>\\n                                <img alt=\"\" src=\"https://images-na.ssl-images-amazon.com/images/I/51bWTMGt7sL._SL500_AC_SS350_.jpg\" aria-hidden=\"true\" id=\"comparison_image2\">\\n                            </center>\\n                          </div>\\n                          <div id=\"comparison_title2\" class=\"a-row a-spacing-top-small\">\\n                            <span class=\"a-size-base\">Supershieldz [2-Pack] for Google (Pixel 2) Tempered Glass Screen Protector, Anti-Scratch, Bubble Free, Lifetime Replacement Warranty (Black)</span>\\n                          </div>\\n                        </a>\\n                        \\n                        \\n                    </th>\\n                \\n                    <th class=\"comparison_image_title_cell comparable_item3\" role=\"columnheader\">\\n                        <a class=\"a-link-normal\" target=\"_self\" rel=\"noopener\" href=\"/dp/B07G555WYT/ref=psdc_2407781011_t4_B07MNB462J\">\\n                          <div class=\"a-row a-spacing-top-micro\">\\n                            <center>\\n                                <img alt=\"\" src=\"https://images-na.ssl-images-amazon.com/images/I/51F1629cR9L._SL500_AC_SS350_.jpg\" aria-hidden=\"true\" id=\"comparison_image3\">\\n                            </center>\\n                          </div>\\n                          <div id=\"comparison_title3\" class=\"a-row a-spacing-top-small\">\\n                            <span class=\"a-size-base\">for Google Pixel 2 XL Tempered Glass Screen Protector,Undada[Full Coverage][Bubble-Free][Anti-Scratch][Ultra-Clear] Tempered Glass Screen Protector for Google Pixel 2XL [Black]</span>\\n                          </div>\\n                        </a>\\n                        \\n                        \\n                    </th>\\n                \\n            </tr>\\n\\n\\n            <tr></tr>\\n\\n\\n            \\n            \\n            <tr>\\n                <td class=\"comparison_table_first_col\"></td>\\n\\n\\n                <td class=\"comparison_add_to_cart_button\">\\n                    \\n                        \\n                        \\n                        \\n                            <span id=\"comparison_add_to_cart_button\" class=\"a-button a-spacing-small a-button-primary\"><span class=\"a-button-inner\"><a id=\"comparison_add_to_cart_button-announce\" href=\"/gp/item-dispatch/ref=psdc_2407781011_a0_B07MNB462J?ie=UTF8&amp;itemCount=1&amp;nodeID=2335752011&amp;offeringID.1=ea24L%252B34n8xJ58Gypevk0q2sKjfp4DMgfPbLLClKP5ke5%252F8z4tPOIuOrkt4h0rzy9EtEFhfDaXeAvycbfgMa5T56g76%252Fw5%252BVXhyOA%252BADn9Nt%252BSVoDSG8gMkWctnT%252FrnU9rtdJ2fxDq6XEqFIGgYXW5bK7pUQXXPt&amp;storeID=wireless&amp;session-id=146-2011683-8560753&amp;submit.addToCart=addToCart&amp;signInToHUC=0\" class=\"a-button-text\" role=\"button\">Add to Cart</a></span></span>\\n                        \\n                    \\n                </td>\\n\\n\\n                \\n                    <td class=\"a-text-left comparison_add_to_cart_button comparable_item0\">\\n                        \\n                            \\n                            \\n                                <span id=\"comparison_add_to_cart_button0\" class=\"a-button a-spacing-small a-button-primary\"><span class=\"a-button-inner\"><a id=\"comparison_add_to_cart_button0-announce\" href=\"/gp/item-dispatch/ref=psdc_2407781011_a1_B07MNB462J?ie=UTF8&amp;itemCount=1&amp;nodeID=2335752011&amp;offeringID.1=qzVq0KcQkSWWTpS%252Brc58WvoGE7rvQ52q2rJZwj4gkE1wtP7%252BZDgsLyEA9NLiZQaKrrzO9NjyTbhQzpPNM3oGTMSLRQkHeiesQ7q8MKsMPrdyYzaUczBVB7MZRmcqtuoKTl%252F20UeqoG5P5FOThkVw8g%253D%253D&amp;storeID=wireless&amp;session-id=146-2011683-8560753&amp;submit.addToCart=addToCart&amp;signInToHUC=0\" class=\"a-button-text\" role=\"button\">Add to Cart</a></span></span>\\n                            \\n                        \\n                    </td>\\n                \\n                    <td class=\"a-text-left comparison_add_to_cart_button comparable_item1\">\\n                        \\n                            \\n                            \\n                                <span id=\"comparison_add_to_cart_button1\" class=\"a-button a-spacing-small a-button-primary\"><span class=\"a-button-inner\"><a id=\"comparison_add_to_cart_button1-announce\" href=\"/gp/item-dispatch/ref=psdc_2407781011_a2_B07MNB462J?ie=UTF8&amp;itemCount=1&amp;nodeID=2335752011&amp;offeringID.1=tv%252FZ7Vhuwjs8Ku8Dn0gpmVzsykUl2nGr0QxqIIlsHd%252Fac0smB5UzHQDVJlet75WXym%252F2vdzw6gDqecWPO1CMjDG1G9OySJZUHeDipA9O9R9sk0mTPhdT7CdhBo3Ry%252FvwY9VAafCGXOgzIEbDPexr19gWnLQ5bUlz&amp;storeID=wireless&amp;session-id=146-2011683-8560753&amp;submit.addToCart=addToCart&amp;signInToHUC=0\" class=\"a-button-text\" role=\"button\">Add to Cart</a></span></span>\\n                            \\n                        \\n                    </td>\\n                \\n                    <td class=\"a-text-left comparison_add_to_cart_button comparable_item2\">\\n                        \\n                            \\n                            \\n                                <span id=\"comparison_add_to_cart_button2\" class=\"a-button a-spacing-small a-button-primary\"><span class=\"a-button-inner\"><a id=\"comparison_add_to_cart_button2-announce\" href=\"/gp/item-dispatch/ref=psdc_2407781011_a3_B07MNB462J?ie=UTF8&amp;itemCount=1&amp;nodeID=172282&amp;offeringID.1=V%252Ft0Qk5zPRGKlr%252Bf8I6YuHGEsILmaK%252B2rzVui9pUE%252FZl%252FTpP8YzOH6n7TFTFIBO3Nz9DEDcRLUGHXpAsrIG3%252Fi609NO30rZBnery%252B%252B5lgWVsum%252F77RdKvqtrCO1eJXDo4lZ7r0wpnkfd%252FcDdfGl3UQ%253D%253D&amp;storeID=electronics&amp;session-id=146-2011683-8560753&amp;submit.addToCart=addToCart&amp;signInToHUC=0\" class=\"a-button-text\" role=\"button\">Add to Cart</a></span></span>\\n                            \\n                        \\n                    </td>\\n                \\n                    <td class=\"a-text-left comparison_add_to_cart_button comparable_item3\">\\n                        \\n                            \\n                            \\n                                <span id=\"comparison_add_to_cart_button3\" class=\"a-button a-spacing-small a-button-primary\"><span class=\"a-button-inner\"><a id=\"comparison_add_to_cart_button3-announce\" href=\"/gp/item-dispatch/ref=psdc_2407781011_a4_B07MNB462J?ie=UTF8&amp;itemCount=1&amp;nodeID=2335752011&amp;offeringID.1=lC6nLojBhYfcMatkp%252Bija6pbj2QKP4eflCwgEcLasIkDx1gOGXBQJreJu8t7I%252BBIytt94TDWLtw06cZVu6EIwPAxMPXygzPU7TtxIzbTSQOaM3xMF3O5mtZRYkvDD7JRkmx7tl0foE5Dw0peops1AaiG9K0M84Kw&amp;storeID=wireless&amp;session-id=146-2011683-8560753&amp;submit.addToCart=addToCart&amp;signInToHUC=0\" class=\"a-button-text\" role=\"button\">Add to Cart</a></span></span>\\n                            \\n                        \\n                    </td>\\n                \\n            </tr>\\n\\n\\n            <tr id=\"comparison_custormer_rating_row\">\\n                \\n                \\n                \\n                \\n\\n                <th class=\"comparison_attribute_name_column comparison_table_first_col\" role=\"rowheader\">\\n                    <span class=\"a-size-base a-color-base\">Customer Rating</span>\\n                </th>\\n\\n\\n                <td class=\"comparison_baseitem_column\">\\n                    \\n                    \\n                    \\n                    <span>\\n                        <span class=\"a-declarative\" data-action=\"a-popover\" data-a-popover=\"{&quot;max-width&quot;:&quot;700&quot;,&quot;closeButton&quot;:&quot;false&quot;,&quot;position&quot;:&quot;triggerBottom&quot;,&quot;url&quot;:&quot; /gp/customer-reviews/widgets/average-customer-review/popover/ref=acr_dpComparsion__popover?contextId=dpComparsion&amp;asin=B07MNB462J &quot;,&quot;restoreFocusOnHide&quot;:&quot;false&quot;}\">\\n                            <i class=\"a-icon a-icon-star a-star-4 a-spacing-none\"><span class=\"a-icon-alt\">4 out of 5 stars</span></i>\\n                        </span>\\n                        <a class=\"a-link-normal\" target=\"_self\" rel=\"noopener\" href=\"/product-reviews/B07MNB462J/ref=psdc_2407781011_r0_B07MNB462J?_encoding=UTF8&amp;showViewpoints=1\">(124)</a>\\n                        <span class=\"a-letter-space\"></span>\\n                    </span>\\n                </td>\\n\\n\\n                \\n                    <td class=\"comparison_sim_items_column comparable_item0\">\\n                        \\n                        \\n                        \\n                        <span>\\n                            <span class=\"a-declarative\" data-action=\"a-popover\" data-a-popover=\"{&quot;max-width&quot;:&quot;700&quot;,&quot;closeButton&quot;:&quot;false&quot;,&quot;position&quot;:&quot;triggerBottom&quot;,&quot;url&quot;:&quot; /gp/customer-reviews/widgets/average-customer-review/popover/ref=acr_dpComparsion__popover?contextId=dpComparsion&amp;asin=B075WW69PS &quot;,&quot;restoreFocusOnHide&quot;:&quot;false&quot;}\">\\n                                <i class=\"a-icon a-icon-star a-star-3 a-spacing-none\"><span class=\"a-icon-alt\">3 out of 5 stars</span></i>\\n                            </span>\\n                            <a class=\"a-link-normal\" target=\"_self\" rel=\"noopener\" href=\"/product-reviews/B075WW69PS/ref=psdc_2407781011_r1_B07MNB462J?_encoding=UTF8&amp;showViewpoints=1\">(2016)</a>\\n                            <span class=\"a-letter-space\"></span>\\n                        </span>\\n                    </td>\\n                \\n                    <td class=\"comparison_sim_items_column comparable_item1\">\\n                        \\n                        \\n                        \\n                        <span>\\n                            <span class=\"a-declarative\" data-action=\"a-popover\" data-a-popover=\"{&quot;max-width&quot;:&quot;700&quot;,&quot;closeButton&quot;:&quot;false&quot;,&quot;position&quot;:&quot;triggerBottom&quot;,&quot;url&quot;:&quot; /gp/customer-reviews/widgets/average-customer-review/popover/ref=acr_dpComparsion__popover?contextId=dpComparsion&amp;asin=B073RV6PQD &quot;,&quot;restoreFocusOnHide&quot;:&quot;false&quot;}\">\\n                                <i class=\"a-icon a-icon-star a-star-3-5 a-spacing-none\"><span class=\"a-icon-alt\">3 out of 5 stars</span></i>\\n                            </span>\\n                            <a class=\"a-link-normal\" target=\"_self\" rel=\"noopener\" href=\"/product-reviews/B073RV6PQD/ref=psdc_2407781011_r2_B07MNB462J?_encoding=UTF8&amp;showViewpoints=1\">(630)</a>\\n                            <span class=\"a-letter-space\"></span>\\n                        </span>\\n                    </td>\\n                \\n                    <td class=\"comparison_sim_items_column comparable_item2\">\\n                        \\n                        \\n                        \\n                        <span>\\n                            <span class=\"a-declarative\" data-action=\"a-popover\" data-a-popover=\"{&quot;max-width&quot;:&quot;700&quot;,&quot;closeButton&quot;:&quot;false&quot;,&quot;position&quot;:&quot;triggerBottom&quot;,&quot;url&quot;:&quot; /gp/customer-reviews/widgets/average-customer-review/popover/ref=acr_dpComparsion__popover?contextId=dpComparsion&amp;asin=B077LDJTWZ &quot;,&quot;restoreFocusOnHide&quot;:&quot;false&quot;}\">\\n                                <i class=\"a-icon a-icon-star a-star-4 a-spacing-none\"><span class=\"a-icon-alt\">4 out of 5 stars</span></i>\\n                            </span>\\n                            <a class=\"a-link-normal\" target=\"_self\" rel=\"noopener\" href=\"/product-reviews/B077LDJTWZ/ref=psdc_2407781011_r3_B07MNB462J?_encoding=UTF8&amp;showViewpoints=1\">(667)</a>\\n                            <span class=\"a-letter-space\"></span>\\n                        </span>\\n                    </td>\\n                \\n                    <td class=\"comparison_sim_items_column comparable_item3\">\\n                        \\n                        \\n                        \\n                        <span>\\n                            <span class=\"a-declarative\" data-action=\"a-popover\" data-a-popover=\"{&quot;max-width&quot;:&quot;700&quot;,&quot;closeButton&quot;:&quot;false&quot;,&quot;position&quot;:&quot;triggerBottom&quot;,&quot;url&quot;:&quot; /gp/customer-reviews/widgets/average-customer-review/popover/ref=acr_dpComparsion__popover?contextId=dpComparsion&amp;asin=B07G555WYT &quot;,&quot;restoreFocusOnHide&quot;:&quot;false&quot;}\">\\n                                <i class=\"a-icon a-icon-star a-star-2-5 a-spacing-none\"><span class=\"a-icon-alt\">2 out of 5 stars</span></i>\\n                            </span>\\n                            <a class=\"a-link-normal\" target=\"_self\" rel=\"noopener\" href=\"/product-reviews/B07G555WYT/ref=psdc_2407781011_r4_B07MNB462J?_encoding=UTF8&amp;showViewpoints=1\">(22)</a>\\n                            <span class=\"a-letter-space\"></span>\\n                        </span>\\n                    </td>\\n                \\n            </tr>\\n\\n\\n            <tr id=\"comparison_price_row\">\\n                <th class=\"comparison_attribute_name_column comparison_table_first_col\" role=\"rowheader\">\\n                    <span class=\"a-size-base a-color-base\">Price</span>\\n                </th>\\n\\n\\n                <td class=\"comparison_baseitem_column\">\\n                    \\n                        \\n                        \\n                        \\n                        \\n                            \\n                                \\n                                    <span class=\"a-price\" data-a-size=\"l\" data-a-color=\"base\"><span class=\"a-offscreen\">$7.99</span><span aria-hidden=\"true\"><span class=\"a-price-symbol\">$</span><span class=\"a-price-whole\">7<span class=\"a-price-decimal\">                                                                                                                                                                                                                                                                                                                                                                                                                                                                                                                                                                                                                                                                                                                                                                                                                                                                                                                                                                                                                                                                                                                                                                                                                                                                                                                                                                                                                                                                                                                                                                                                                                                                                                                                                                                                                                                                                                                                                                                                                                                                                                                                                                                                                                                                                                                                                                                                                                                                                                                                                                                                                                                                                                                                                                                                                                                                                                                                                                                                                                                                                                                                                                                                                                                                                                                                                                                                                                                                                                                                                                                                                                                                                                                                                                                                                                                         2\n",
              " class=\"a-bordered a-horizontal-stripes  a-spacing-extra-large a-size-base comparison_table\">\\n\\n\\n\\n            \\n            \\n            \\n            \\n            \\n            <tr class=\"comparison_table_image_row\">\\n                <td class=\"comparison_table_first_col\"></td>\\n\\n\\n                <th class=\"comparison_image_title_cell\" role=\"columnheader\">\\n                    <div class=\"a-row a-spacing-top-micro\">\\n                        <center>\\n                             <img alt=\"AquaClear Case Cover for 30/150 Power Filters\" src=\"https://images-na.ssl-images-amazon.com/images/I/31RPVjkN21L._SL500_AC_SS350_.jpg\" id=\"comparison_image\">\\n                        </center>\\n                    </div>\\n                    <div class=\"a-row a-spacing-top-small\">\\n                        <div id=\"comparison_title\" class=\"a-section a-spacing-none\">\\n                            <span aria-hidden=\"true\" class=\"a-size-base a-color-base a-text-bold\">\\n                                This item\\n                            </span>\\n                            <span aria-hidden=\"true\" class=\"a-size-base a-color-base\">AquaClear Case Cover for 30/150 Power Filters</span>\\n                        </div>\\n                        \\n                        \\n                    </div>\\n                </th>\\n\\n\\n                \\n                    <th class=\"comparison_image_title_cell comparable_item0\" role=\"columnheader\">\\n                        <a class=\"a-link-normal\" target=\"_self\" rel=\"noopener\" href=\"/dp/B0002DIDP4/ref=psdc_3081461011_t1_B0002DHZHG\">\\n                          <div class=\"a-row a-spacing-top-micro\">\\n                            <center>\\n                                <img alt=\"\" src=\"https://images-na.ssl-images-amazon.com/images/I/31BMdfAri5L._SL500_AC_SS350_.jpg\" aria-hidden=\"true\" id=\"comparison_image0\">\\n                            </center>\\n                          </div>\\n                          <div id=\"comparison_title0\" class=\"a-row a-spacing-top-small\">\\n                            <span class=\"a-size-base\">AquaClear Case Cover for 50/200 Power Filters</span>\\n                          </div>\\n                        </a>\\n                        \\n                        \\n                    </th>\\n                \\n                    <th class=\"comparison_image_title_cell comparable_item1\" role=\"columnheader\">\\n                        <a class=\"a-link-normal\" target=\"_self\" rel=\"noopener\" href=\"/dp/B0002DIDPO/ref=psdc_3081461011_t2_B0002DHZHG\">\\n                          <div class=\"a-row a-spacing-top-micro\">\\n                            <center>\\n                                <img alt=\"\" src=\"https://images-na.ssl-images-amazon.com/images/I/41e8eiH2GsL._SL500_AC_SS350_.jpg\" aria-hidden=\"true\" id=\"comparison_image1\">\\n                            </center>\\n                          </div>\\n                          <div id=\"comparison_title1\" class=\"a-row a-spacing-top-small\">\\n                            <span class=\"a-size-base\">AquaClear Case Cover for 70/300 Power Filters</span>\\n                          </div>\\n                        </a>\\n                        \\n                        \\n                    </th>\\n                \\n                    <th class=\"comparison_image_title_cell comparable_item2\" role=\"columnheader\">\\n                        <a class=\"a-link-normal\" target=\"_self\" rel=\"noopener\" href=\"/dp/B0002Z7TN4/ref=psdc_3081461011_t3_B0002DHZHG\">\\n                          <div class=\"a-row a-spacing-top-micro\">\\n                            <center>\\n                                <img alt=\"\" src=\"https://images-na.ssl-images-amazon.com/images/I/31pWwdzcdiL._SL500_AC_SS350_.jpg\" aria-hidden=\"true\" id=\"comparison_image2\">\\n                            </center>\\n                          </div>\\n                          <div id=\"comparison_title2\" class=\"a-row a-spacing-top-small\">\\n                            <span class=\"a-size-base\">AquaClear Case Cover for 110/500 Power Filters</span>\\n                          </div>\\n                        </a>\\n                        \\n                        \\n                    </th>\\n                \\n            </tr>\\n\\n\\n            <tr></tr>\\n\\n\\n            \\n            \\n            <tr>\\n                <td class=\"comparison_table_first_col\"></td>\\n\\n\\n                <td class=\"comparison_add_to_cart_button\">\\n                    \\n                        \\n                        \\n                        \\n                            <span id=\"comparison_add_to_cart_button\" class=\"a-button a-spacing-small a-button-primary\"><span class=\"a-button-inner\"><a id=\"comparison_add_to_cart_button-announce\" href=\"/gp/item-dispatch/ref=psdc_3081461011_a0_B0002DHZHG?ie=UTF8&amp;itemCount=1&amp;nodeID=2619533011&amp;offeringID.1=%252FNMy1NlZyhN834tXByuQfMt7vnVqcWhllLyCHFjEVnefkPLUuwo2lIqU3nWX78PIAnUdYiQLuNjjtSOphaPmmt6b7dV7V2e92lML7A4LyD5P%252FUUxd1VHPQ%253D%253D&amp;storeID=pet-supplies&amp;session-id=142-1444763-7247617&amp;submit.addToCart=addToCart&amp;signInToHUC=0\" class=\"a-button-text\" role=\"button\">Add to Cart</a></span></span>\\n                        \\n                    \\n                </td>\\n\\n\\n                \\n                    <td class=\"a-text-left comparison_add_to_cart_button comparable_item0\">\\n                        \\n                            \\n                            \\n                                <span id=\"comparison_add_to_cart_button0\" class=\"a-button a-spacing-small a-button-primary\"><span class=\"a-button-inner\"><a id=\"comparison_add_to_cart_button0-announce\" href=\"/gp/item-dispatch/ref=psdc_3081461011_a1_B0002DHZHG?ie=UTF8&amp;itemCount=1&amp;nodeID=2619533011&amp;offeringID.1=%252FNMy1NlZyhN834tXByuQfBOPe8Oqk2pqb%252B7QbP5aMPOwQFHXEXoq%252FQ%252FOal1rt6vJGWonFFKY%252FbK5dFrbglG7Q%252Fwf8Mh%252B%252F1hBR0NUlh%252FhczD2wl6omy89Xg%253D%253D&amp;storeID=pet-supplies&amp;session-id=142-1444763-7247617&amp;submit.addToCart=addToCart&amp;signInToHUC=0\" class=\"a-button-text\" role=\"button\">Add to Cart</a></span></span>\\n                            \\n                        \\n                    </td>\\n                \\n                    <td class=\"a-text-left comparison_add_to_cart_button comparable_item1\">\\n                        \\n                            \\n                            \\n                                <span id=\"comparison_add_to_cart_button1\" class=\"a-button a-spacing-small a-button-primary\"><span class=\"a-button-inner\"><a id=\"comparison_add_to_cart_button1-announce\" href=\"/gp/item-dispatch/ref=psdc_3081461011_a2_B0002DHZHG?ie=UTF8&amp;itemCount=1&amp;nodeID=2619533011&amp;offeringID.1=%252FNMy1NlZyhN834tXByuQfH%252FbxoxkhHIsAodauOs2shkb7YrmMxiiK2LuoI1mxmFcFbOZP%252FxCT5%252B8SHWPuvCJ4mrkatbX9Qy3eh%252Fi8m1Hwaa9diPlur7%252BTfTLzorLAMPV2BmdUStXGQd0UeSalDhIEA%253D%253D&amp;storeID=pet-supplies&amp;session-id=142-1444763-7247617&amp;submit.addToCart=addToCart&amp;signInToHUC=0\" class=\"a-button-text\" role=\"button\">Add to Cart</a></span></span>\\n                            \\n                        \\n                    </td>\\n                \\n                    <td class=\"a-text-left comparison_add_to_cart_button comparable_item2\">\\n                        \\n                            \\n                            \\n                                <span id=\"comparison_add_to_cart_button2\" class=\"a-button a-spacing-small a-button-primary\"><span class=\"a-button-inner\"><a id=\"comparison_add_to_cart_button2-announce\" href=\"/gp/item-dispatch/ref=psdc_3081461011_a3_B0002DHZHG?ie=UTF8&amp;itemCount=1&amp;nodeID=2619533011&amp;offeringID.1=%252FNMy1NlZyhN834tXByuQfFsfiVSAEzATAiiDSolmL1lcMWcmQFV1WU420iATlC8ucFZga%252FkfGGb7h71ANRxqzA1xJM6zBRVENAbJZkAknLZxJZGPePt0jw%253D%253D&amp;storeID=pet-supplies&amp;session-id=142-1444763-7247617&amp;submit.addToCart=addToCart&amp;signInToHUC=0\" class=\"a-button-text\" role=\"button\">Add to Cart</a></span></span>\\n                            \\n                        \\n                    </td>\\n                \\n            </tr>\\n\\n\\n            <tr id=\"comparison_custormer_rating_row\">\\n                \\n                \\n                \\n                \\n\\n                <th class=\"comparison_attribute_name_column comparison_table_first_col\" role=\"rowheader\">\\n                    <span class=\"a-size-base a-color-base\">Customer Rating</span>\\n                </th>\\n\\n\\n                <td class=\"comparison_baseitem_column\">\\n                    \\n                    \\n                    \\n                    <span>\\n                        <span class=\"a-declarative\" data-action=\"a-popover\" data-a-popover=\"{&quot;max-width&quot;:&quot;700&quot;,&quot;closeButton&quot;:&quot;false&quot;,&quot;position&quot;:&quot;triggerBottom&quot;,&quot;url&quot;:&quot; /gp/customer-reviews/widgets/average-customer-review/popover/ref=acr_dpComparsion__popover?contextId=dpComparsion&amp;asin=B0002DHZHG &quot;,&quot;restoreFocusOnHide&quot;:&quot;false&quot;}\">\\n                            <i class=\"a-icon a-icon-star a-star-5 a-spacing-none\"><span class=\"a-icon-alt\">5 out of 5 stars</span></i>\\n                        </span>\\n                        <a class=\"a-link-normal\" target=\"_self\" rel=\"noopener\" href=\"/product-reviews/B0002DHZHG/ref=psdc_3081461011_r0_B0002DHZHG?_encoding=UTF8&amp;showViewpoints=1\">(2)</a>\\n                        <span class=\"a-letter-space\"></span>\\n                    </span>\\n                </td>\\n\\n\\n                \\n                    <td class=\"comparison_sim_items_column comparable_item0\">\\n                        \\n                        \\n                        \\n                        <span>\\n                            <span class=\"a-declarative\" data-action=\"a-popover\" data-a-popover=\"{&quot;max-width&quot;:&quot;700&quot;,&quot;closeButton&quot;:&quot;false&quot;,&quot;position&quot;:&quot;triggerBottom&quot;,&quot;url&quot;:&quot; /gp/customer-reviews/widgets/average-customer-review/popover/ref=acr_dpComparsion__popover?contextId=dpComparsion&amp;asin=B0002DIDP4 &quot;,&quot;restoreFocusOnHide&quot;:&quot;false&quot;}\">\\n                                <i class=\"a-icon a-icon-star a-star-5 a-spacing-none\"><span class=\"a-icon-alt\">5 out of 5 stars</span></i>\\n                            </span>\\n                            <a class=\"a-link-normal\" target=\"_self\" rel=\"noopener\" href=\"/product-reviews/B0002DIDP4/ref=psdc_3081461011_r1_B0002DHZHG?_encoding=UTF8&amp;showViewpoints=1\">(3)</a>\\n                            <span class=\"a-letter-space\"></span>\\n                        </span>\\n                    </td>\\n                \\n                    <td class=\"comparison_sim_items_column comparable_item1\">\\n                        \\n                        \\n                        \\n                        <span>\\n                            <span class=\"a-declarative\" data-action=\"a-popover\" data-a-popover=\"{&quot;max-width&quot;:&quot;700&quot;,&quot;closeButton&quot;:&quot;false&quot;,&quot;position&quot;:&quot;triggerBottom&quot;,&quot;url&quot;:&quot; /gp/customer-reviews/widgets/average-customer-review/popover/ref=acr_dpComparsion__popover?contextId=dpComparsion&amp;asin=B0002DIDPO &quot;,&quot;restoreFocusOnHide&quot;:&quot;false&quot;}\">\\n                                <i class=\"a-icon a-icon-star a-star-3 a-spacing-none\"><span class=\"a-icon-alt\">3 out of 5 stars</span></i>\\n                            </span>\\n                            <a class=\"a-link-normal\" target=\"_self\" rel=\"noopener\" href=\"/product-reviews/B0002DIDPO/ref=psdc_3081461011_r2_B0002DHZHG?_encoding=UTF8&amp;showViewpoints=1\">(4)</a>\\n                            <span class=\"a-letter-space\"></span>\\n                        </span>\\n                    </td>\\n                \\n                    <td class=\"comparison_sim_items_column comparable_item2\">\\n                        \\n                        \\n                        \\n                        <span>\\n                            <span class=\"a-declarative\" data-action=\"a-popover\" data-a-popover=\"{&quot;max-width&quot;:&quot;700&quot;,&quot;closeButton&quot;:&quot;false&quot;,&quot;position&quot;:&quot;triggerBottom&quot;,&quot;url&quot;:&quot; /gp/customer-reviews/widgets/average-customer-review/popover/ref=acr_dpComparsion__popover?contextId=dpComparsion&amp;asin=B0002Z7TN4 &quot;,&quot;restoreFocusOnHide&quot;:&quot;false&quot;}\">\\n                                <i class=\"a-icon a-icon-star a-star-4-5 a-spacing-none\"><span class=\"a-icon-alt\">4 out of 5 stars</span></i>\\n                            </span>\\n                            <a class=\"a-link-normal\" target=\"_self\" rel=\"noopener\" href=\"/product-reviews/B0002Z7TN4/ref=psdc_3081461011_r3_B0002DHZHG?_encoding=UTF8&amp;showViewpoints=1\">(6)</a>\\n                            <span class=\"a-letter-space\"></span>\\n                        </span>\\n                    </td>\\n                \\n            </tr>\\n\\n\\n            <tr id=\"comparison_price_row\">\\n                <th class=\"comparison_attribute_name_column comparison_table_first_col\" role=\"rowheader\">\\n                    <span class=\"a-size-base a-color-base\">Price</span>\\n                </th>\\n\\n\\n                <td class=\"comparison_baseitem_column\">\\n                    \\n                        \\n                        \\n                        \\n                        \\n                            \\n                                \\n                                    <span class=\"a-price\" data-a-size=\"l\" data-a-color=\"base\"><span class=\"a-offscreen\">$12.82</span><span aria-hidden=\"true\"><span class=\"a-price-symbol\">$</span><span class=\"a-price-whole\">12<span class=\"a-price-decimal\">                                                                                                                                                                                                                                                                                                                                                                                                                                                                                                                                                                                                                                                                                                                                                                                                                                                                                                                                                                                                                                                                                                                                                                                                                                                                                                                                                                                                                                                                                                                                                                                                                                                                                                                                                                                                                                                                                                                                                                                                                                                                                                                                                                                                                                                                                                                                                                                                                                                                                                                                                                                                                                                                                                                                                                                                                                                                                                                                                                                                                                                                                                                                                                                                                                                                                                                                                                                                                                                                                                                                                                                                                                                                                                                                                                                                                                                                                                                                                                                                                                                                                                                                                                                                                                                                                                                                                                                                                                                                                                                                                                                                                                                                                                                                                                                                                                                                                                                                                                                                                                                                                                                                                                                                                                                                                                                                                                                                                                                                                                                                                                                                                                                                                                                                                                                                                                                                                                                                                                                                                                                                                                                                                                                                                                                                                                                                                                                                                                                                                                                                                                                                                                                                                                                                                                                                                                                                                                                                                                                                                                                                                                                                                                                                                                                                                                                                                                                                                                                                                                                                                                                                                                                                                                                                                                                                                                                                                                                2\n",
              " class=\"a-bordered a-horizontal-stripes  a-spacing-extra-large a-size-base comparison_table\">\\n\\n\\n\\n            \\n            \\n            \\n            \\n            \\n            <tr class=\"comparison_table_image_row\">\\n                <td class=\"comparison_table_first_col\"></td>\\n\\n\\n                <th class=\"comparison_image_title_cell\" role=\"columnheader\">\\n                    <div class=\"a-row a-spacing-top-micro\">\\n                        <center>\\n                             <img alt=\"Unnito iPhone 6 Case  Hybrid Commuter Case | Slim Cover with Hard Shell Design and Soft Inner Layer Compatible with iPhone 6S White Case - Cute Pineapple\" src=\"https://images-na.ssl-images-amazon.com/images/I/61kzHh8lgaL._SL500_AC_SS350_.jpg\" id=\"comparison_image\">\\n                        </center>\\n                    </div>\\n                    <div class=\"a-row a-spacing-top-small\">\\n                        <div id=\"comparison_title\" class=\"a-section a-spacing-none\">\\n                            <span aria-hidden=\"true\" class=\"a-size-base a-color-base a-text-bold\">\\n                                This item\\n                            </span>\\n                            <span aria-hidden=\"true\" class=\"a-size-base a-color-base\">Unnito iPhone 6 Case  Hybrid Commuter Case | Slim Cover with Hard Shell Design and Soft Inner Layer Compatible with iPhone 6S White Case - Cute Pineapple</span>\\n                        </div>\\n                        \\n                        \\n                    </div>\\n                </th>\\n\\n\\n                \\n                    <th class=\"comparison_image_title_cell comparable_item0\" role=\"columnheader\">\\n                        <a class=\"a-link-normal\" target=\"_self\" rel=\"noopener\" href=\"/dp/B07478ZZDP/ref=psdc_3081461011_t1_B013FD77FO\">\\n                          <div class=\"a-row a-spacing-top-micro\">\\n                            <center>\\n                                <img alt=\"\" src=\"https://images-na.ssl-images-amazon.com/images/I/51woQ6qAqpL._SL500_AC_SS350_.jpg\" aria-hidden=\"true\" id=\"comparison_image0\">\\n                            </center>\\n                          </div>\\n                          <div id=\"comparison_title0\" class=\"a-row a-spacing-top-small\">\\n                            <span class=\"a-size-base\">iPhone 6s Case, iPhone 6 Case Pineapple, BENTOBEN Super Slim Gold Pineapple Design Hard PC Soft Rubber Glossy Anti-Scratch Shock Proof Protective Case Cover for iPhone 6 6s 4.7\", White/Gold</span>\\n                          </div>\\n                        </a>\\n                        \\n                        \\n                    </th>\\n                \\n                    <th class=\"comparison_image_title_cell comparable_item1\" role=\"columnheader\">\\n                        <a class=\"a-link-normal\" target=\"_self\" rel=\"noopener\" href=\"/dp/B00N1X40WW/ref=psdc_3081461011_t2_B013FD77FO\">\\n                          <div class=\"a-row a-spacing-top-micro\">\\n                            <center>\\n                                <img alt=\"\" src=\"https://images-na.ssl-images-amazon.com/images/I/41Sph3JfbqL._SL500_AC_SS350_.jpg\" aria-hidden=\"true\" id=\"comparison_image1\">\\n                            </center>\\n                          </div>\\n                          <div id=\"comparison_title1\" class=\"a-row a-spacing-top-small\">\\n                            <span class=\"a-size-base\">OtterBox COMMUTER SERIES iPhone 6/6s Case - Frustration Free Packaging - AQUA SKY (AQUA BLUE/LIGHT TEAL)</span>\\n                          </div>\\n                        </a>\\n                        \\n                        \\n                    </th>\\n                \\n                    <th class=\"comparison_image_title_cell comparable_item2\" role=\"columnheader\">\\n                        <a class=\"a-link-normal\" target=\"_self\" rel=\"noopener\" href=\"/dp/B00N1X4D92/ref=psdc_3081461011_t3_B013FD77FO\">\\n                          <div class=\"a-row a-spacing-top-micro\">\\n                            <center>\\n                                <img alt=\"\" src=\"https://images-na.ssl-images-amazon.com/images/I/41m%2BL8Dl%2BtL._SL500_AC_SS350_.jpg\" aria-hidden=\"true\" id=\"comparison_image2\">\\n                            </center>\\n                          </div>\\n                          <div id=\"comparison_title2\" class=\"a-row a-spacing-top-small\">\\n                            <span class=\"a-size-base\">OtterBox COMMUTER SERIES iPhone 6/6s Case - Frustration Free Packaging - NEON ROSE (WHISPER WHITE/BLAZE PINK)</span>\\n                          </div>\\n                        </a>\\n                        \\n                        \\n                    </th>\\n                \\n                    <th class=\"comparison_image_title_cell comparable_item3\" role=\"columnheader\">\\n                        <a class=\"a-link-normal\" target=\"_self\" rel=\"noopener\" href=\"/dp/B06XNJRGF9/ref=psdc_3081461011_t4_B013FD77FO\">\\n                          <div class=\"a-row a-spacing-top-micro\">\\n                            <center>\\n                                <img alt=\"\" src=\"https://images-na.ssl-images-amazon.com/images/I/51SsGB3OW2L._SL500_AC_SS350_.jpg\" aria-hidden=\"true\" id=\"comparison_image3\">\\n                            </center>\\n                          </div>\\n                          <div id=\"comparison_title3\" class=\"a-row a-spacing-top-small\">\\n                            <span class=\"a-size-base\">ULAK iPhone 6S Case,iPhone 6 Case Marble, Slim Fit Dual Layer Soft Silicone Gel Rubber & Hard Back Cover Bumper Protective Shock-Absorption & Skid-Proof Anti-Scratch Hybrid Case, Marble Pattern</span>\\n                          </div>\\n                        </a>\\n                        \\n                        \\n                    </th>\\n                \\n                    <th class=\"comparison_image_title_cell comparable_item4\" role=\"columnheader\">\\n                        <a class=\"a-link-normal\" target=\"_self\" rel=\"noopener\" href=\"/dp/B00N1X2UC4/ref=psdc_3081461011_t5_B013FD77FO\">\\n                          <div class=\"a-row a-spacing-top-micro\">\\n                            <center>\\n                                <img alt=\"\" src=\"https://images-na.ssl-images-amazon.com/images/I/41tT%2B1dH-%2BL._SL500_AC_SS350_.jpg\" aria-hidden=\"true\" id=\"comparison_image4\">\\n                            </center>\\n                          </div>\\n                          <div id=\"comparison_title4\" class=\"a-row a-spacing-top-small\">\\n                            <span class=\"a-size-base\">OtterBox COMMUTER SERIES iPhone 6/6s Case - Frustration Free Packaging - INK BLUE (ADMIRAL BLUE/DEEP WATER BLUE)</span>\\n                          </div>\\n                        </a>\\n                        \\n                        \\n                    </th>\\n                \\n            </tr>\\n\\n\\n            <tr></tr>\\n\\n\\n            \\n            \\n            <tr>\\n                <td class=\"comparison_table_first_col\"></td>\\n\\n\\n                <td class=\"comparison_add_to_cart_button\">\\n                    \\n                        \\n                        \\n                        \\n                            <span id=\"comparison_add_to_cart_button\" class=\"a-button a-spacing-small a-button-primary\"><span class=\"a-button-inner\"><a id=\"comparison_add_to_cart_button-announce\" href=\"/gp/item-dispatch/ref=psdc_3081461011_a0_B013FD77FO?ie=UTF8&amp;itemCount=1&amp;nodeID=2335752011&amp;offeringID.1=pZfyEhN%252FSQMB%252F6fnLB%252BRzush%252FxEHGDKLj%252B8Rs4X90%252BtLtSOs78FsjoavWmAn2mUyJpnlIJPIqxLcQJYdwl%252FOzHfATo1tF8WFqx9k4MG7kTq%252B1JSFRelPVjpZ5xsAWnJk40HZmsjpYSZ9pivTOTVvpehOMTomP3C0&amp;storeID=wireless&amp;session-id=140-6245543-2040261&amp;submit.addToCart=addToCart&amp;signInToHUC=0\" class=\"a-button-text\" role=\"button\">Add to Cart</a></span></span>\\n                        \\n                    \\n                </td>\\n\\n\\n                \\n                    <td class=\"a-text-left comparison_add_to_cart_button comparable_item0\">\\n                        \\n                            \\n                            \\n                                <span id=\"comparison_add_to_cart_button0\" class=\"a-button a-spacing-small a-button-primary\"><span class=\"a-button-inner\"><a id=\"comparison_add_to_cart_button0-announce\" href=\"/gp/item-dispatch/ref=psdc_3081461011_a1_B013FD77FO?ie=UTF8&amp;itemCount=1&amp;nodeID=2335752011&amp;offeringID.1=EGZkxwvATtrM4gvSJ5vGhmdPF1pCZeLVwE%252Fw%252FGOTikyF5Wi3iNSezL2nF4Up%252BkMekH2D0jD77Sz%252B%252F45fxuQmf%252FxZrpRtnP6%252BNx0JgKcH0gFS45THrHV%252FVVmeDmn8Z%252FKoKAokXTAd7ISCjHyM3%252BKNB4Tmzft1Y5nU&amp;storeID=wireless&amp;session-id=140-6245543-2040261&amp;submit.addToCart=addToCart&amp;signInToHUC=0\" class=\"a-button-text\" role=\"button\">Add to Cart</a></span></span>\\n                            \\n                        \\n                    </td>\\n                \\n                    <td class=\"a-text-left comparison_add_to_cart_button comparable_item1\">\\n                        \\n                            \\n                            \\n                                <span id=\"comparison_add_to_cart_button1\" class=\"a-button a-spacing-small a-button-primary\"><span class=\"a-button-inner\"><a id=\"comparison_add_to_cart_button1-announce\" href=\"/gp/item-dispatch/ref=psdc_3081461011_a2_B013FD77FO?ie=UTF8&amp;itemCount=1&amp;nodeID=2335752011&amp;offeringID.1=stM43UzZrscDawklr2RULLniz1AJ6m58%252FL%252BkK5EE7Gxtg6yWWR7XtCCNmYYAlpSOIOSPt3WhHkQg7QYgrnOVfjcgQMWSQM4Doq6GnMcXUrrr70PeN27Hyw%253D%253D&amp;storeID=wireless&amp;session-id=140-6245543-2040261&amp;submit.addToCart=addToCart&amp;signInToHUC=0\" class=\"a-button-text\" role=\"button\">Add to Cart</a></span></span>\\n                            \\n                        \\n                    </td>\\n                \\n                    <td class=\"a-text-left comparison_add_to_cart_button comparable_item2\">\\n                        \\n                            \\n                            \\n                                <span id=\"comparison_add_to_cart_button2\" class=\"a-button a-spacing-small a-button-primary\"><span class=\"a-button-inner\"><a id=\"comparison_add_to_cart_button2-announce\" href=\"/gp/item-dispatch/ref=psdc_3081461011_a3_B013FD77FO?ie=UTF8&amp;itemCount=1&amp;nodeID=2335752011&amp;offeringID.1=1d7WuwgmW%252FQ%252FVPD9tdxJC7OLF3W6BUmAh3jeLPSWNOYvriPXYomxQFDbnIkYOLAcb1UEQJxgs6d7N5Me00x5kfBiCnGkIxmDdN44xxpueQnjR%252BzEhqhD%252FA%253D%253D&amp;storeID=wireless&amp;session-id=140-6245543-2040261&amp;submit.addToCart=addToCart&amp;signInToHUC=0\" class=\"a-button-text\" role=\"button\">Add to Cart</a></span></span>\\n                            \\n                        \\n                    </td>\\n                \\n                    <td class=\"a-text-left comparison_add_to_cart_button comparable_item3\">\\n                        \\n                            \\n                            \\n                                <span id=\"comparison_add_to_cart_button3\" class=\"a-button a-spacing-small a-button-primary\"><span class=\"a-button-inner\"><a id=\"comparison_add_to_cart_button3-announce\" href=\"/gp/item-dispatch/ref=psdc_3081461011_a4_B013FD77FO?ie=UTF8&amp;itemCount=1&amp;nodeID=2335752011&amp;offeringID.1=ba4Er%252F4ld9z7wUZI7p%252Fe3x0VpcQOj8P2pAju1tbuVnFzR37ReVB45j428Ja5MWQUlXL4gZupjxWh30Be0sg7MQt4Joj8EbaNm6A0TYbWBN0wk0jfdcwFHX5Khm5gGyplKbOpYP4b%252FErfyFhyRFo1SCeG1LaPruKU&amp;storeID=wireless&amp;session-id=140-6245543-2040261&amp;submit.addToCart=addToCart&amp;signInToHUC=0\" class=\"a-button-text\" role=\"button\">Add to Cart</a></span></span>\\n                            \\n                        \\n                    </td>\\n                \\n                    <td class=\"a-text-left comparison_add_to_cart_button comparable_item4\">\\n                        \\n                            \\n                            \\n                                <span id=\"comparison_add_to_cart_button4\" class=\"a-button a-spacing-small a-button-primary\"><span class=\"a-button-inner\"><a id=\"comparison_add_to_cart_button4-announce\" href=\"/gp/item-dispatch/ref=psdc_3081461011_a5_B013FD77FO?ie=UTF8&amp;itemCount=1&amp;nodeID=2335752011&amp;offeringID.1=Xrk4gX7QT3MBrUfWfCTJ7nCVe5uFwhhjkO4SSu2d2%252Bbfb5BGJWMCSGnda3Vry1rJYXnwR8cf979aLk1qZwmdq2AjkRWGNs4AUAEpm%252BvVor9YqjCxXBpG8g%253D%253D&amp;storeID=wireless&amp;session-id=140-6245543-2040261&amp;submit.addToCart=addToCart&amp;signInToHUC=0\" class=\"a-button-text\" role=\"button\">Add to Cart</a></span></span>\\n                            \\n                        \\n                    </td>\\n                \\n            </tr>\\n\\n\\n            <tr id=\"comparison_custormer_rating_row\">\\n                \\n                \\n                \\n                \\n\\n                <th class=\"comparison_attribute_name_column comparison_table_first_col\" role=\"rowheader\">\\n                    <span class=\"a-size-base a-color-base\">Customer Rating</span>\\n                </th>\\n\\n\\n                <td class=\"comparison_baseitem_column\">\\n                    \\n                    \\n                    \\n                    <span>\\n                        <span class=\"a-declarative\" data-action=\"a-popover\" data-a-popover=\"{&quot;max-width&quot;:&quot;700&quot;,&quot;closeButton&quot;:&quot;false&quot;,&quot;position&quot;:&quot;triggerBottom&quot;,&quot;url&quot;:&quot; /gp/customer-reviews/widgets/average-customer-review/popover/ref=acr_dpComparsion__popover?contextId=dpComparsion&amp;asin=B013FD77FO &quot;,&quot;restoreFocusOnHide&quot;:&quot;false&quot;}\">\\n                            <i class=\"a-icon a-icon-star a-star-4 a-spacing-none\"><span class=\"a-icon-alt\">4 out of 5 stars</span></i>\\n                        </span>\\n                        <a class=\"a-link-normal\" target=\"_self\" rel=\"noopener\" href=\"/product-reviews/B013FD77FO/ref=psdc_3081461011_r0_B013FD77FO?_encoding=UTF8&amp;showViewpoints=1\">(52)</a>\\n                        <span class=\"a-letter-space\"></span>\\n                    </span>\\n                </td>\\n\\n\\n                \\n                    <td class=\"comparison_sim_items_column comparable_item0\">\\n                        \\n                        \\n                        \\n                        <span>\\n                            <span class=\"a-declarative\" data-action=\"a-popover\" data-a-popover=\"{&quot;max-width&quot;:&quot;700&quot;,&quot;closeButton&quot;:&quot;false&quot;,&quot;position&quot;:&quot;triggerBottom&quot;,&quot;url&quot;:&quot; /gp/customer-reviews/widgets/average-customer-review/popover/ref=acr_dpComparsion__popover?contextId=dpComparsion&amp;asin=B07478ZZDP &quot;,&quot;restoreFocusOnHide&quot;:&quot;false&quot;}\">\\n                                <i class=\"a-icon a-icon-star a-star-4 a-spacing-none\"><span class=\"a-icon-alt\">4 out of 5 stars</span></i>\\n                            </span>\\n                            <a class=\"a-link-normal\" target=\"_self\" rel=\"noopener\" href=\"/product-reviews/B07478ZZDP/ref=psdc_3081461011_r1_B013FD77FO?_encoding=UTF8&amp;showViewpoints=1\">(165)</a>\\n                            <span class=\"a-letter-space\"></span>\\n                        </span>\\n                    </td>\\n                \\n                    <td class=\"comparison_sim_items_column comparable_item1\">\\n                        \\n                        \\n                        \\n                        <span>\\n                            <span class=\"a-declarative\" data-action=\"a-popover\" data-a-popover=\"{&quot;max-width&quot;:&quot;700&quot;,&quot;closeButton&quot;:&quot;false&quot;,&quot;position&quot;:&quot;triggerBottom&quot;,&quot;url&quot;:&quot; /gp/customer-reviews/widgets/average-customer-review/popover/ref=acr_dpComparsion__popover?contextId=dpComparsion&amp;asin=B00N1X40WW &quot;,&quot;restoreFocusOnHide&quot;:&quot;false&quot;}\">\\n                                <i class=\"a-icon a-icon-star a-star-4 a-spacing-none\"><span class=\"a-icon-alt\">4 out of 5 stars</span></i>\\n                            </span>\\n                            <a class=\"a-link-normal\" target=\"_self\" rel=\"noopener\" href=\"/product-reviews/B00N1X40WW/ref=psdc_3081461011_r2_B013FD77FO?_encoding=UTF8&amp;showViewpoints=1\">(2078)</a>\\n                            <span class=\"a-letter-space\"></span>\\n                        </span>\\n                    </td>\\n                \\n                    <td class=\"comparison_sim_items_column comparable_item2\">\\n                        \\n                        \\n                        \\n                        <span>\\n                            <span class=\"a-declarative\" data-action=\"a-popover\" data-a-popover=\"{&quot;max-width&quot;:&quot;700&quot;,&quot;closeButton&quot;:&quot;false&quot;,&quot;position&quot;:&quot;triggerBottom&quot;,&quot;url&quot;:&quot; /gp/customer-reviews/widgets/average-customer-review/popover/ref=acr_dpComparsion__popover?contextId=dpComparsion&amp;asin=B00N1X4D92 &quot;,&quot;restoreFocusOnHide&quot;:&quot;false&quot;}\">\\n                                <i class=\"a-icon a-icon-star a-star-4 a-spacing-none\"><span class=\"a-icon-alt\">4 out of 5 stars</span></i>\\n                            </span>\\n                            <a class=\"a-link-normal\" target=\"_self\" rel=\"noopener\" href=\"/product-reviews/B00N1X4D92/ref=psdc_3081461011_r3_B013FD77FO?_encoding=UTF8&amp;showViewpoints=1\">(1324)</a>\\n                            <span class=\"a-letter-space\"></span>\\n                        </span>\\n                    </td>\\n                \\n                    <td class=\"comparison_sim_items_column comparable_item3\">\\n                        \\n                        \\n                        \\n                        <span>\\n                            <span class=\"a-declarative\" data-action=\"a-popover\" data-a-popover=\"{&quot;max-width&quot;:&quot;700&quot;,&quot;closeButton&quot;:&quot;false&quot;,&quot;position&quot;:&quot;triggerBottom&quot;,&quot;url&quot;:&quot; /gp/customer-reviews/widgets/average-customer-review/popover/ref=acr_dpComparsion__popover?contextId=dpComparsion&amp;asin=B06XNJRGF9 &quot;,&quot;restoreFocusOnHide&quot;:&quot;false&quot;}\">\\n                                <i class=\"a-icon a-icon-star a-star-4-5 a-spacing-none\"><span class=\"a-icon-alt\">4 out of 5 stars</span></i>\\n                            </span>\\n                            <a class=\"a-link-normal\" target=\"_self\" rel=\"noopener\" href=\"/product-reviews/B06XNJRGF9/ref=psdc_3081461011_r4_B013FD77FO?_encoding=UTF8&amp;showViewpoints=1\">(502)</a>\\n                            <span class=\"a-letter-space\"></span>\\n                        </span>\\n                    </td>\\n                \\n                    <td class=\"comparison_sim_items_column comparable_item4\">\\n                        \\n                        \\n                        \\n                        <span>\\n                            <span class=\"a-declarative\" data-action=\"a-popover\" data-a-popover=\"{&quot;max-width&quot;:&quot;700&quot;,&quot;closeButton&quot;:&quot;false&quot;,&quot;position&quot;:&quot;triggerBottom&quot;,&quot;url&quot;:&quot; /gp/customer-reviews/widgets/average-customer-review/popover/ref=acr_dpComparsion__popover?contextId=dpComparsion&amp;asin=B00N1X2UC4 &quot;,&quot;restoreFocusOnHide&quot;:&quot;false&quot;}\">\\n                                <i class=\"a-icon a-icon-star a-star-3-5 a-spacing-none\"><span class=\"a-icon-alt\">3 out of 5 stars</span></i>\\n                            </span>\\n                            <a class=\"a-link-normal\" target=\"_self\" rel=\"noopener\" href=\"/product-reviews/B00N1X2UC4/ref=psdc_3081461011_r5_B013FD77FO?_encoding=UTF8&amp;showViewpoints=1\">(2214)</a>\\n                            <span class=\"a-letter-space\"></span>\\n                        </span>\\n                    </td>\\n                \\n            </tr>\\n\\n\\n            <tr id=\"comparison_price_row\">\\n                <th class=\"comparison_attribute_name_column comparison_table_first_col\" role=\"rowheader\">\\n                    <span class=\"a-size-base a-color-base\">Price</span>\\n                </th>\\n\\n\\n                <td class=\"comparison_baseitem_column\">\\n                    \\n                        \\n                        \\n                        \\n                        \\n                            \\n                                \\n                                    <span class=\"a-price\" data-a-size=\"l\" data-a-color=\"base\"><span class=\"a-offscreen\">$11.99</span><span aria-hidden=\"true\"><span class=\"a-price-symbol\">$</span><span class=\"a-price-whole\">11<span class=\"a-price-decimal\">                                                                                                                                                                                                                                                                                                                                                                                                                                                                                                                                                                                                                                                                                                                                                                                                                     2\n",
              "                                                                                                                                                                                                                                                                                                                                                                                                                                                                                                                                                                                                                                                                                                                                                                                                                                                                                                                                                                                                                                                                                                                                                                                                                                                                                                                                                                                                                                                                                                                                                                                                                                                                                                                                                                                                                                                                                                                                                                                                                                                                                                                                                                                                                                                                                                                                                                                                                                                                                                                                                                                                                                                                                                                                                                                                                                                                                                                                                                                                                                                                                                                                                                                                                                                                                                                                                                                                                                                                                                                                                                                                                                                                                                                                                                                                                                                                                                                                                                                                                                                                                                                                                                                                                                                                                                                                                                                                                                                                                                                                                                                                                                                                                                                                                                                                                                                                                                                                                                                                                                                                                                                                                                                                                                                                                                                                                                                                                                                                                                                                                                                                                                                                                                                                                                                                                                                                                                                                                                                                                                                                                                                                                                                                                                                                                                                                                                                                                                                                                                                                                                                                                                                                                                                                                                                                                                                                                                                                                                                                                                                                                                                                                                                                                                                                                                                                                                                                                                                                                                                                                                                                                                                                                                                                                                                                                                                                                                                                                                                                                                                                                                                                                                                                                                                                                                                                                                                                                                                                                                                                                                                                                                                                                                                                                                                                                                                                                                                                                                                                                                                                                                                                                                                                                                                                                                                                                                                                                                                                                                                                                                                                                                                                                                                                                                                                                                                                                                                                                                                                                                                                                                                                                                                                                                                                                                                                                                                                                                                                                                                                                                                                                                                                                                                                                                                                                                                                                                                                                                                                                                                                                                                                                                                                                                                                                                                                                                                                                                                                                                                                                                                                                                                                                                                                                                                                                                                                                                                                                                                                                                                                                                                                                                                                                                                                                                                                                                                                                                                                                                                                                                                                                                                                                                                                                                                                                                                                                                                                                                                                                                                                                                                                                                                                                                                                                                                                                                                                                                                                                                                                                                                                                                                                                                                                                                                                                                                                                                                                                                                                                                                                                                                                                                                                                                                                                                                                                                                                                                                                                                                                                                                                                                                                                                                                                                                                                                                                                                                                                                                                                                                                                                                                                                                                                                                                                                                                                                                                                                                                                                                                                                                                                                                                                                                                                                                                                                                                                                                                                                                                                                                                                                                                                                                                                                                                                                                                                                                                                                                                                                                                                                                                                                                                                                                                                                                                                                                                                                                                                                                                                                                                                                                                                                                                                                                                                                                                                                                                                                                                                                                                                                                                                                                                                                                                                                                                                                                                                                                                                                                                                                                                                                                                                                                                                                                                                                                                                                                                                                                                                                                                                                                                                                                                                                                                                                                                                                                                                                                                                                                                                                                                                                                                                                                                                                                                                                                                                                                                                                                                                                                                                                                                                                                                                                                                                                                                                                                                                                                                                                                                                                                                                                                                                                                                                                                                                                                                                                                                                                                                                                                                                                                                                                                                                                                                                                                                                                                                                                                                                                                                                                                                                                                                                                                                                                                                                                                                                                                                                                                                                                                                                                                                                                                                                                                                                                                                                                                                                                                                                                                                                                                                                                                                                                                                                             ..\n",
              " class=\"a-bordered a-horizontal-stripes  a-spacing-extra-large a-size-base comparison_table\">\\n\\n\\n\\n            \\n            \\n            \\n            \\n            \\n            <tr class=\"comparison_table_image_row\">\\n                <td class=\"comparison_table_first_col\"></td>\\n\\n\\n                <th class=\"comparison_image_title_cell\" role=\"columnheader\">\\n                    <div class=\"a-row a-spacing-top-micro\">\\n                        <center>\\n                             <img alt=\"Motorola Moto G5S Plus,Moto G5 Plus,Moto E4 Plus [Rugged Series] Pouch Holster Black Nylon Carrying Case with Metal Belt Clip 2 Way Belt Loop Holster [Great Fits With Protective Cover Or Naked Phone]\" src=\"https://images-na.ssl-images-amazon.com/images/I/51%2BIcrrKP9L._SL500_AC_SS350_.jpg\" id=\"comparison_image\">\\n                        </center>\\n                    </div>\\n                    <div class=\"a-row a-spacing-top-small\">\\n                        <div id=\"comparison_title\" class=\"a-section a-spacing-none\">\\n                            <span aria-hidden=\"true\" class=\"a-size-base a-color-base a-text-bold\">\\n                                This item\\n                            </span>\\n                            <span aria-hidden=\"true\" class=\"a-size-base a-color-base\">Motorola Moto G5S Plus,Moto G5 Plus,Moto E4 Plus [Rugged Series] Pouch Holster Black Nylon Carrying Case with Metal Belt Clip 2 Way Belt Loop Holster [Great Fits With Protective Cover Or Naked Phone]</span>\\n                        </div>\\n                        \\n                        \\n                    </div>\\n                </th>\\n\\n\\n                \\n                    <th class=\"comparison_image_title_cell comparable_item0\" role=\"columnheader\">\\n                        <a class=\"a-link-normal\" target=\"_self\" rel=\"noopener\" href=\"/dp/B076GT5QCS/ref=psdc_2407765011_t1_B00P6312GC\">\\n                          <div class=\"a-row a-spacing-top-micro\">\\n                            <center>\\n                                <img alt=\"\" src=\"https://images-na.ssl-images-amazon.com/images/I/412vfUCcZaL._SL500_AC_SS350_.jpg\" aria-hidden=\"true\" id=\"comparison_image0\">\\n                            </center>\\n                          </div>\\n                          <div id=\"comparison_title0\" class=\"a-row a-spacing-top-small\">\\n                            <span class=\"a-size-base\">Wonderfly Holster for Motorola Moto G5 Plus or Moto G5S, a Large Vertical Leather Carrying Case with Rotatable Belt Clip, Fits the Phone with OtterBox Communter, Spigen or Other Thick Case</span>\\n                          </div>\\n                        </a>\\n                        \\n                        \\n                    </th>\\n                \\n                    <th class=\"comparison_image_title_cell comparable_item1\" role=\"columnheader\">\\n                        <a class=\"a-link-normal\" target=\"_self\" rel=\"noopener\" href=\"/dp/B01H0S9G9K/ref=psdc_2407765011_t2_B00P6312GC\">\\n                          <div class=\"a-row a-spacing-top-micro\">\\n                            <center>\\n                                <img alt=\"\" src=\"https://images-na.ssl-images-amazon.com/images/I/41IHm51-UUL._SL500_AC_SS350_.jpg\" aria-hidden=\"true\" id=\"comparison_image1\">\\n                            </center>\\n                          </div>\\n                          <div id=\"comparison_title1\" class=\"a-row a-spacing-top-small\">\\n                            <span class=\"a-size-base\">For Motorola Moto G5 Plus XT1687, Moto G5S Plus Special Edition XT1806, Moto G Plus, Moto G4 Plus XT1644, Moto G6 / G6 Play / G6 Plus, Premium Leather AGOZ Pouch Case Holster Belt Clip and Loops</span>\\n                          </div>\\n                        </a>\\n                        \\n                        \\n                    </th>\\n                \\n                    <th class=\"comparison_image_title_cell comparable_item2\" role=\"columnheader\">\\n                        <a class=\"a-link-normal\" target=\"_self\" rel=\"noopener\" href=\"/dp/B077SN6XB2/ref=psdc_2407765011_t3_B00P6312GC\">\\n                          <div class=\"a-row a-spacing-top-micro\">\\n                            <center>\\n                                <img alt=\"\" src=\"https://images-na.ssl-images-amazon.com/images/I/41b-3NsbDZL._SL500_AC_SS350_.jpg\" aria-hidden=\"true\" id=\"comparison_image2\">\\n                            </center>\\n                          </div>\\n                          <div id=\"comparison_title2\" class=\"a-row a-spacing-top-small\">\\n                            <span class=\"a-size-base\">Black Vertical Leather Phone Case Cover Pouch Holder Belt Holster Clip for Motorola G4 Plus - Motorola Moto E4 PLUS - Motorola Moto G4 - Motorola Moto G5S Plus</span>\\n                          </div>\\n                        </a>\\n                        \\n                        \\n                    </th>\\n                \\n                    <th class=\"comparison_image_title_cell comparable_item3\" role=\"columnheader\">\\n                        <a class=\"a-link-normal\" target=\"_self\" rel=\"noopener\" href=\"/dp/B076ML5HN4/ref=psdc_2407765011_t4_B00P6312GC\">\\n                          <div class=\"a-row a-spacing-top-micro\">\\n                            <center>\\n                                <img alt=\"\" src=\"https://images-na.ssl-images-amazon.com/images/I/518EkVf5EML._SL500_AC_SS350_.jpg\" aria-hidden=\"true\" id=\"comparison_image3\">\\n                            </center>\\n                          </div>\\n                          <div id=\"comparison_title3\" class=\"a-row a-spacing-top-small\">\\n                            <span class=\"a-size-base\">Agoz Carrying Case For Motorola Moto G5 Plus, Moto G5S Plus, Moto G4 Plus, G Plus, Moto G6 / G6 Play, G6 Plus Rugged Canvas Vertical Holster Pouch Metal Clip, Belt Loops, Card Slot & Front Buckle Clip</span>\\n                          </div>\\n                        </a>\\n                        \\n                        \\n                    </th>\\n                \\n                    <th class=\"comparison_image_title_cell comparable_item4\" role=\"columnheader\">\\n                        <a class=\"a-link-normal\" target=\"_self\" rel=\"noopener\" href=\"/dp/B0784RCDDH/ref=psdc_2407765011_t5_B00P6312GC\">\\n                          <div class=\"a-row a-spacing-top-micro\">\\n                            <center>\\n                                <img alt=\"\" src=\"https://images-na.ssl-images-amazon.com/images/I/51fu3vbFqhL._SL500_AC_SS350_.jpg\" aria-hidden=\"true\" id=\"comparison_image4\">\\n                            </center>\\n                          </div>\\n                          <div id=\"comparison_title4\" class=\"a-row a-spacing-top-small\">\\n                            <span class=\"a-size-base\">ZZbag Fits Motorola Moto G5S Plus/Moto E4 Plus/Moto G4/G5 Plus Premium Black Canvas Nylon Pouch Case Horizontal/Vertical Holster W/Clip Belt+Mesh Fiber Tip Series Precision Stylus Pen+ Keychain Hook</span>\\n                          </div>\\n                        </a>\\n                        \\n                        \\n                    </th>\\n                \\n            </tr>\\n\\n\\n            <tr></tr>\\n\\n\\n            \\n            \\n            <tr>\\n                <td class=\"comparison_table_first_col\"></td>\\n\\n\\n                <td class=\"comparison_add_to_cart_button\">\\n                    \\n                        \\n                        \\n                        \\n                            <span id=\"comparison_add_to_cart_button\" class=\"a-button a-spacing-small a-button-primary\"><span class=\"a-button-inner\"><a id=\"comparison_add_to_cart_button-announce\" href=\"/gp/item-dispatch/ref=psdc_2407765011_a0_B00P6312GC?ie=UTF8&amp;itemCount=1&amp;nodeID=172282&amp;offeringID.1=5jGJSMHR6qhN7KBaY8h7GXPW8Nv6uSGDHb1bRJ5XvjlSeumNxDo4mokTlco0GKGp95BLmhQ%252FnPC4tj9lSFmtvElxdBGnppztxrjEVoW8ibEem0RnBvRG%252FeLjW1iAE1Rm5A2TOA5OGJLMFw63Z3MCNoY%252FEYwI8EDq&amp;storeID=electronics&amp;session-id=138-4311413-5694233&amp;submit.addToCart=addToCart&amp;signInToHUC=0\" class=\"a-button-text\" role=\"button\">Add to Cart</a></span></span>\\n                        \\n                    \\n                </td>\\n\\n\\n                \\n                    <td class=\"a-text-left comparison_add_to_cart_button comparable_item0\">\\n                        \\n                            \\n                            \\n                                <span id=\"comparison_add_to_cart_button0\" class=\"a-button a-spacing-small a-button-primary\"><span class=\"a-button-inner\"><a id=\"comparison_add_to_cart_button0-announce\" href=\"/gp/item-dispatch/ref=psdc_2407765011_a1_B00P6312GC?ie=UTF8&amp;itemCount=1&amp;nodeID=2335752011&amp;offeringID.1=5jGJSMHR6qh9DpbBpmcgN74JR5zeRAycu9dwM6QdHmbJIUP9u8PcSih%252Fl12kjLMI2UzZmJ1hI28Vu73n3yAybZGGFPOyQQaQ3h2GBa2GOrY1jTv7iJTSv0StaPhSt4ySOcI3KzfiWQfRZVB80UKY8Q%253D%253D&amp;storeID=wireless&amp;session-id=138-4311413-5694233&amp;submit.addToCart=addToCart&amp;signInToHUC=0\" class=\"a-button-text\" role=\"button\">Add to Cart</a></span></span>\\n                            \\n                        \\n                    </td>\\n                \\n                    <td class=\"a-text-left comparison_add_to_cart_button comparable_item1\">\\n                        \\n                            \\n                            \\n                                <span id=\"comparison_add_to_cart_button1\" class=\"a-button a-spacing-small a-button-primary\"><span class=\"a-button-inner\"><a id=\"comparison_add_to_cart_button1-announce\" href=\"/gp/item-dispatch/ref=psdc_2407765011_a2_B00P6312GC?ie=UTF8&amp;itemCount=1&amp;nodeID=2335752011&amp;offeringID.1=4LUEFx1fTi6jKLDUw6%252FhTA%252BJaq87Mucl6f05sA8bwcU7qETld7wRssvGVK5blee5voMt7rLMIRl3p07oqo6O8P5NqHqzRTYGO6UcifIQhmXvUnyICYUsLquLw1KpYLJ2JgECGbwYHW3LNs7rT4hvpQJUKKt5M4U7&amp;storeID=wireless&amp;session-id=138-4311413-5694233&amp;submit.addToCart=addToCart&amp;signInToHUC=0\" class=\"a-button-text\" role=\"button\">Add to Cart</a></span></span>\\n                            \\n                        \\n                    </td>\\n                \\n                    <td class=\"a-text-left comparison_add_to_cart_button comparable_item2\">\\n                        \\n                            \\n                            \\n                                <span id=\"comparison_add_to_cart_button2\" class=\"a-button a-spacing-small a-button-primary\"><span class=\"a-button-inner\"><a id=\"comparison_add_to_cart_button2-announce\" href=\"/gp/item-dispatch/ref=psdc_2407765011_a3_B00P6312GC?ie=UTF8&amp;itemCount=1&amp;nodeID=2335752011&amp;offeringID.1=5jGJSMHR6qh9DpbBpmcgNxiwcK9a07jzh9j2h9tHsZVAGKjdYWX2IdlFVgAr5UItvCK8oxfj9QKrhlsn1TvJ85BHOofryYdTrknLYGfivH2i3XIqLOHS578FknCQ3cAF%252B2ag0V4dlJmBtSPMLS7%252FjaHRc0vrb4dO&amp;storeID=wireless&amp;session-id=138-4311413-5694233&amp;submit.addToCart=addToCart&amp;signInToHUC=0\" class=\"a-button-text\" role=\"button\">Add to Cart</a></span></span>\\n                            \\n                        \\n                    </td>\\n                \\n                    <td class=\"a-text-left comparison_add_to_cart_button comparable_item3\">\\n                        \\n                            \\n                            \\n                                <span id=\"comparison_add_to_cart_button3\" class=\"a-button a-spacing-small a-button-primary\"><span class=\"a-button-inner\"><a id=\"comparison_add_to_cart_button3-announce\" href=\"/gp/item-dispatch/ref=psdc_2407765011_a4_B00P6312GC?ie=UTF8&amp;itemCount=1&amp;nodeID=2335752011&amp;offeringID.1=5jGJSMHR6qh9DpbBpmcgN0h%252FbZ%252F1VDPN4%252BcogHCc9OZnkdwHUBEuHHcqpw%252BYo2BfvwzK8yKFNiggJ2RYRYbtzy8RubAT%252Bk%252FMIpr0%252BcstqzW3vUttpH70UWqpDkD2xPK%252BFeLbBNNbR7yX7Xzlo7mpPLe5zKz8LDdf&amp;storeID=wireless&amp;session-id=138-4311413-5694233&amp;submit.addToCart=addToCart&amp;signInToHUC=0\" class=\"a-button-text\" role=\"button\">Add to Cart</a></span></span>\\n                            \\n                        \\n                    </td>\\n                \\n                    <td class=\"a-text-left comparison_add_to_cart_button comparable_item4\">\\n                        \\n                            \\n                            \\n                                <span id=\"comparison_add_to_cart_button4\" class=\"a-button a-spacing-small a-button-primary\"><span class=\"a-button-inner\"><a id=\"comparison_add_to_cart_button4-announce\" href=\"/gp/item-dispatch/ref=psdc_2407765011_a5_B00P6312GC?ie=UTF8&amp;itemCount=1&amp;nodeID=172630&amp;offeringID.1=5jGJSMHR6qh9DpbBpmcgN2Pcmui1pfPKbANNSAhxN3nQ4uJux1X7exR4SSlhLAdcoPFYlgRXq3Lrm3rk5TCNfjt%252F2Yox3YCi2xe7fXu5wynqzXaJC7OHx7HL5VJrpSrlmW%252BWdixl56vv125jeqLJHNe9qPclhdU7&amp;storeID=mp3&amp;session-id=138-4311413-5694233&amp;submit.addToCart=addToCart&amp;signInToHUC=0\" class=\"a-button-text\" role=\"button\">Add to Cart</a></span></span>\\n                            \\n                        \\n                    </td>\\n                \\n            </tr>\\n\\n\\n            <tr id=\"comparison_custormer_rating_row\">\\n                \\n                \\n                \\n                \\n\\n                <th class=\"comparison_attribute_name_column comparison_table_first_col\" role=\"rowheader\">\\n                    <span class=\"a-size-base a-color-base\">Customer Rating</span>\\n                </th>\\n\\n\\n                <td class=\"comparison_baseitem_column\">\\n                    \\n                    \\n                    \\n                    <span>\\n                        <span class=\"a-declarative\" data-action=\"a-popover\" data-a-popover=\"{&quot;max-width&quot;:&quot;700&quot;,&quot;closeButton&quot;:&quot;false&quot;,&quot;position&quot;:&quot;triggerBottom&quot;,&quot;url&quot;:&quot; /gp/customer-reviews/widgets/average-customer-review/popover/ref=acr_dpComparsion__popover?contextId=dpComparsion&amp;asin=B00P6312GC &quot;,&quot;restoreFocusOnHide&quot;:&quot;false&quot;}\">\\n                            <i class=\"a-icon a-icon-star a-star-4-5 a-spacing-none\"><span class=\"a-icon-alt\">4 out of 5 stars</span></i>\\n                        </span>\\n                        <a class=\"a-link-normal\" target=\"_self\" rel=\"noopener\" href=\"/product-reviews/B00P6312GC/ref=psdc_2407765011_r0_B00P6312GC?_encoding=UTF8&amp;showViewpoints=1\">(5)</a>\\n                        <span class=\"a-letter-space\"></span>\\n                    </span>\\n                </td>\\n\\n\\n                \\n                    <td class=\"comparison_sim_items_column comparable_item0\">\\n                        \\n                        \\n                        \\n                        <span>\\n                            <span class=\"a-declarative\" data-action=\"a-popover\" data-a-popover=\"{&quot;max-width&quot;:&quot;700&quot;,&quot;closeButton&quot;:&quot;false&quot;,&quot;position&quot;:&quot;triggerBottom&quot;,&quot;url&quot;:&quot; /gp/customer-reviews/widgets/average-customer-review/popover/ref=acr_dpComparsion__popover?contextId=dpComparsion&amp;asin=B076GT5QCS &quot;,&quot;restoreFocusOnHide&quot;:&quot;false&quot;}\">\\n                                <i class=\"a-icon a-icon-star a-star-4 a-spacing-none\"><span class=\"a-icon-alt\">4 out of 5 stars</span></i>\\n                            </span>\\n                            <a class=\"a-link-normal\" target=\"_self\" rel=\"noopener\" href=\"/product-reviews/B076GT5QCS/ref=psdc_2407765011_r1_B00P6312GC?_encoding=UTF8&amp;showViewpoints=1\">(12)</a>\\n                            <span class=\"a-letter-space\"></span>\\n                        </span>\\n                    </td>\\n                \\n                    <td class=\"comparison_sim_items_column comparable_item1\">\\n                        \\n                        \\n                        \\n                        <span>\\n                            <span class=\"a-declarative\" data-action=\"a-popover\" data-a-popover=\"{&quot;max-width&quot;:&quot;700&quot;,&quot;closeButton&quot;:&quot;false&quot;,&quot;position&quot;:&quot;triggerBottom&quot;,&quot;url&quot;:&quot; /gp/customer-reviews/widgets/average-customer-review/popover/ref=acr_dpComparsion__popover?contextId=dpComparsion&amp;asin=B01H0S9G9K &quot;,&quot;restoreFocusOnHide&quot;:&quot;false&quot;}\">\\n                                <i class=\"a-icon a-icon-star a-star-4-5 a-spacing-none\"><span class=\"a-icon-alt\">4 out of 5 stars</span></i>\\n                            </span>\\n                            <a class=\"a-link-normal\" target=\"_self\" rel=\"noopener\" href=\"/product-reviews/B01H0S9G9K/ref=psdc_2407765011_r2_B00P6312GC?_encoding=UTF8&amp;showViewpoints=1\">(234)</a>\\n                            <span class=\"a-letter-space\"></span>\\n                        </span>\\n                    </td>\\n                \\n                    <td class=\"comparison_sim_items_column comparable_item2\">\\n                        \\n                        \\n                        \\n                        <span>\\n                            <span class=\"a-declarative\" data-action=\"a-popover\" data-a-popover=\"{&quot;max-width&quot;:&quot;700&quot;,&quot;closeButton&quot;:&quot;false&quot;,&quot;position&quot;:&quot;triggerBottom&quot;,&quot;url&quot;:&quot; /gp/customer-reviews/widgets/average-customer-review/popover/ref=acr_dpComparsion__popover?contextId=dpComparsion&amp;asin=B077SN6XB2 &quot;,&quot;restoreFocusOnHide&quot;:&quot;false&quot;}\">\\n                                <i class=\"a-icon a-icon-star a-star-5 a-spacing-none\"><span class=\"a-icon-alt\">5 out of 5 stars</span></i>\\n                            </span>\\n                            <a class=\"a-link-normal\" target=\"_self\" rel=\"noopener\" href=\"/product-reviews/B077SN6XB2/ref=psdc_2407765011_r3_B00P6312GC?_encoding=UTF8&amp;showViewpoints=1\">(2)</a>\\n                            <span class=\"a-letter-space\"></span>\\n                        </span>\\n                    </td>\\n                \\n                    <td class=\"comparison_sim_items_column comparable_item3\">\\n                        \\n                        \\n                        \\n                        <span>\\n                            <span class=\"a-declarative\" data-action=\"a-popover\" data-a-popover=\"{&quot;max-width&quot;:&quot;700&quot;,&quot;closeButton&quot;:&quot;false&quot;,&quot;position&quot;:&quot;triggerBottom&quot;,&quot;url&quot;:&quot; /gp/customer-reviews/widgets/average-customer-review/popover/ref=acr_dpComparsion__popover?contextId=dpComparsion&amp;asin=B076ML5HN4 &quot;,&quot;restoreFocusOnHide&quot;:&quot;false&quot;}\">\\n                                <i class=\"a-icon a-icon-star a-star-4 a-spacing-none\"><span class=\"a-icon-alt\">4 out of 5 stars</span></i>\\n                            </span>\\n                            <a class=\"a-link-normal\" target=\"_self\" rel=\"noopener\" href=\"/product-reviews/B076ML5HN4/ref=psdc_2407765011_r4_B00P6312GC?_encoding=UTF8&amp;showViewpoints=1\">(11)</a>\\n                            <span class=\"a-letter-space\"></span>\\n                        </span>\\n                    </td>\\n                \\n                    <td class=\"comparison_sim_items_column comparable_item4\">\\n                        \\n                        \\n                        \\n                        <span>\\n                            <span class=\"a-declarative\" data-action=\"a-popover\" data-a-popover=\"{&quot;max-width&quot;:&quot;700&quot;,&quot;closeButton&quot;:&quot;false&quot;,&quot;position&quot;:&quot;triggerBottom&quot;,&quot;url&quot;:&quot; /gp/customer-reviews/widgets/average-customer-review/popover/ref=acr_dpComparsion__popover?contextId=dpComparsion&amp;asin=B0784RCDDH &quot;,&quot;restoreFocusOnHide&quot;:&quot;false&quot;}\">\\n                                <i class=\"a-icon a-icon-star a-star-4 a-spacing-none\"><span class=\"a-icon-alt\">4 out of 5 stars</span></i>\\n                            </span>\\n                            <a class=\"a-link-normal\" target=\"_self\" rel=\"noopener\" href=\"/product-reviews/B0784RCDDH/ref=psdc_2407765011_r5_B00P6312GC?_encoding=UTF8&amp;showViewpoints=1\">(5)</a>\\n                            <span class=\"a-letter-space\"></span>\\n                        </span>\\n                    </td>\\n                \\n            </tr>\\n\\n\\n            <tr id=\"comparison_price_row\">\\n                <th class=\"comparison_attribute_name_column comparison_table_first_col\" role=\"rowheader\">\\n                    <span class=\"a-size-base a-color-base\">Price</span>\\n                </th>\\n\\n\\n                <td class=\"comparison_baseitem_column\">\\n                    \\n                        \\n                        \\n                        \\n                        \\n                            \\n                                \\n                                    <span class=\"a-price\" data-a-size=\"l\" data-a-color=\"base\"><span class=\"a-offscreen\">$11.90</span><span aria-hidden=\"true\"><span class=\"a-price-symbol\">$</span><span class=\"a-price-whole\">11<span class=\"a-price-decimal\">                                                                                                                                                                                                                                                                                                                                                                                                                                                       1\n",
              " class=\"a-bordered a-horizontal-stripes  a-spacing-extra-large a-size-base comparison_table\">\\n\\n\\n\\n            \\n            \\n            \\n            \\n            \\n            <tr class=\"comparison_table_image_row\">\\n                <td class=\"comparison_table_first_col\"></td>\\n\\n\\n                <th class=\"comparison_image_title_cell\" role=\"columnheader\">\\n                    <div class=\"a-row a-spacing-top-micro\">\\n                        <center>\\n                             <img alt=\"LuettBiden Compatible[2 - Pack] Samsung Galaxy Tempered Glass S9 Screen Protector, LuettBiden - [9H Hardness][nti-Fingerprint][Ultra-Clear][Bubble Free] Screen Protector Compatible Galaxy S9\" src=\"https://images-na.ssl-images-amazon.com/images/I/411fAGl%2BnJL._SL500_AC_SS350_.jpg\" id=\"comparison_image\">\\n                        </center>\\n                    </div>\\n                    <div class=\"a-row a-spacing-top-small\">\\n                        <div id=\"comparison_title\" class=\"a-section a-spacing-none\">\\n                            <span aria-hidden=\"true\" class=\"a-size-base a-color-base a-text-bold\">\\n                                This item\\n                            </span>\\n                            <span aria-hidden=\"true\" class=\"a-size-base a-color-base\">LuettBiden Compatible[2 - Pack] Samsung Galaxy Tempered Glass S9 Screen Protector, LuettBiden - [9H Hardness][nti-Fingerprint][Ultra-Clear][Bubble Free] Screen Protector Compatible Galaxy S9</span>\\n                        </div>\\n                        \\n                        \\n                    </div>\\n                </th>\\n\\n\\n                \\n                    <th class=\"comparison_image_title_cell comparable_item0\" role=\"columnheader\">\\n                        <a class=\"a-link-normal\" target=\"_self\" rel=\"noopener\" href=\"/dp/B079Y9H3XT/ref=psdc_2407781011_t1_B07M9JCC51\">\\n                          <div class=\"a-row a-spacing-top-micro\">\\n                            <center>\\n                                <img alt=\"\" src=\"https://images-na.ssl-images-amazon.com/images/I/51eyA1fwfAL._SL500_AC_SS350_.jpg\" aria-hidden=\"true\" id=\"comparison_image0\">\\n                            </center>\\n                          </div>\\n                          <div id=\"comparison_title0\" class=\"a-row a-spacing-top-small\">\\n                            <span class=\"a-size-base\">Galaxy S9 Screen Protector Glass, amFilm 3D Curved Dot Matrix Full Screen Samsung Galaxy S9 Tempered Glass Screen Protector (5.8\") 2018 with Easy Application Tray (NOT S9 Plus) (Case Friendly)</span>\\n                          </div>\\n                        </a>\\n                        \\n                        \\n                    </th>\\n                \\n                    <th class=\"comparison_image_title_cell comparable_item1\" role=\"columnheader\">\\n                        <a class=\"a-link-normal\" target=\"_self\" rel=\"noopener\" href=\"/dp/B07B46GG1P/ref=psdc_2407781011_t2_B07M9JCC51\">\\n                          <div class=\"a-row a-spacing-top-micro\">\\n                            <center>\\n                                <img alt=\"\" src=\"https://images-na.ssl-images-amazon.com/images/I/51R463fxslL._SL500_AC_SS350_.jpg\" aria-hidden=\"true\" id=\"comparison_image1\">\\n                            </center>\\n                          </div>\\n                          <div id=\"comparison_title1\" class=\"a-row a-spacing-top-small\">\\n                            <span class=\"a-size-base\">ArmorSuit Samsung Galaxy S9 Screen Protector Case Friendly MilitaryShield Screen Protector for Galaxy S9 - HD Clear Anti-Bubble Film</span>\\n                          </div>\\n                        </a>\\n                        \\n                        \\n                    </th>\\n                \\n                    <th class=\"comparison_image_title_cell comparable_item2\" role=\"columnheader\">\\n                        <a class=\"a-link-normal\" target=\"_self\" rel=\"noopener\" href=\"/dp/B07MNP8MBN/ref=psdc_2407781011_t3_B07M9JCC51\">\\n                          <div class=\"a-row a-spacing-top-micro\">\\n                            <center>\\n                                <img alt=\"\" src=\"https://images-na.ssl-images-amazon.com/images/I/51HZMnPxYZL._SL500_AC_SS350_.jpg\" aria-hidden=\"true\" id=\"comparison_image2\">\\n                            </center>\\n                          </div>\\n                          <div id=\"comparison_title2\" class=\"a-row a-spacing-top-small\">\\n                            <span class=\"a-size-base\">(Black) Galaxy S9 Screen Protector, LuettBiden [2 - Pack] Half Screen Tempered Glass Screen Protector [Case Friendly] [Anti-Scratch][Anti-Fingerprint][Bubble Free] Compatible Samsung Galaxy S9</span>\\n                          </div>\\n                        </a>\\n                        \\n                        \\n                    </th>\\n                \\n                    <th class=\"comparison_image_title_cell comparable_item3\" role=\"columnheader\">\\n                        <a class=\"a-link-normal\" target=\"_self\" rel=\"noopener\" href=\"/dp/B07M5PPKQP/ref=psdc_2407781011_t4_B07M9JCC51\">\\n                          <div class=\"a-row a-spacing-top-micro\">\\n                            <center>\\n                                <img alt=\"\" src=\"https://images-na.ssl-images-amazon.com/images/I/410GDu3aANL._SL500_AC_SS350_.jpg\" aria-hidden=\"true\" id=\"comparison_image3\">\\n                            </center>\\n                          </div>\\n                          <div id=\"comparison_title3\" class=\"a-row a-spacing-top-small\">\\n                            <span class=\"a-size-base\">[2-Pack] Galaxy S9 Screen Protector,Cafetec [9H Hardness] [Anti-Scratches] [Anti-Fingerprint] Tempered Glass Screen Protector Film Compatible with Samsung Galaxy S9 Clear.</span>\\n                          </div>\\n                        </a>\\n                        \\n                        \\n                    </th>\\n                \\n                    <th class=\"comparison_image_title_cell comparable_item4\" role=\"columnheader\">\\n                        <a class=\"a-link-normal\" target=\"_self\" rel=\"noopener\" href=\"/dp/B07LH2Y6PB/ref=psdc_2407781011_t5_B07M9JCC51\">\\n                          <div class=\"a-row a-spacing-top-micro\">\\n                            <center>\\n                                <img alt=\"\" src=\"https://images-na.ssl-images-amazon.com/images/I/21iX8%2BvtiuL._SL500_AC_SS350_.jpg\" aria-hidden=\"true\" id=\"comparison_image4\">\\n                            </center>\\n                          </div>\\n                          <div id=\"comparison_title4\" class=\"a-row a-spacing-top-small\">\\n                            <span class=\"a-size-base\">[2 Pack] Galaxy S9 Screen Protector 9H Hardness/Anti-Scratch/Anti-fingerprint/Anti-Bubble/3D Curved/High Definition/Ultra Clear Tempered BBInfinite Glass Screen Protector Compatible Samsung Galaxy S9</span>\\n                          </div>\\n                        </a>\\n                        \\n                        \\n                    </th>\\n                \\n            </tr>\\n\\n\\n            <tr></tr>\\n\\n\\n            \\n            \\n            <tr>\\n                <td class=\"comparison_table_first_col\"></td>\\n\\n\\n                <td class=\"comparison_add_to_cart_button\">\\n                    \\n                        \\n                        \\n                        \\n                            <span id=\"comparison_add_to_cart_button\" class=\"a-button a-spacing-small a-button-primary\"><span class=\"a-button-inner\"><a id=\"comparison_add_to_cart_button-announce\" href=\"/gp/item-dispatch/ref=psdc_2407781011_a0_B07M9JCC51?ie=UTF8&amp;itemCount=1&amp;nodeID=2335752011&amp;offeringID.1=glOZ22%252FF6qmfoq7gpIb53o%252Fhxz2rEfZoKreTxR8xTLVQY%252BBx9w3WXWbvWWrg6GphFisMIa1v0ggtV3F5%252F6l5a%252BrvnUw1%252BT2ssDe2wQPulGv%252FRG2B3pV6Bqy%252FYt6XsD35vhhv5XLSoBMjSC4X%252FOfFseYmb3QKN8%252Fd&amp;storeID=wireless&amp;session-id=138-7267385-9960047&amp;submit.addToCart=addToCart&amp;signInToHUC=0\" class=\"a-button-text\" role=\"button\">Add to Cart</a></span></span>\\n                        \\n                    \\n                </td>\\n\\n\\n                \\n                    <td class=\"a-text-left comparison_add_to_cart_button comparable_item0\">\\n                        \\n                            \\n                            \\n                                <span id=\"comparison_add_to_cart_button0\" class=\"a-button a-spacing-small a-button-primary\"><span class=\"a-button-inner\"><a id=\"comparison_add_to_cart_button0-announce\" href=\"/gp/item-dispatch/ref=psdc_2407781011_a1_B07M9JCC51?ie=UTF8&amp;itemCount=1&amp;nodeID=2335752011&amp;offeringID.1=VClPtuQn83pg1%252BAEzNiIVuVgLGgj9sJ9XZlDEZItlwgBhXT0eKogv1zDJGuPrkEJTi0LPzPM5HVHGn9r4u%252FJUa8Hy%252Bz69OCyCoreq72SZJXlG%252Brz2ObuJSDDJwzTKjVoSoEPrPYuEEunN5UQk1b3cQ%253D%253D&amp;storeID=wireless&amp;session-id=138-7267385-9960047&amp;submit.addToCart=addToCart&amp;signInToHUC=0\" class=\"a-button-text\" role=\"button\">Add to Cart</a></span></span>\\n                            \\n                        \\n                    </td>\\n                \\n                    <td class=\"a-text-left comparison_add_to_cart_button comparable_item1\">\\n                        \\n                            \\n                            \\n                                <span id=\"comparison_add_to_cart_button1\" class=\"a-button a-spacing-small a-button-primary\"><span class=\"a-button-inner\"><a id=\"comparison_add_to_cart_button1-announce\" href=\"/gp/item-dispatch/ref=psdc_2407781011_a2_B07M9JCC51?ie=UTF8&amp;itemCount=1&amp;nodeID=2335752011&amp;offeringID.1=mx7e5w0wTBI7lFYSl36Uo2DcItXIJ0NWxTB0iVT%252BsGZevBQeNjECVUT1se%252Btr4C1Y%252FyO2yyWbSAVn9pw1d9YtqChI97hmkiovP%252BrL1L4FhScIMLNY90mdcj7ckwCZKnghPzjASNDkuqnJKBd27yePQ%253D%253D&amp;storeID=wireless&amp;session-id=138-7267385-9960047&amp;submit.addToCart=addToCart&amp;signInToHUC=0\" class=\"a-button-text\" role=\"button\">Add to Cart</a></span></span>\\n                            \\n                        \\n                    </td>\\n                \\n                    <td class=\"a-text-left comparison_add_to_cart_button comparable_item2\">\\n                        \\n                            \\n                            \\n                                <span id=\"comparison_add_to_cart_button2\" class=\"a-button a-spacing-small a-button-primary\"><span class=\"a-button-inner\"><a id=\"comparison_add_to_cart_button2-announce\" href=\"/gp/item-dispatch/ref=psdc_2407781011_a3_B07M9JCC51?ie=UTF8&amp;itemCount=1&amp;nodeID=2335752011&amp;offeringID.1=L3vwpjpHc1Zq%252FcZEbvQMkDEGXUUP4Cnqm%252B%252BE1rj63aYpTDgBUNXphalWD8mJ648IypDuZj%252B2xVy7Ytf1wXRseMpcISZyxSDjHJBQqHwL5aXtJ9Z8GA0uG%252FF4OIloliC%252FUruZ%252FelwhSDolnZrxK8pvoPIgW%252B%252FK2Qc&amp;storeID=wireless&amp;session-id=138-7267385-9960047&amp;submit.addToCart=addToCart&amp;signInToHUC=0\" class=\"a-button-text\" role=\"button\">Add to Cart</a></span></span>\\n                            \\n                        \\n                    </td>\\n                \\n                    <td class=\"a-text-left comparison_add_to_cart_button comparable_item3\">\\n                        \\n                            \\n                            \\n                                <span id=\"comparison_add_to_cart_button3\" class=\"a-button a-spacing-small a-button-primary\"><span class=\"a-button-inner\"><a id=\"comparison_add_to_cart_button3-announce\" href=\"/gp/item-dispatch/ref=psdc_2407781011_a4_B07M9JCC51?ie=UTF8&amp;itemCount=1&amp;nodeID=2335752011&amp;offeringID.1=L3vwpjpHc1Zq%252FcZEbvQMkAwgaCbjCSKU1u9LfkCPewWXqc5IXZQHW1V0ou%252FmXmyQLj0H6PD%252B6gYdCBZkNRcUuZJfFLsx80ATJuYYGywSSO6t%252FQfZIIAeNGWf7y5WBNXOAGmy9W1gE7522irdJBg%252BxvVIzBrBWd4z&amp;storeID=wireless&amp;session-id=138-7267385-9960047&amp;submit.addToCart=addToCart&amp;signInToHUC=0\" class=\"a-button-text\" role=\"button\">Add to Cart</a></span></span>\\n                            \\n                        \\n                    </td>\\n                \\n                    <td class=\"a-text-left comparison_add_to_cart_button comparable_item4\">\\n                        \\n                            \\n                            \\n                                <span id=\"comparison_add_to_cart_button4\" class=\"a-button a-spacing-small a-button-primary\"><span class=\"a-button-inner\"><a id=\"comparison_add_to_cart_button4-announce\" href=\"/gp/item-dispatch/ref=psdc_2407781011_a5_B07M9JCC51?ie=UTF8&amp;itemCount=1&amp;nodeID=2335752011&amp;offeringID.1=0pZS%252B59YjA61bEpg1w0Lpq%252FlCSdWpDvcSrEftmdzCNH2TRZJnRAWci6UQKP5skhMlm80OQXMhRIQMCWbxBcD%252BdVxriC3YPCTIX4KZ%252FVhRDaNDqc0Dew0EO4N4qCZ1xgxuSt9B52q6IWDs3bsJrppBgnmnKBWCfDj&amp;storeID=wireless&amp;session-id=138-7267385-9960047&amp;submit.addToCart=addToCart&amp;signInToHUC=0\" class=\"a-button-text\" role=\"button\">Add to Cart</a></span></span>\\n                            \\n                        \\n                    </td>\\n                \\n            </tr>\\n\\n\\n            <tr id=\"comparison_custormer_rating_row\">\\n                \\n                \\n                \\n                \\n\\n                <th class=\"comparison_attribute_name_column comparison_table_first_col\" role=\"rowheader\">\\n                    <span class=\"a-size-base a-color-base\">Customer Rating</span>\\n                </th>\\n\\n\\n                <td class=\"comparison_baseitem_column\">\\n                    \\n                    \\n                    \\n                    <span>\\n                        <span class=\"a-declarative\" data-action=\"a-popover\" data-a-popover=\"{&quot;max-width&quot;:&quot;700&quot;,&quot;closeButton&quot;:&quot;false&quot;,&quot;position&quot;:&quot;triggerBottom&quot;,&quot;url&quot;:&quot; /gp/customer-reviews/widgets/average-customer-review/popover/ref=acr_dpComparsion__popover?contextId=dpComparsion&amp;asin=B07M9JCC51 &quot;,&quot;restoreFocusOnHide&quot;:&quot;false&quot;}\">\\n                            <i class=\"a-icon a-icon-star a-star-3 a-spacing-none\"><span class=\"a-icon-alt\">3 out of 5 stars</span></i>\\n                        </span>\\n                        <a class=\"a-link-normal\" target=\"_self\" rel=\"noopener\" href=\"/product-reviews/B07M9JCC51/ref=psdc_2407781011_r0_B07M9JCC51?_encoding=UTF8&amp;showViewpoints=1\">(152)</a>\\n                        <span class=\"a-letter-space\"></span>\\n                    </span>\\n                </td>\\n\\n\\n                \\n                    <td class=\"comparison_sim_items_column comparable_item0\">\\n                        \\n                        \\n                        \\n                        <span>\\n                            <span class=\"a-declarative\" data-action=\"a-popover\" data-a-popover=\"{&quot;max-width&quot;:&quot;700&quot;,&quot;closeButton&quot;:&quot;false&quot;,&quot;position&quot;:&quot;triggerBottom&quot;,&quot;url&quot;:&quot; /gp/customer-reviews/widgets/average-customer-review/popover/ref=acr_dpComparsion__popover?contextId=dpComparsion&amp;asin=B079Y9H3XT &quot;,&quot;restoreFocusOnHide&quot;:&quot;false&quot;}\">\\n                                <i class=\"a-icon a-icon-star a-star-3-5 a-spacing-none\"><span class=\"a-icon-alt\">3 out of 5 stars</span></i>\\n                            </span>\\n                            <a class=\"a-link-normal\" target=\"_self\" rel=\"noopener\" href=\"/product-reviews/B079Y9H3XT/ref=psdc_2407781011_r1_B07M9JCC51?_encoding=UTF8&amp;showViewpoints=1\">(1512)</a>\\n                            <span class=\"a-letter-space\"></span>\\n                        </span>\\n                    </td>\\n                \\n                    <td class=\"comparison_sim_items_column comparable_item1\">\\n                        \\n                        \\n                        \\n                        <span>\\n                            <span class=\"a-declarative\" data-action=\"a-popover\" data-a-popover=\"{&quot;max-width&quot;:&quot;700&quot;,&quot;closeButton&quot;:&quot;false&quot;,&quot;position&quot;:&quot;triggerBottom&quot;,&quot;url&quot;:&quot; /gp/customer-reviews/widgets/average-customer-review/popover/ref=acr_dpComparsion__popover?contextId=dpComparsion&amp;asin=B07B46GG1P &quot;,&quot;restoreFocusOnHide&quot;:&quot;false&quot;}\">\\n                                <i class=\"a-icon a-icon-star a-star-4 a-spacing-none\"><span class=\"a-icon-alt\">4 out of 5 stars</span></i>\\n                            </span>\\n                            <a class=\"a-link-normal\" target=\"_self\" rel=\"noopener\" href=\"/product-reviews/B07B46GG1P/ref=psdc_2407781011_r2_B07M9JCC51?_encoding=UTF8&amp;showViewpoints=1\">(465)</a>\\n                            <span class=\"a-letter-space\"></span>\\n                        </span>\\n                    </td>\\n                \\n                    <td class=\"comparison_sim_items_column comparable_item2\">\\n                        \\n                        \\n                        \\n                        <span>\\n                            <span class=\"a-declarative\" data-action=\"a-popover\" data-a-popover=\"{&quot;max-width&quot;:&quot;700&quot;,&quot;closeButton&quot;:&quot;false&quot;,&quot;position&quot;:&quot;triggerBottom&quot;,&quot;url&quot;:&quot; /gp/customer-reviews/widgets/average-customer-review/popover/ref=acr_dpComparsion__popover?contextId=dpComparsion&amp;asin=B07MNP8MBN &quot;,&quot;restoreFocusOnHide&quot;:&quot;false&quot;}\">\\n                                <i class=\"a-icon a-icon-star a-star-1-5 a-spacing-none\"><span class=\"a-icon-alt\">1 out of 5 stars</span></i>\\n                            </span>\\n                            <a class=\"a-link-normal\" target=\"_self\" rel=\"noopener\" href=\"/product-reviews/B07MNP8MBN/ref=psdc_2407781011_r3_B07M9JCC51?_encoding=UTF8&amp;showViewpoints=1\">(27)</a>\\n                            <span class=\"a-letter-space\"></span>\\n                        </span>\\n                    </td>\\n                \\n                    <td class=\"comparison_sim_items_column comparable_item3\">\\n                        \\n                        \\n                        \\n                        <span>\\n                            <span class=\"a-declarative\" data-action=\"a-popover\" data-a-popover=\"{&quot;max-width&quot;:&quot;700&quot;,&quot;closeButton&quot;:&quot;false&quot;,&quot;position&quot;:&quot;triggerBottom&quot;,&quot;url&quot;:&quot; /gp/customer-reviews/widgets/average-customer-review/popover/ref=acr_dpComparsion__popover?contextId=dpComparsion&amp;asin=B07M5PPKQP &quot;,&quot;restoreFocusOnHide&quot;:&quot;false&quot;}\">\\n                                <i class=\"a-icon a-icon-star a-star-1-5 a-spacing-none\"><span class=\"a-icon-alt\">1 out of 5 stars</span></i>\\n                            </span>\\n                            <a class=\"a-link-normal\" target=\"_self\" rel=\"noopener\" href=\"/product-reviews/B07M5PPKQP/ref=psdc_2407781011_r4_B07M9JCC51?_encoding=UTF8&amp;showViewpoints=1\">(17)</a>\\n                            <span class=\"a-letter-space\"></span>\\n                        </span>\\n                    </td>\\n                \\n                    <td class=\"comparison_sim_items_column comparable_item4\">\\n                        \\n                        \\n                        \\n                        <span>\\n                            <span class=\"a-declarative\" data-action=\"a-popover\" data-a-popover=\"{&quot;max-width&quot;:&quot;700&quot;,&quot;closeButton&quot;:&quot;false&quot;,&quot;position&quot;:&quot;triggerBottom&quot;,&quot;url&quot;:&quot; /gp/customer-reviews/widgets/average-customer-review/popover/ref=acr_dpComparsion__popover?contextId=dpComparsion&amp;asin=B07LH2Y6PB &quot;,&quot;restoreFocusOnHide&quot;:&quot;false&quot;}\">\\n                                <i class=\"a-icon a-icon-star a-star-1-5 a-spacing-none\"><span class=\"a-icon-alt\">1 out of 5 stars</span></i>\\n                            </span>\\n                            <a class=\"a-link-normal\" target=\"_self\" rel=\"noopener\" href=\"/product-reviews/B07LH2Y6PB/ref=psdc_2407781011_r5_B07M9JCC51?_encoding=UTF8&amp;showViewpoints=1\">(31)</a>\\n                            <span class=\"a-letter-space\"></span>\\n                        </span>\\n                    </td>\\n                \\n            </tr>\\n\\n\\n            <tr id=\"comparison_price_row\">\\n                <th class=\"comparison_attribute_name_column comparison_table_first_col\" role=\"rowheader\">\\n                    <span class=\"a-size-base a-color-base\">Price</span>\\n                </th>\\n\\n\\n                <td class=\"comparison_baseitem_column\">\\n                    \\n                        \\n                        \\n                        \\n                        \\n                            \\n                                \\n                                    <span class=\"a-price\" data-a-size=\"l\" data-a-color=\"base\"><span class=\"a-offscreen\">$11.89</span><span aria-hidden=\"true\"><span class=\"a-price-symbol\">$</span><span class=\"a-price-whole\">11<span class=\"a-price-decimal\">                                                                                                                                                                                                                                                                                                                                                                                                                                1\n",
              " class=\"a-bordered a-horizontal-stripes  a-spacing-extra-large a-size-base comparison_table\">\\n\\n\\n\\n            \\n            \\n            \\n            \\n            \\n            <tr class=\"comparison_table_image_row\">\\n                <td class=\"comparison_table_first_col\"></td>\\n\\n\\n                <th class=\"comparison_image_title_cell\" role=\"columnheader\">\\n                    <div class=\"a-row a-spacing-top-micro\">\\n                        <center>\\n                             <img alt=\"Black New Arrival iPhone 5C Hard Shell Waterproof Cell Phone Protective Case, Awesome Protective Covers,Dirtproof, Snowproof, Shockproof Case.Buy Now to Protect Your Love iPhone!\" src=\"https://images-na.ssl-images-amazon.com/images/I/51xG5WEvRLL._SL500_AC_SS350_.jpg\" id=\"comparison_image\">\\n                        </center>\\n                    </div>\\n                    <div class=\"a-row a-spacing-top-small\">\\n                        <div id=\"comparison_title\" class=\"a-section a-spacing-none\">\\n                            <span aria-hidden=\"true\" class=\"a-size-base a-color-base a-text-bold\">\\n                                This item\\n                            </span>\\n                            <span aria-hidden=\"true\" class=\"a-size-base a-color-base\">Black New Arrival iPhone 5C Hard Shell Waterproof Cell Phone Protective Case, Awesome Protective Covers,Dirtproof, Snowproof, Shockproof Case.Buy Now to Protect Your Love iPhone!</span>\\n                        </div>\\n                        \\n                        \\n                    </div>\\n                </th>\\n\\n\\n                \\n                    <th class=\"comparison_image_title_cell comparable_item0\" role=\"columnheader\">\\n                        <a class=\"a-link-normal\" target=\"_self\" rel=\"noopener\" href=\"/dp/B01HRH3UWS/ref=psdc_3081461011_t1_B00P641RMK\">\\n                          <div class=\"a-row a-spacing-top-micro\">\\n                            <center>\\n                                <img alt=\"\" src=\"https://images-na.ssl-images-amazon.com/images/I/51CC48Uu30L._SL500_AC_SS350_.jpg\" aria-hidden=\"true\" id=\"comparison_image0\">\\n                            </center>\\n                          </div>\\n                          <div id=\"comparison_title0\" class=\"a-row a-spacing-top-small\">\\n                            <span class=\"a-size-base\">iPhone 5C Case,Mangix 3C-Aone New Waterproof Shockproof Dirtproof Snowproof Protection Case Cover Only for Apple iPhone 5C Aqua Blue</span>\\n                          </div>\\n                        </a>\\n                        \\n                        \\n                    </th>\\n                \\n                    <th class=\"comparison_image_title_cell comparable_item1\" role=\"columnheader\">\\n                        <a class=\"a-link-normal\" target=\"_self\" rel=\"noopener\" href=\"/dp/B00O2XJ3WW/ref=psdc_3081461011_t2_B00P641RMK\">\\n                          <div class=\"a-row a-spacing-top-micro\">\\n                            <center>\\n                                <img alt=\"\" src=\"https://images-na.ssl-images-amazon.com/images/I/514dnRvY3tL._SL500_AC_SS350_.jpg\" aria-hidden=\"true\" id=\"comparison_image1\">\\n                            </center>\\n                          </div>\\n                          <div id=\"comparison_title1\" class=\"a-row a-spacing-top-small\">\\n                            <span class=\"a-size-base\">New Waterproof Shockproof Dirtproof Snowproof Protection Case Cover Only for Apple Iphone 5C Black by HESGI</span>\\n                          </div>\\n                        </a>\\n                        \\n                        \\n                    </th>\\n                \\n                    <th class=\"comparison_image_title_cell comparable_item2\" role=\"columnheader\">\\n                        <a class=\"a-link-normal\" target=\"_self\" rel=\"noopener\" href=\"/dp/B00KJMR19M/ref=psdc_3081461011_t3_B00P641RMK\">\\n                          <div class=\"a-row a-spacing-top-micro\">\\n                            <center>\\n                                <img alt=\"\" src=\"https://images-na.ssl-images-amazon.com/images/I/514sHrGN9zL._SL500_AC_SS350_.jpg\" aria-hidden=\"true\" id=\"comparison_image2\">\\n                            </center>\\n                          </div>\\n                          <div id=\"comparison_title2\" class=\"a-row a-spacing-top-small\">\\n                            <span class=\"a-size-base\">HESGI Waterproof Protection Case Cover for Apple Iphone 5C, Aqua Blue</span>\\n                          </div>\\n                        </a>\\n                        \\n                        \\n                    </th>\\n                \\n            </tr>\\n\\n\\n            <tr></tr>\\n\\n\\n            \\n            \\n            <tr>\\n                <td class=\"comparison_table_first_col\"></td>\\n\\n\\n                <td class=\"comparison_add_to_cart_button\">\\n                    \\n                        \\n                        \\n                        \\n                            <span id=\"comparison_add_to_cart_button\" class=\"a-button a-spacing-small a-button-primary\"><span class=\"a-button-inner\"><a id=\"comparison_add_to_cart_button-announce\" href=\"/gp/item-dispatch/ref=psdc_3081461011_a0_B00P641RMK?ie=UTF8&amp;itemCount=1&amp;nodeID=2335752011&amp;offeringID.1=XoF5ixWWFRZT%252FXWqWu2h3i1TmTnd7luQ%252FfpdKaCwuv73EdSa1iaznXCA2C0CtJYXGohZx%252FaWKf35gCpS5QiUYaTEC85AxX2LT%252B5626HojicU%252BSQWm3gbRoJI%252BIWw4CTri43ZLoHzIChXC9xsNI%252Bi3Q%253D%253D&amp;storeID=wireless&amp;session-id=138-7671388-8777720&amp;submit.addToCart=addToCart&amp;signInToHUC=0\" class=\"a-button-text\" role=\"button\">Add to Cart</a></span></span>\\n                        \\n                    \\n                </td>\\n\\n\\n                \\n                    <td class=\"a-text-left comparison_add_to_cart_button comparable_item0\">\\n                        \\n                            \\n                            \\n                                <span id=\"comparison_add_to_cart_button0\" class=\"a-button a-spacing-small a-button-primary\"><span class=\"a-button-inner\"><a id=\"comparison_add_to_cart_button0-announce\" href=\"/gp/item-dispatch/ref=psdc_3081461011_a1_B00P641RMK?ie=UTF8&amp;itemCount=1&amp;nodeID=2335752011&amp;offeringID.1=XoF5ixWWFRbxXgXir%252Fhzc3pQ1sEx5VdWzDRSz5YSyzICHQTBYpF1032nUmfhriUEigyVJTYOiwcvT6X3QWqglRQSERAo0zbdLujLMUBasAIqqV8MF4%252FyQz8JK0eYBsJB71%252FTw6VdSjWlhlUoeAlaqs6Lxf4TTAWE&amp;storeID=wireless&amp;session-id=138-7671388-8777720&amp;submit.addToCart=addToCart&amp;signInToHUC=0\" class=\"a-button-text\" role=\"button\">Add to Cart</a></span></span>\\n                            \\n                        \\n                    </td>\\n                \\n                    <td class=\"a-text-left comparison_add_to_cart_button comparable_item1\">\\n                        \\n                            \\n                            \\n                                <span id=\"comparison_add_to_cart_button1\" class=\"a-button a-spacing-small a-button-primary\"><span class=\"a-button-inner\"><a id=\"comparison_add_to_cart_button1-announce\" href=\"/gp/item-dispatch/ref=psdc_3081461011_a2_B00P641RMK?ie=UTF8&amp;itemCount=1&amp;nodeID=2335752011&amp;offeringID.1=XoF5ixWWFRZT%252FXWqWu2h3pYRgY0HvkqJv157O0kPHomiD37l%252BI%252B8p6auEsqoZaKLYyGraGjkLFU0%252BX%252BvhOgSZsYUgVqJfsr24eC8v6jnZtx7fvKehyU1V7aYmqR9Ltdk1SWy3ATKKyWWr3xARmOMUeqe2MN1bQQb&amp;storeID=wireless&amp;session-id=138-7671388-8777720&amp;submit.addToCart=addToCart&amp;signInToHUC=0\" class=\"a-button-text\" role=\"button\">Add to Cart</a></span></span>\\n                            \\n                        \\n                    </td>\\n                \\n                    <td class=\"a-text-left comparison_add_to_cart_button comparable_item2\">\\n                        \\n                            \\n                            \\n                                <span id=\"comparison_add_to_cart_button2\" class=\"a-button a-spacing-small a-button-primary\"><span class=\"a-button-inner\"><a id=\"comparison_add_to_cart_button2-announce\" href=\"/gp/item-dispatch/ref=psdc_3081461011_a3_B00P641RMK?ie=UTF8&amp;itemCount=1&amp;nodeID=2335752011&amp;offeringID.1=XoF5ixWWFRZT%252FXWqWu2h3kdvpBNNVi9aoaj4WHeNa6daRjSVKta6ISS4b46wWS6uO%252FUSXZJDRaPHdNYazR4b5JIKfkfYg7UadaUyMRdVjdY5Pllud%252F9MU1Gd1dEluHYu%252B3V5IgMIqS%252BppEtiaIhiQNu8hU3EXUOW&amp;storeID=wireless&amp;session-id=138-7671388-8777720&amp;submit.addToCart=addToCart&amp;signInToHUC=0\" class=\"a-button-text\" role=\"button\">Add to Cart</a></span></span>\\n                            \\n                        \\n                    </td>\\n                \\n            </tr>\\n\\n\\n            <tr id=\"comparison_custormer_rating_row\">\\n                \\n                \\n                \\n                \\n\\n                <th class=\"comparison_attribute_name_column comparison_table_first_col\" role=\"rowheader\">\\n                    <span class=\"a-size-base a-color-base\">Customer Rating</span>\\n                </th>\\n\\n\\n                <td class=\"comparison_baseitem_column\">\\n                    \\n                    \\n                    \\n                    <span>\\n                        <span class=\"a-declarative\" data-action=\"a-popover\" data-a-popover=\"{&quot;max-width&quot;:&quot;700&quot;,&quot;closeButton&quot;:&quot;false&quot;,&quot;position&quot;:&quot;triggerBottom&quot;,&quot;url&quot;:&quot; /gp/customer-reviews/widgets/average-customer-review/popover/ref=acr_dpComparsion__popover?contextId=dpComparsion&amp;asin=B00P641RMK &quot;,&quot;restoreFocusOnHide&quot;:&quot;false&quot;}\">\\n                            <i class=\"a-icon a-icon-star a-star-3 a-spacing-none\"><span class=\"a-icon-alt\">3 out of 5 stars</span></i>\\n                        </span>\\n                        <a class=\"a-link-normal\" target=\"_self\" rel=\"noopener\" href=\"/product-reviews/B00P641RMK/ref=psdc_3081461011_r0_B00P641RMK?_encoding=UTF8&amp;showViewpoints=1\">(3)</a>\\n                        <span class=\"a-letter-space\"></span>\\n                    </span>\\n                </td>\\n\\n\\n                \\n                    <td class=\"comparison_sim_items_column comparable_item0\">\\n                        \\n                        \\n                        \\n                        <span>\\n                            <span class=\"a-declarative\" data-action=\"a-popover\" data-a-popover=\"{&quot;max-width&quot;:&quot;700&quot;,&quot;closeButton&quot;:&quot;false&quot;,&quot;position&quot;:&quot;triggerBottom&quot;,&quot;url&quot;:&quot; /gp/customer-reviews/widgets/average-customer-review/popover/ref=acr_dpComparsion__popover?contextId=dpComparsion&amp;asin=B01HRH3UWS &quot;,&quot;restoreFocusOnHide&quot;:&quot;false&quot;}\">\\n                                <i class=\"a-icon a-icon-star a-star-3 a-spacing-none\"><span class=\"a-icon-alt\">3 out of 5 stars</span></i>\\n                            </span>\\n                            <a class=\"a-link-normal\" target=\"_self\" rel=\"noopener\" href=\"/product-reviews/B01HRH3UWS/ref=psdc_3081461011_r1_B00P641RMK?_encoding=UTF8&amp;showViewpoints=1\">(338)</a>\\n                            <span class=\"a-letter-space\"></span>\\n                        </span>\\n                    </td>\\n                \\n                    <td class=\"comparison_sim_items_column comparable_item1\">\\n                        \\n                        \\n                        \\n                        <span>\\n                            <span class=\"a-declarative\" data-action=\"a-popover\" data-a-popover=\"{&quot;max-width&quot;:&quot;700&quot;,&quot;closeButton&quot;:&quot;false&quot;,&quot;position&quot;:&quot;triggerBottom&quot;,&quot;url&quot;:&quot; /gp/customer-reviews/widgets/average-customer-review/popover/ref=acr_dpComparsion__popover?contextId=dpComparsion&amp;asin=B00O2XJ3WW &quot;,&quot;restoreFocusOnHide&quot;:&quot;false&quot;}\">\\n                                <i class=\"a-icon a-icon-star a-star-3 a-spacing-none\"><span class=\"a-icon-alt\">3 out of 5 stars</span></i>\\n                            </span>\\n                            <a class=\"a-link-normal\" target=\"_self\" rel=\"noopener\" href=\"/product-reviews/B00O2XJ3WW/ref=psdc_3081461011_r2_B00P641RMK?_encoding=UTF8&amp;showViewpoints=1\">(379)</a>\\n                            <span class=\"a-letter-space\"></span>\\n                        </span>\\n                    </td>\\n                \\n                    <td class=\"comparison_sim_items_column comparable_item2\">\\n                        \\n                        \\n                        \\n                        <span>\\n                            <span class=\"a-declarative\" data-action=\"a-popover\" data-a-popover=\"{&quot;max-width&quot;:&quot;700&quot;,&quot;closeButton&quot;:&quot;false&quot;,&quot;position&quot;:&quot;triggerBottom&quot;,&quot;url&quot;:&quot; /gp/customer-reviews/widgets/average-customer-review/popover/ref=acr_dpComparsion__popover?contextId=dpComparsion&amp;asin=B00KJMR19M &quot;,&quot;restoreFocusOnHide&quot;:&quot;false&quot;}\">\\n                                <i class=\"a-icon a-icon-star a-star-3 a-spacing-none\"><span class=\"a-icon-alt\">3 out of 5 stars</span></i>\\n                            </span>\\n                            <a class=\"a-link-normal\" target=\"_self\" rel=\"noopener\" href=\"/product-reviews/B00KJMR19M/ref=psdc_3081461011_r3_B00P641RMK?_encoding=UTF8&amp;showViewpoints=1\">(495)</a>\\n                            <span class=\"a-letter-space\"></span>\\n                        </span>\\n                    </td>\\n                \\n            </tr>\\n\\n\\n            <tr id=\"comparison_price_row\">\\n                <th class=\"comparison_attribute_name_column comparison_table_first_col\" role=\"rowheader\">\\n                    <span class=\"a-size-base a-color-base\">Price</span>\\n                </th>\\n\\n\\n                <td class=\"comparison_baseitem_column\">\\n                    \\n                        \\n                        \\n                        \\n                        \\n                            \\n                                \\n                                    <span class=\"a-price\" data-a-size=\"l\" data-a-color=\"base\"><span class=\"a-offscreen\">$8.99</span><span aria-hidden=\"true\"><span class=\"a-price-symbol\">$</span><span class=\"a-price-whole\">8<span class=\"a-price-decimal\">                                                                                                                                                                                                                                                                                                                                                                                                                                                                                                                                                                                                                                                                                                                                                                                                                                                                                                                                                                                                                                                                                                                                                                                                                                                                                                                                                                                                                                                                                                                                                                                                                                                                                                                                                                                                                                                                                                                                                                                                                                                                                                                                                                                                                                                                                                                                                                                                                                                                                                                                                                                                                                                                                                                                                                                                                                                                                                                                                                                                                                                                                                                                                                                                                                                                                                                                                                                                                                                                                                                                                                                                                                                                                                                                                                                                                                                                                                                                                                                                                                                                                                                                                                                                                                                                                                                                                                                                                                                                                                                                                                                                                                                                                                                                                                                                                                                                                                                                                                                                                                                                                                                                                                                                                                                                                                                                                                                                                                                                                                                                                                                                                                                                                                                                                                                                                                                                                                                                                                                                                                                                                                                                                                                                                                                                                                                                                                                                                                                                                                                                                                                                                                                                                                                                                                                                                                                                                                                                                                                                                                                                                                                                                                                                                                                                                                                                                                    1\n",
              " class=\"a-bordered a-horizontal-stripes  a-spacing-extra-large a-size-base comparison_table\">\\n\\n\\n\\n            \\n            \\n            \\n            \\n            \\n            <tr class=\"comparison_table_image_row\">\\n                <td class=\"comparison_table_first_col\"></td>\\n\\n\\n                <th class=\"comparison_image_title_cell\" role=\"columnheader\">\\n                    <div class=\"a-row a-spacing-top-micro\">\\n                        <center>\\n                             <img alt=\"Case For Iphone 6 Plus Christian Quotes,Hungo Compatible Silicone Protective Cover Case Replacement For Iphone 6 Plus/6S Plus Bible Verse Psalm Be Still And Know That I Am God Christian Themes\" src=\"https://images-na.ssl-images-amazon.com/images/I/51GuO8q3MTL._SL500_AC_SS350_.jpg\" id=\"comparison_image\">\\n                        </center>\\n                    </div>\\n                    <div class=\"a-row a-spacing-top-small\">\\n                        <div id=\"comparison_title\" class=\"a-section a-spacing-none\">\\n                            <span aria-hidden=\"true\" class=\"a-size-base a-color-base a-text-bold\">\\n                                This item\\n                            </span>\\n                            <span aria-hidden=\"true\" class=\"a-size-base a-color-base\">Case For Iphone 6 Plus Christian Quotes,Hungo Compatible Silicone Protective Cover Case Replacement For Iphone 6 Plus/6S Plus Bible Verse Psalm Be Still And Know That I Am God Christian Themes</span>\\n                        </div>\\n                        \\n                        \\n                    </div>\\n                </th>\\n\\n\\n                \\n                    <th class=\"comparison_image_title_cell comparable_item0\" role=\"columnheader\">\\n                        <a class=\"a-link-normal\" target=\"_self\" rel=\"noopener\" href=\"/dp/B00P1INXVY/ref=psdc_3081461011_t1_B00P647W6U\">\\n                          <div class=\"a-row a-spacing-top-micro\">\\n                            <center>\\n                                <img alt=\"\" src=\"https://images-na.ssl-images-amazon.com/images/I/61AWCy%2BFi4L._SL500_AC_SS350_.jpg\" aria-hidden=\"true\" id=\"comparison_image0\">\\n                            </center>\\n                          </div>\\n                          <div id=\"comparison_title0\" class=\"a-row a-spacing-top-small\">\\n                            <span class=\"a-size-base\">Case For Iphone 6S Plus Christian Quotes,Hungo Compatible Soft Tpu Silicone Protective Cover Case Replacement For Iphone 6 Plus/6S Plus Bible Verse 1 Corinthians</span>\\n                          </div>\\n                        </a>\\n                        \\n                        \\n                    </th>\\n                \\n                    <th class=\"comparison_image_title_cell comparable_item1\" role=\"columnheader\">\\n                        <a class=\"a-link-normal\" target=\"_self\" rel=\"noopener\" href=\"/dp/B00W4Y3V0Q/ref=psdc_3081461011_t2_B00P647W6U\">\\n                          <div class=\"a-row a-spacing-top-micro\">\\n                            <center>\\n                                <img alt=\"\" src=\"https://images-na.ssl-images-amazon.com/images/I/41VVbaqDIgL._SL500_AC_SS350_.jpg\" aria-hidden=\"true\" id=\"comparison_image1\">\\n                            </center>\\n                          </div>\\n                          <div id=\"comparison_title1\" class=\"a-row a-spacing-top-small\">\\n                            <span class=\"a-size-base\">iPhone 6 Plus Case,iPhone 6s Plus Case,Flowers Floral Girls Women Cute Motivational Inspirational Exodus 14:14 Lord Will Fight for You Bible Verse Quotes Black Soft Case for iPhone 6s Plus</span>\\n                          </div>\\n                        </a>\\n                        \\n                        \\n                    </th>\\n                \\n                    <th class=\"comparison_image_title_cell comparable_item2\" role=\"columnheader\">\\n                        <a class=\"a-link-normal\" target=\"_self\" rel=\"noopener\" href=\"/dp/B07BN945RB/ref=psdc_3081461011_t3_B00P647W6U\">\\n                          <div class=\"a-row a-spacing-top-micro\">\\n                            <center>\\n                                <img alt=\"\" src=\"https://images-na.ssl-images-amazon.com/images/I/41NT%2BU5Ry7L._SL500_AC_SS350_.jpg\" aria-hidden=\"true\" id=\"comparison_image2\">\\n                            </center>\\n                          </div>\\n                          <div id=\"comparison_title2\" class=\"a-row a-spacing-top-small\">\\n                            <span class=\"a-size-base\">iPhone 6 Plus Case Christian Quotes,iphone 6s Plus Case,Christian Bible Verses Quote Inspirational Floral Colossians 3:12 Soft Rubber Anti Scratch Shock Absorption Protective Case for iPhone 6/6S Plus</span>\\n                          </div>\\n                        </a>\\n                        \\n                        \\n                    </th>\\n                \\n            </tr>\\n\\n\\n            <tr></tr>\\n\\n\\n            \\n            \\n            <tr>\\n                <td class=\"comparison_table_first_col\"></td>\\n\\n\\n                <td class=\"comparison_add_to_cart_button\">\\n                    \\n                        \\n                        \\n                        \\n                            <span id=\"comparison_add_to_cart_button\" class=\"a-button a-spacing-small a-button-primary\"><span class=\"a-button-inner\"><a id=\"comparison_add_to_cart_button-announce\" href=\"/gp/item-dispatch/ref=psdc_3081461011_a0_B00P647W6U?ie=UTF8&amp;itemCount=1&amp;nodeID=2335752011&amp;offeringID.1=5M401aJP4nV0F0jL9NrM%252Fifn0GfFOXFsM8iqBindxkM%252FHGvp5RRfJFQQY4fi1sO9UkjF6ehu7wf0kIEE6eBpyyCLq4yP8ztbgTdn4yiPnlNK%252BzU2di3dbD6ck3vuWkLd2hvwJcn78aki4cktbhoOH6mJ6AtwLw1M&amp;storeID=wireless&amp;session-id=145-4804398-8756061&amp;submit.addToCart=addToCart&amp;signInToHUC=0\" class=\"a-button-text\" role=\"button\">Add to Cart</a></span></span>\\n                        \\n                    \\n                </td>\\n\\n\\n                \\n                    <td class=\"a-text-left comparison_add_to_cart_button comparable_item0\">\\n                        \\n                            \\n                            \\n                                <span id=\"comparison_add_to_cart_button0\" class=\"a-button a-spacing-small a-button-primary\"><span class=\"a-button-inner\"><a id=\"comparison_add_to_cart_button0-announce\" href=\"/gp/item-dispatch/ref=psdc_3081461011_a1_B00P647W6U?ie=UTF8&amp;itemCount=1&amp;nodeID=2335752011&amp;offeringID.1=5M401aJP4nV0F0jL9NrM%252FryUCLzxPvxFgVR3rp77xf3f0ZtvTouS3ULwS0KV6sn08o%252FgAFTeKj5QlRc5TjG0sQ2HEd6lCynNeWjCnTPACfIkhUiosS%252FsRwcXbMSQu05%252B1495%252F1yrQ%252BIDstGzM2PGgtKKAYk0Ouc3&amp;storeID=wireless&amp;session-id=145-4804398-8756061&amp;submit.addToCart=addToCart&amp;signInToHUC=0\" class=\"a-button-text\" role=\"button\">Add to Cart</a></span></span>\\n                            \\n                        \\n                    </td>\\n                \\n                    <td class=\"a-text-left comparison_add_to_cart_button comparable_item1\">\\n                        \\n                            \\n                            \\n                                <span id=\"comparison_add_to_cart_button1\" class=\"a-button a-spacing-small a-button-primary\"><span class=\"a-button-inner\"><a id=\"comparison_add_to_cart_button1-announce\" href=\"/gp/item-dispatch/ref=psdc_3081461011_a2_B00P647W6U?ie=UTF8&amp;itemCount=1&amp;nodeID=2335752011&amp;offeringID.1=5M401aJP4nV0F0jL9NrM%252Fiqh3OgJSHkFVbeMw1mu5s4kFVaxDRVcoha35TDLieYdjsxLMUhtlkgZt8Ejp38tArhd50T09SwkPlqDIj99gRNwT8fyDnCbCoNA0%252FJyrRV4WDOvhlaeSd%252BTZVLNc95n0aJqcL%252F6yDPL&amp;storeID=wireless&amp;session-id=145-4804398-8756061&amp;submit.addToCart=addToCart&amp;signInToHUC=0\" class=\"a-button-text\" role=\"button\">Add to Cart</a></span></span>\\n                            \\n                        \\n                    </td>\\n                \\n                    <td class=\"a-text-left comparison_add_to_cart_button comparable_item2\">\\n                        \\n                            \\n                            \\n                                <span id=\"comparison_add_to_cart_button2\" class=\"a-button a-spacing-small a-button-primary\"><span class=\"a-button-inner\"><a id=\"comparison_add_to_cart_button2-announce\" href=\"/gp/item-dispatch/ref=psdc_3081461011_a3_B00P647W6U?ie=UTF8&amp;itemCount=1&amp;nodeID=172282&amp;offeringID.1=5M401aJP4nXV1Bz0gG76Om8YQ%252FW3FCWDAnykrhuTbiOeoycUzdCwkLgAv%252FFkIALYs9osva%252BsfYBH7h6Y84FN9RDnHz2LnCHfJcsF9w0PvdjpfDpkIN7ay7qrI1dg1KLyDFDjckpK15dSLJ6GT0OUiB0fTULBJqsw&amp;storeID=electronics&amp;session-id=145-4804398-8756061&amp;submit.addToCart=addToCart&amp;signInToHUC=0\" class=\"a-button-text\" role=\"button\">Add to Cart</a></span></span>\\n                            \\n                        \\n                    </td>\\n                \\n            </tr>\\n\\n\\n            <tr id=\"comparison_custormer_rating_row\">\\n                \\n                \\n                \\n                \\n\\n                <th class=\"comparison_attribute_name_column comparison_table_first_col\" role=\"rowheader\">\\n                    <span class=\"a-size-base a-color-base\">Customer Rating</span>\\n                </th>\\n\\n\\n                <td class=\"comparison_baseitem_column\">\\n                    \\n                    \\n                    \\n                    <span>\\n                        <span class=\"a-declarative\" data-action=\"a-popover\" data-a-popover=\"{&quot;max-width&quot;:&quot;700&quot;,&quot;closeButton&quot;:&quot;false&quot;,&quot;position&quot;:&quot;triggerBottom&quot;,&quot;url&quot;:&quot; /gp/customer-reviews/widgets/average-customer-review/popover/ref=acr_dpComparsion__popover?contextId=dpComparsion&amp;asin=B00P647W6U &quot;,&quot;restoreFocusOnHide&quot;:&quot;false&quot;}\">\\n                            <i class=\"a-icon a-icon-star a-star-4 a-spacing-none\"><span class=\"a-icon-alt\">4 out of 5 stars</span></i>\\n                        </span>\\n                        <a class=\"a-link-normal\" target=\"_self\" rel=\"noopener\" href=\"/product-reviews/B00P647W6U/ref=psdc_3081461011_r0_B00P647W6U?_encoding=UTF8&amp;showViewpoints=1\">(27)</a>\\n                        <span class=\"a-letter-space\"></span>\\n                    </span>\\n                </td>\\n\\n\\n                \\n                    <td class=\"comparison_sim_items_column comparable_item0\">\\n                        \\n                        \\n                        \\n                        <span>\\n                            <span class=\"a-declarative\" data-action=\"a-popover\" data-a-popover=\"{&quot;max-width&quot;:&quot;700&quot;,&quot;closeButton&quot;:&quot;false&quot;,&quot;position&quot;:&quot;triggerBottom&quot;,&quot;url&quot;:&quot; /gp/customer-reviews/widgets/average-customer-review/popover/ref=acr_dpComparsion__popover?contextId=dpComparsion&amp;asin=B00P1INXVY &quot;,&quot;restoreFocusOnHide&quot;:&quot;false&quot;}\">\\n                                <i class=\"a-icon a-icon-star a-star-4-5 a-spacing-none\"><span class=\"a-icon-alt\">4 out of 5 stars</span></i>\\n                            </span>\\n                            <a class=\"a-link-normal\" target=\"_self\" rel=\"noopener\" href=\"/product-reviews/B00P1INXVY/ref=psdc_3081461011_r1_B00P647W6U?_encoding=UTF8&amp;showViewpoints=1\">(93)</a>\\n                            <span class=\"a-letter-space\"></span>\\n                        </span>\\n                    </td>\\n                \\n                    <td class=\"comparison_sim_items_column comparable_item1\">\\n                        \\n                        \\n                        \\n                        <span>\\n                            <span class=\"a-declarative\" data-action=\"a-popover\" data-a-popover=\"{&quot;max-width&quot;:&quot;700&quot;,&quot;closeButton&quot;:&quot;false&quot;,&quot;position&quot;:&quot;triggerBottom&quot;,&quot;url&quot;:&quot; /gp/customer-reviews/widgets/average-customer-review/popover/ref=acr_dpComparsion__popover?contextId=dpComparsion&amp;asin=B00W4Y3V0Q &quot;,&quot;restoreFocusOnHide&quot;:&quot;false&quot;}\">\\n                                <i class=\"a-icon a-icon-star a-star-3-5 a-spacing-none\"><span class=\"a-icon-alt\">3 out of 5 stars</span></i>\\n                            </span>\\n                            <a class=\"a-link-normal\" target=\"_self\" rel=\"noopener\" href=\"/product-reviews/B00W4Y3V0Q/ref=psdc_3081461011_r2_B00P647W6U?_encoding=UTF8&amp;showViewpoints=1\">(36)</a>\\n                            <span class=\"a-letter-space\"></span>\\n                        </span>\\n                    </td>\\n                \\n                    <td class=\"comparison_sim_items_column comparable_item2\">\\n                        \\n                        \\n                        \\n                        <span>\\n                            <span class=\"a-declarative\" data-action=\"a-popover\" data-a-popover=\"{&quot;max-width&quot;:&quot;700&quot;,&quot;closeButton&quot;:&quot;false&quot;,&quot;position&quot;:&quot;triggerBottom&quot;,&quot;url&quot;:&quot; /gp/customer-reviews/widgets/average-customer-review/popover/ref=acr_dpComparsion__popover?contextId=dpComparsion&amp;asin=B07BN945RB &quot;,&quot;restoreFocusOnHide&quot;:&quot;false&quot;}\">\\n                                <i class=\"a-icon a-icon-star a-star-4 a-spacing-none\"><span class=\"a-icon-alt\">4 out of 5 stars</span></i>\\n                            </span>\\n                            <a class=\"a-link-normal\" target=\"_self\" rel=\"noopener\" href=\"/product-reviews/B07BN945RB/ref=psdc_3081461011_r3_B00P647W6U?_encoding=UTF8&amp;showViewpoints=1\">(3)</a>\\n                            <span class=\"a-letter-space\"></span>\\n                        </span>\\n                    </td>\\n                \\n            </tr>\\n\\n\\n            <tr id=\"comparison_price_row\">\\n                <th class=\"comparison_attribute_name_column comparison_table_first_col\" role=\"rowheader\">\\n                    <span class=\"a-size-base a-color-base\">Price</span>\\n                </th>\\n\\n\\n                <td class=\"comparison_baseitem_column\">\\n                    \\n                        \\n                        \\n                        \\n                        \\n                            \\n                                \\n                                    <span class=\"a-price\" data-a-size=\"l\" data-a-color=\"base\"><span class=\"a-offscreen\">$7.50</span><span aria-hidden=\"true\"><span class=\"a-price-symbol\">$</span><span class=\"a-price-whole\">7<span class=\"a-price-decimal\">                                                                                                                                                                                                                                                                                                                                                                                                                                                                                                                                                                                                                                                                                                                                                                                                                                                                                                                                                                                                                                                                                                                                                                                                                                                                                                                                                                                                                                                                                                                                                                                                                                                                                                                                                                                                                                                                                                                                                                                                                                                                                                                                                                                                                                                                                                                                                                                                                                                                                                                                                                                                                                                                                                                                                                                                                                                                                                                                                                                                                                                                                                                                                                                                                                                                                                                                                                                                                                                                                                                                                                                                                                                                                                                                                                                                                                                                                                                                                                                                                                                                                                                                                                                                                                                                                                                                                                                                                                                                                                                                                                                                                                                                                                                                                                                                                                                                                                                                                                                                                                                                                                                                                                                                                                                                                                                                                                                                                                                                                                                                                                                                                                                                                                                                                                                                                                                                                                                                                                                                                                                                                                                                                                                                                                                                                                                                                                                                                                                                                                                                                                                                                                                                                                                                                                                                                                                                                                                                                                                                                                                                                                   1\n",
              " class=\"a-bordered a-horizontal-stripes  a-spacing-extra-large a-size-base comparison_table\">\\n\\n\\n\\n            \\n            \\n            \\n            \\n            \\n            <tr class=\"comparison_table_image_row\">\\n                <td class=\"comparison_table_first_col\"></td>\\n\\n\\n                <th class=\"comparison_image_title_cell\" role=\"columnheader\">\\n                    <div class=\"a-row a-spacing-top-micro\">\\n                        <center>\\n                             <img alt=\"Universal Sports Armband for 5.7 Inch Screen Apple iPhone 6/6s iPhone 6/6s Plus Samsung Galaxy S7/S6/S5/S4 Sweatproof Running ArmBelt With Small Holder &amp; Pouch for Keys Card\" src=\"https://images-na.ssl-images-amazon.com/images/I/61zSm4yeffL._SL500_AC_SS350_.jpg\" id=\"comparison_image\">\\n                        </center>\\n                    </div>\\n                    <div class=\"a-row a-spacing-top-small\">\\n                        <div id=\"comparison_title\" class=\"a-section a-spacing-none\">\\n                            <span aria-hidden=\"true\" class=\"a-size-base a-color-base a-text-bold\">\\n                                This item\\n                            </span>\\n                            <span aria-hidden=\"true\" class=\"a-size-base a-color-base\">Universal Sports Armband for 5.7 Inch Screen Apple iPhone 6/6s iPhone 6/6s Plus Samsung Galaxy S7/S6/S5/S4 Sweatproof Running ArmBelt With Small Holder & Pouch for Keys Card</span>\\n                        </div>\\n                        \\n                        \\n                    </div>\\n                </th>\\n\\n\\n                \\n                    <th class=\"comparison_image_title_cell comparable_item0\" role=\"columnheader\">\\n                        <a class=\"a-link-normal\" target=\"_self\" rel=\"noopener\" href=\"/dp/B00SXRXUFE/ref=psdc_7073962011_t1_B01HJFFF1W\">\\n                          <div class=\"a-row a-spacing-top-micro\">\\n                            <center>\\n                                <img alt=\"\" src=\"https://images-na.ssl-images-amazon.com/images/I/41wsZy695tL._SL500_AC_SS350_.jpg\" aria-hidden=\"true\" id=\"comparison_image0\">\\n                            </center>\\n                          </div>\\n                          <div id=\"comparison_title0\" class=\"a-row a-spacing-top-small\">\\n                            <span class=\"a-size-base\">TRIBE Water Resistant Cell Phone Armband Case for iPhone X, Xs, 8, 7, 6, 6S Samsung Galaxy S9, S8, S7, S6, A8 with Adjustable Elastic Band & Key Holder for Running, Walking, Hiking</span>\\n                          </div>\\n                        </a>\\n                        \\n                        \\n                            \\n                            <div id=\"comparison_zeitgeist_section0\" class=\"a-row a-spacing-none a-spacing-top-micro\">\\n                                \\n\\n\\n\\n\\n\\n\\n\\n\\n\\n\\n\\n<a class=\"comparison_zeitgeist\"\\n        href=\"/gp/bestsellers/sporting-goods/3209246011/ref=psdczbs_7073962011_t1_B01HJFFF1W\"\\n        title=\"Sports Fan Cell Phone Accessories\">\\n    <i class=\"a-icon a-icon-addon comparison_zeitgeist_badge\"><span class=\"a-text-normal\">\\n        #1 Best Seller\\n    </span></i>\\n    \\n    \\n</a>\\n\\n                            </div>\\n                        \\n                    </th>\\n                \\n                    <th class=\"comparison_image_title_cell comparable_item1\" role=\"columnheader\">\\n                        <a class=\"a-link-normal\" target=\"_self\" rel=\"noopener\" href=\"/dp/B01MPZYSUT/ref=psdc_7073962011_t2_B01HJFFF1W\">\\n                          <div class=\"a-row a-spacing-top-micro\">\\n                            <center>\\n                                <img alt=\"\" src=\"https://images-na.ssl-images-amazon.com/images/I/61fPNm9g%2B5L._SL500_AC_SS350_.jpg\" aria-hidden=\"true\" id=\"comparison_image1\">\\n                            </center>\\n                          </div>\\n                          <div id=\"comparison_title1\" class=\"a-row a-spacing-top-small\">\\n                            <span class=\"a-size-base\">Universal Sports Armband for Apple iPhone 7/7 Plus iPhone 6/6s Plus Samsung Galaxy S7/S6/S5 Sweatproof Running ArmBelt With Small Holder & Pouch for Keys Card 4.5 inch- 5.7 inch Screen</span>\\n                          </div>\\n                        </a>\\n                        \\n                        \\n                    </th>\\n                \\n                    <th class=\"comparison_image_title_cell comparable_item2\" role=\"columnheader\">\\n                        <a class=\"a-link-normal\" target=\"_self\" rel=\"noopener\" href=\"/dp/B01MCX7NDC/ref=psdc_7073962011_t3_B01HJFFF1W\">\\n                          <div class=\"a-row a-spacing-top-micro\">\\n                            <center>\\n                                <img alt=\"\" src=\"https://images-na.ssl-images-amazon.com/images/I/51L8F8CnX-L._SL500_AC_SS350_.jpg\" aria-hidden=\"true\" id=\"comparison_image2\">\\n                            </center>\\n                          </div>\\n                          <div id=\"comparison_title2\" class=\"a-row a-spacing-top-small\">\\n                            <span class=\"a-size-base\">Universal Sports Armband for Apple iPhone 7/7 Plus iPhone 6/6s Plus Samsung Galaxy S7/S6/S5 Sweatproof Running ArmBelt With Small Holder & Pouch for Keys Card 4.5 inch- 5.7 inch Screen</span>\\n                          </div>\\n                        </a>\\n                        \\n                        \\n                    </th>\\n                \\n            </tr>\\n\\n\\n            <tr></tr>\\n\\n\\n            \\n            \\n            <tr>\\n                <td class=\"comparison_table_first_col\"></td>\\n\\n\\n                <td class=\"comparison_add_to_cart_button\">\\n                    \\n                        \\n                        \\n                        \\n                            <span id=\"comparison_add_to_cart_button\" class=\"a-button a-spacing-small a-button-primary\"><span class=\"a-button-inner\"><a id=\"comparison_add_to_cart_button-announce\" href=\"/gp/item-dispatch/ref=psdc_7073962011_a0_B01HJFFF1W?ie=UTF8&amp;itemCount=1&amp;nodeID=2335752011&amp;offeringID.1=umpIYXSqyqSUuHsYQImPWgqsGiz1U%252BMszdWG0RsEpxl6y%252FU3driiZX8LufNuYCbqfer92BLet%252Bf8lKOOP%252F2Mrw8rpzPJ73Q7vY9WYJV3xdIgTA4u5MMj9EHF70WUM1qKs61dJZoXyck3UWRaX9lrP5lpgQ3LK1Cn&amp;storeID=wireless&amp;session-id=138-5552837-6333119&amp;submit.addToCart=addToCart&amp;signInToHUC=0\" class=\"a-button-text\" role=\"button\">Add to Cart</a></span></span>\\n                        \\n                    \\n                </td>\\n\\n\\n                \\n                    <td class=\"a-text-left comparison_add_to_cart_button comparable_item0\">\\n                        \\n                            \\n                            \\n                                <span id=\"comparison_add_to_cart_button0\" class=\"a-button a-spacing-small a-button-primary\"><span class=\"a-button-inner\"><a id=\"comparison_add_to_cart_button0-announce\" href=\"/gp/item-dispatch/ref=psdc_7073962011_a1_B01HJFFF1W?ie=UTF8&amp;itemCount=1&amp;nodeID=2335752011&amp;offeringID.1=4w8eVSy98LxPIScVQwHLtAxYNKBiVGdU00Frtg%252FlTUrBrwQgJCfenFSqjjpPyRJnpEkdaJRqKIpMnXbzCwx1zeSdPwZ2y6I5rNRkJKHEudh0BOkUjm24rnabzNZJzkN0vZvo1BO2S1Qu4K%252Ff5fWiqqBct5ZfiycW&amp;storeID=wireless&amp;session-id=138-5552837-6333119&amp;submit.addToCart=addToCart&amp;signInToHUC=0\" class=\"a-button-text\" role=\"button\">Add to Cart</a></span></span>\\n                            \\n                        \\n                    </td>\\n                \\n                    <td class=\"a-text-left comparison_add_to_cart_button comparable_item1\">\\n                        \\n                            \\n                            \\n                                <span id=\"comparison_add_to_cart_button1\" class=\"a-button a-spacing-small a-button-primary\"><span class=\"a-button-inner\"><a id=\"comparison_add_to_cart_button1-announce\" href=\"/gp/item-dispatch/ref=psdc_7073962011_a2_B01HJFFF1W?ie=UTF8&amp;itemCount=1&amp;nodeID=2335752011&amp;offeringID.1=CvCd9esI0I5nTN5D%252BmDZ9aPgtXyx0evnl12OtOjCiTYqJ2QtUj%252BQLSi02SPx%252B0PXK62BFSvwdLVkepeVqucRiZqhtzxtrjwMA%252FZN7z4aGIgYsG16RIaLBWexXegtxHEGr4giuP%252BcHOHzNytvDv5SUv2XGCDf6jMl&amp;storeID=wireless&amp;session-id=138-5552837-6333119&amp;submit.addToCart=addToCart&amp;signInToHUC=0\" class=\"a-button-text\" role=\"button\">Add to Cart</a></span></span>\\n                            \\n                        \\n                    </td>\\n                \\n                    <td class=\"a-text-left comparison_add_to_cart_button comparable_item2\">\\n                        \\n                            \\n                            \\n                                <span id=\"comparison_add_to_cart_button2\" class=\"a-button a-spacing-small a-button-primary\"><span class=\"a-button-inner\"><a id=\"comparison_add_to_cart_button2-announce\" href=\"/gp/item-dispatch/ref=psdc_7073962011_a3_B01HJFFF1W?ie=UTF8&amp;itemCount=1&amp;nodeID=2335752011&amp;offeringID.1=CvCd9esI0I5nTN5D%252BmDZ9Q2MGfI0CyG504rd4LapvZV3G5hjDry9q7L3%252B5Y97AcBITELCNZ%252BYBxZ1kIz8vkHfzcdTAzxBmOFpStagcmAosKNVeIxZU%252FPhG1bMbdA57q8Z7pzOGphjYsXiVkyIKZJgRK8H5ad4Uqw&amp;storeID=wireless&amp;session-id=138-5552837-6333119&amp;submit.addToCart=addToCart&amp;signInToHUC=0\" class=\"a-button-text\" role=\"button\">Add to Cart</a></span></span>\\n                            \\n                        \\n                    </td>\\n                \\n            </tr>\\n\\n\\n            <tr id=\"comparison_custormer_rating_row\">\\n                \\n                \\n                \\n                \\n\\n                <th class=\"comparison_attribute_name_column comparison_table_first_col\" role=\"rowheader\">\\n                    <span class=\"a-size-base a-color-base\">Customer Rating</span>\\n                </th>\\n\\n\\n                <td class=\"comparison_baseitem_column\">\\n                    \\n                    \\n                    \\n                    <span>\\n                        <span class=\"a-declarative\" data-action=\"a-popover\" data-a-popover=\"{&quot;max-width&quot;:&quot;700&quot;,&quot;closeButton&quot;:&quot;false&quot;,&quot;position&quot;:&quot;triggerBottom&quot;,&quot;url&quot;:&quot; /gp/customer-reviews/widgets/average-customer-review/popover/ref=acr_dpComparsion__popover?contextId=dpComparsion&amp;asin=B01HJFFF1W &quot;,&quot;restoreFocusOnHide&quot;:&quot;false&quot;}\">\\n                            <i class=\"a-icon a-icon-star a-star-1 a-spacing-none\"><span class=\"a-icon-alt\">1 out of 5 stars</span></i>\\n                        </span>\\n                        <a class=\"a-link-normal\" target=\"_self\" rel=\"noopener\" href=\"/product-reviews/B01HJFFF1W/ref=psdc_7073962011_r0_B01HJFFF1W?_encoding=UTF8&amp;showViewpoints=1\">(1)</a>\\n                        <span class=\"a-letter-space\"></span>\\n                    </span>\\n                </td>\\n\\n\\n                \\n                    <td class=\"comparison_sim_items_column comparable_item0\">\\n                        \\n                        \\n                        \\n                        <span>\\n                            <span class=\"a-declarative\" data-action=\"a-popover\" data-a-popover=\"{&quot;max-width&quot;:&quot;700&quot;,&quot;closeButton&quot;:&quot;false&quot;,&quot;position&quot;:&quot;triggerBottom&quot;,&quot;url&quot;:&quot; /gp/customer-reviews/widgets/average-customer-review/popover/ref=acr_dpComparsion__popover?contextId=dpComparsion&amp;asin=B00SXRXUFE &quot;,&quot;restoreFocusOnHide&quot;:&quot;false&quot;}\">\\n                                <i class=\"a-icon a-icon-star a-star-4 a-spacing-none\"><span class=\"a-icon-alt\">4 out of 5 stars</span></i>\\n                            </span>\\n                            <a class=\"a-link-normal\" target=\"_self\" rel=\"noopener\" href=\"/product-reviews/B00SXRXUFE/ref=psdc_7073962011_r1_B01HJFFF1W?_encoding=UTF8&amp;showViewpoints=1\">(16838)</a>\\n                            <span class=\"a-letter-space\"></span>\\n                        </span>\\n                    </td>\\n                \\n                    <td class=\"comparison_sim_items_column comparable_item1\">\\n                        \\n                        \\n                        \\n                        <span>\\n                            <span class=\"a-declarative\" data-action=\"a-popover\" data-a-popover=\"{&quot;max-width&quot;:&quot;700&quot;,&quot;closeButton&quot;:&quot;false&quot;,&quot;position&quot;:&quot;triggerBottom&quot;,&quot;url&quot;:&quot; /gp/customer-reviews/widgets/average-customer-review/popover/ref=acr_dpComparsion__popover?contextId=dpComparsion&amp;asin=B01MPZYSUT &quot;,&quot;restoreFocusOnHide&quot;:&quot;false&quot;}\">\\n                                <i class=\"a-icon a-icon-star a-star-0 a-spacing-none\"><span class=\"a-icon-alt\">0 out of 5 stars</span></i>\\n                            </span>\\n                            <a class=\"a-link-normal\" target=\"_self\" rel=\"noopener\" href=\"/product-reviews/B01MPZYSUT/ref=psdc_7073962011_r2_B01HJFFF1W?_encoding=UTF8&amp;showViewpoints=1\">(0)</a>\\n                            <span class=\"a-letter-space\"></span>\\n                        </span>\\n                    </td>\\n                \\n                    <td class=\"comparison_sim_items_column comparable_item2\">\\n                        \\n                        \\n                        \\n                        <span>\\n                            <span class=\"a-declarative\" data-action=\"a-popover\" data-a-popover=\"{&quot;max-width&quot;:&quot;700&quot;,&quot;closeButton&quot;:&quot;false&quot;,&quot;position&quot;:&quot;triggerBottom&quot;,&quot;url&quot;:&quot; /gp/customer-reviews/widgets/average-customer-review/popover/ref=acr_dpComparsion__popover?contextId=dpComparsion&amp;asin=B01MCX7NDC &quot;,&quot;restoreFocusOnHide&quot;:&quot;false&quot;}\">\\n                                <i class=\"a-icon a-icon-star a-star-0 a-spacing-none\"><span class=\"a-icon-alt\">0 out of 5 stars</span></i>\\n                            </span>\\n                            <a class=\"a-link-normal\" target=\"_self\" rel=\"noopener\" href=\"/product-reviews/B01MCX7NDC/ref=psdc_7073962011_r3_B01HJFFF1W?_encoding=UTF8&amp;showViewpoints=1\">(0)</a>\\n                            <span class=\"a-letter-space\"></span>\\n                        </span>\\n                    </td>\\n                \\n            </tr>\\n\\n\\n            <tr id=\"comparison_price_row\">\\n                <th class=\"comparison_attribute_name_column comparison_table_first_col\" role=\"rowheader\">\\n                    <span class=\"a-size-base a-color-base\">Price</span>\\n                </th>\\n\\n\\n                <td class=\"comparison_baseitem_column\">\\n                    \\n                        \\n                        \\n                        \\n                        \\n                            \\n                                \\n                                    <span class=\"a-price\" data-a-size=\"l\" data-a-color=\"base\"><span class=\"a-offscreen\">$3.99</span><span aria-hidden=\"true\"><span class=\"a-price-symbol\">$</span><span class=\"a-price-whole\">3<span class=\"a-price-decimal\">                                                                                                                                                                                                                                                                                                                                                                                                                                                                                                                                                                                                                                                                                                                                                                                                                                                                                                                                                                                                                                                                                                                                                                                                                                                                                                                                                                                                                                                                                                                                                                                                                                                                                                                                                                                                                                                                                                                                                                                                                                                                                                                                                                                                                                                                                                                                                                                                                                                                                                                                                                                                                                                                                                                                                                                                                                                                                                                                                                                                                                                                                                                                                                                                                                                                                                                                                                                                                                                                                                                                                                                                                                                                                                                                                                                                                                                                                                                                                                                                                                                                                                                                                                                                                                                                                                                                                                                                                                                                                                                                                                                                                                                                                                                                                                                                                                                                                                                                                                                                                                                                                                                                                                                                                                                                                                                                                                                                                                                                                                                                                                                                                                                                                                                                                                                                                                                                                                                                                                                                                                                                                                                                                                                                                                                                                                                                                                                                                                                                                                                      1\n",
              "Name: similar_item, Length: 50855, dtype: int64"
            ]
          },
          "metadata": {},
          "execution_count": 32
        }
      ],
      "source": [
        "df_meta.similar_item.value_counts()"
      ]
    },
    {
      "cell_type": "code",
      "execution_count": 41,
      "metadata": {
        "id": "wzOcu2YWQkKn"
      },
      "outputs": [],
      "source": [
        "#dropping duplicates in asin\n",
        "df_meta.drop_duplicates(subset='asin',inplace=True)"
      ]
    },
    {
      "cell_type": "code",
      "source": [
        "mask=df_meta[\"category\"].apply(lambda x:x[31:35]==\"Cell\")"
      ],
      "metadata": {
        "id": "wTUZ2rBR9ZRy"
      },
      "execution_count": 42,
      "outputs": []
    },
    {
      "cell_type": "code",
      "source": [
        "df_meta=df_meta[mask]\n",
        "df_meta.head(2)"
      ],
      "metadata": {
        "colab": {
          "base_uri": "https://localhost:8080/",
          "height": 367
        },
        "id": "IpBj3X8Z9d9p",
        "outputId": "f4f032aa-16c1-4c42-f735-fe827b2bd6f7"
      },
      "execution_count": 43,
      "outputs": [
        {
          "output_type": "execute_result",
          "data": {
            "text/plain": [
              "      Unnamed: 0                                           category tech1  \\\n",
              "36            36  ['Cell Phones & Accessories', 'Cell Phones', '...   NaN   \n",
              "1274        1274  ['Cell Phones & Accessories', 'Cell Phones', '...   NaN   \n",
              "\n",
              "                                            description  fit  \\\n",
              "36    ['ICE CENIOR *SENIOR PHONE*, QUAD BAND Super b...  NaN   \n",
              "1274  ['Standard package: 1 x original phone 1 x Qua...  NaN   \n",
              "\n",
              "                                                  title  \\\n",
              "36    UNLOCKED DUAL SIM SLOT *CENIOR PHONE* QUAD BAN...   \n",
              "1274                              Nokia 3310 Blue Nokia   \n",
              "\n",
              "                          also_buy  \\\n",
              "36                              []   \n",
              "1274  ['B075FL4H89', 'B00R25GJJW']   \n",
              "\n",
              "                                                  image tech2  brand  \\\n",
              "36    ['https://images-na.ssl-images-amazon.com/imag...   NaN    Ice   \n",
              "1274  ['https://images-na.ssl-images-amazon.com/imag...   NaN  Nokia   \n",
              "\n",
              "                                                feature  \\\n",
              "36    ['2G NETWORK, Quad Band: GSM 850/900/1800/1900...   \n",
              "1274  ['GSM 900/1800', 'Simple and elegant', 'Classi...   \n",
              "\n",
              "                                                   rank  \\\n",
              "36    ['>#6,356,920 in Cell Phones & Accessories (Se...   \n",
              "1274  ['>#32,759 in Electronics (See Top 100 in Elec...   \n",
              "\n",
              "                                              also_view details  \\\n",
              "36                                                   []      {}   \n",
              "1274  ['B075FL4H89', 'B075FKZMR2', 'B00TLWTJLO', 'B0...      {}   \n",
              "\n",
              "                       main_cat  \\\n",
              "36    Cell Phones & Accessories   \n",
              "1274            All Electronics   \n",
              "\n",
              "                                           similar_item              date  \\\n",
              "36                                                  NaN               NaN   \n",
              "1274   class=\"a-bordered a-horizontal-stripes  a-spa...  October 19, 2014   \n",
              "\n",
              "     price        asin  \n",
              "36     NaN  8050110508  \n",
              "1274   NaN  B00005KBGR  "
            ],
            "text/html": [
              "\n",
              "  <div id=\"df-6d833351-9144-47a1-8e06-30f503c4782d\">\n",
              "    <div class=\"colab-df-container\">\n",
              "      <div>\n",
              "<style scoped>\n",
              "    .dataframe tbody tr th:only-of-type {\n",
              "        vertical-align: middle;\n",
              "    }\n",
              "\n",
              "    .dataframe tbody tr th {\n",
              "        vertical-align: top;\n",
              "    }\n",
              "\n",
              "    .dataframe thead th {\n",
              "        text-align: right;\n",
              "    }\n",
              "</style>\n",
              "<table border=\"1\" class=\"dataframe\">\n",
              "  <thead>\n",
              "    <tr style=\"text-align: right;\">\n",
              "      <th></th>\n",
              "      <th>Unnamed: 0</th>\n",
              "      <th>category</th>\n",
              "      <th>tech1</th>\n",
              "      <th>description</th>\n",
              "      <th>fit</th>\n",
              "      <th>title</th>\n",
              "      <th>also_buy</th>\n",
              "      <th>image</th>\n",
              "      <th>tech2</th>\n",
              "      <th>brand</th>\n",
              "      <th>feature</th>\n",
              "      <th>rank</th>\n",
              "      <th>also_view</th>\n",
              "      <th>details</th>\n",
              "      <th>main_cat</th>\n",
              "      <th>similar_item</th>\n",
              "      <th>date</th>\n",
              "      <th>price</th>\n",
              "      <th>asin</th>\n",
              "    </tr>\n",
              "  </thead>\n",
              "  <tbody>\n",
              "    <tr>\n",
              "      <th>36</th>\n",
              "      <td>36</td>\n",
              "      <td>['Cell Phones &amp; Accessories', 'Cell Phones', '...</td>\n",
              "      <td>NaN</td>\n",
              "      <td>['ICE CENIOR *SENIOR PHONE*, QUAD BAND Super b...</td>\n",
              "      <td>NaN</td>\n",
              "      <td>UNLOCKED DUAL SIM SLOT *CENIOR PHONE* QUAD BAN...</td>\n",
              "      <td>[]</td>\n",
              "      <td>['https://images-na.ssl-images-amazon.com/imag...</td>\n",
              "      <td>NaN</td>\n",
              "      <td>Ice</td>\n",
              "      <td>['2G NETWORK, Quad Band: GSM 850/900/1800/1900...</td>\n",
              "      <td>['&gt;#6,356,920 in Cell Phones &amp; Accessories (Se...</td>\n",
              "      <td>[]</td>\n",
              "      <td>{}</td>\n",
              "      <td>Cell Phones &amp; Accessories</td>\n",
              "      <td>NaN</td>\n",
              "      <td>NaN</td>\n",
              "      <td>NaN</td>\n",
              "      <td>8050110508</td>\n",
              "    </tr>\n",
              "    <tr>\n",
              "      <th>1274</th>\n",
              "      <td>1274</td>\n",
              "      <td>['Cell Phones &amp; Accessories', 'Cell Phones', '...</td>\n",
              "      <td>NaN</td>\n",
              "      <td>['Standard package: 1 x original phone 1 x Qua...</td>\n",
              "      <td>NaN</td>\n",
              "      <td>Nokia 3310 Blue Nokia</td>\n",
              "      <td>['B075FL4H89', 'B00R25GJJW']</td>\n",
              "      <td>['https://images-na.ssl-images-amazon.com/imag...</td>\n",
              "      <td>NaN</td>\n",
              "      <td>Nokia</td>\n",
              "      <td>['GSM 900/1800', 'Simple and elegant', 'Classi...</td>\n",
              "      <td>['&gt;#32,759 in Electronics (See Top 100 in Elec...</td>\n",
              "      <td>['B075FL4H89', 'B075FKZMR2', 'B00TLWTJLO', 'B0...</td>\n",
              "      <td>{}</td>\n",
              "      <td>All Electronics</td>\n",
              "      <td>class=\"a-bordered a-horizontal-stripes  a-spa...</td>\n",
              "      <td>October 19, 2014</td>\n",
              "      <td>NaN</td>\n",
              "      <td>B00005KBGR</td>\n",
              "    </tr>\n",
              "  </tbody>\n",
              "</table>\n",
              "</div>\n",
              "      <button class=\"colab-df-convert\" onclick=\"convertToInteractive('df-6d833351-9144-47a1-8e06-30f503c4782d')\"\n",
              "              title=\"Convert this dataframe to an interactive table.\"\n",
              "              style=\"display:none;\">\n",
              "        \n",
              "  <svg xmlns=\"http://www.w3.org/2000/svg\" height=\"24px\"viewBox=\"0 0 24 24\"\n",
              "       width=\"24px\">\n",
              "    <path d=\"M0 0h24v24H0V0z\" fill=\"none\"/>\n",
              "    <path d=\"M18.56 5.44l.94 2.06.94-2.06 2.06-.94-2.06-.94-.94-2.06-.94 2.06-2.06.94zm-11 1L8.5 8.5l.94-2.06 2.06-.94-2.06-.94L8.5 2.5l-.94 2.06-2.06.94zm10 10l.94 2.06.94-2.06 2.06-.94-2.06-.94-.94-2.06-.94 2.06-2.06.94z\"/><path d=\"M17.41 7.96l-1.37-1.37c-.4-.4-.92-.59-1.43-.59-.52 0-1.04.2-1.43.59L10.3 9.45l-7.72 7.72c-.78.78-.78 2.05 0 2.83L4 21.41c.39.39.9.59 1.41.59.51 0 1.02-.2 1.41-.59l7.78-7.78 2.81-2.81c.8-.78.8-2.07 0-2.86zM5.41 20L4 18.59l7.72-7.72 1.47 1.35L5.41 20z\"/>\n",
              "  </svg>\n",
              "      </button>\n",
              "      \n",
              "  <style>\n",
              "    .colab-df-container {\n",
              "      display:flex;\n",
              "      flex-wrap:wrap;\n",
              "      gap: 12px;\n",
              "    }\n",
              "\n",
              "    .colab-df-convert {\n",
              "      background-color: #E8F0FE;\n",
              "      border: none;\n",
              "      border-radius: 50%;\n",
              "      cursor: pointer;\n",
              "      display: none;\n",
              "      fill: #1967D2;\n",
              "      height: 32px;\n",
              "      padding: 0 0 0 0;\n",
              "      width: 32px;\n",
              "    }\n",
              "\n",
              "    .colab-df-convert:hover {\n",
              "      background-color: #E2EBFA;\n",
              "      box-shadow: 0px 1px 2px rgba(60, 64, 67, 0.3), 0px 1px 3px 1px rgba(60, 64, 67, 0.15);\n",
              "      fill: #174EA6;\n",
              "    }\n",
              "\n",
              "    [theme=dark] .colab-df-convert {\n",
              "      background-color: #3B4455;\n",
              "      fill: #D2E3FC;\n",
              "    }\n",
              "\n",
              "    [theme=dark] .colab-df-convert:hover {\n",
              "      background-color: #434B5C;\n",
              "      box-shadow: 0px 1px 3px 1px rgba(0, 0, 0, 0.15);\n",
              "      filter: drop-shadow(0px 1px 2px rgba(0, 0, 0, 0.3));\n",
              "      fill: #FFFFFF;\n",
              "    }\n",
              "  </style>\n",
              "\n",
              "      <script>\n",
              "        const buttonEl =\n",
              "          document.querySelector('#df-6d833351-9144-47a1-8e06-30f503c4782d button.colab-df-convert');\n",
              "        buttonEl.style.display =\n",
              "          google.colab.kernel.accessAllowed ? 'block' : 'none';\n",
              "\n",
              "        async function convertToInteractive(key) {\n",
              "          const element = document.querySelector('#df-6d833351-9144-47a1-8e06-30f503c4782d');\n",
              "          const dataTable =\n",
              "            await google.colab.kernel.invokeFunction('convertToInteractive',\n",
              "                                                     [key], {});\n",
              "          if (!dataTable) return;\n",
              "\n",
              "          const docLinkHtml = 'Like what you see? Visit the ' +\n",
              "            '<a target=\"_blank\" href=https://colab.research.google.com/notebooks/data_table.ipynb>data table notebook</a>'\n",
              "            + ' to learn more about interactive tables.';\n",
              "          element.innerHTML = '';\n",
              "          dataTable['output_type'] = 'display_data';\n",
              "          await google.colab.output.renderOutput(dataTable, element);\n",
              "          const docLink = document.createElement('div');\n",
              "          docLink.innerHTML = docLinkHtml;\n",
              "          element.appendChild(docLink);\n",
              "        }\n",
              "      </script>\n",
              "    </div>\n",
              "  </div>\n",
              "  "
            ]
          },
          "metadata": {},
          "execution_count": 43
        }
      ]
    },
    {
      "cell_type": "code",
      "source": [
        "df_meta.shape"
      ],
      "metadata": {
        "id": "gH1FwQJXU954",
        "colab": {
          "base_uri": "https://localhost:8080/"
        },
        "outputId": "d94a59cb-d44a-4cf6-cc28-b082cb851e3a"
      },
      "execution_count": 45,
      "outputs": [
        {
          "output_type": "execute_result",
          "data": {
            "text/plain": [
              "(9789, 19)"
            ]
          },
          "metadata": {},
          "execution_count": 45
        }
      ]
    },
    {
      "cell_type": "code",
      "source": [
        "df_meta.isnull().sum()"
      ],
      "metadata": {
        "id": "ks05G9GW0-81",
        "colab": {
          "base_uri": "https://localhost:8080/"
        },
        "outputId": "6580231e-cb24-4a4f-866b-d0461b963759"
      },
      "execution_count": 44,
      "outputs": [
        {
          "output_type": "execute_result",
          "data": {
            "text/plain": [
              "Unnamed: 0         0\n",
              "category           0\n",
              "tech1           9758\n",
              "description        0\n",
              "fit             9789\n",
              "title              0\n",
              "also_buy           0\n",
              "image              0\n",
              "tech2           9780\n",
              "brand            123\n",
              "feature            0\n",
              "rank               0\n",
              "also_view          0\n",
              "details            0\n",
              "main_cat          14\n",
              "similar_item    6856\n",
              "date            9553\n",
              "price           8046\n",
              "asin               0\n",
              "dtype: int64"
            ]
          },
          "metadata": {},
          "execution_count": 44
        }
      ]
    },
    {
      "cell_type": "code",
      "source": [
        "df_meta.drop(['tech1','tech2','fit','date'], axis = 1, inplace = True) #dropping columns with null values in meta "
      ],
      "metadata": {
        "id": "3DQO24-v8RSJ"
      },
      "execution_count": 46,
      "outputs": []
    },
    {
      "cell_type": "code",
      "source": [
        "df_meta1=df_meta[~df_meta['price'].isna()] #checking for null"
      ],
      "metadata": {
        "id": "Jz2J-U0w1-Kh"
      },
      "execution_count": 47,
      "outputs": []
    },
    {
      "cell_type": "code",
      "source": [
        "df_meta1=df_meta1[~df_meta1['similar_item'].isna()]"
      ],
      "metadata": {
        "id": "CAMGNJcA3WmA"
      },
      "execution_count": 48,
      "outputs": []
    },
    {
      "cell_type": "code",
      "source": [
        "df_meta1=df_meta1[~df_meta1['brand'].isna()]"
      ],
      "metadata": {
        "id": "Mz0_HxU53Z84"
      },
      "execution_count": 49,
      "outputs": []
    },
    {
      "cell_type": "code",
      "source": [
        "df_meta1.to_csv('/content/gdrive/MyDrive/data.csv')"
      ],
      "metadata": {
        "id": "Rk9RvDOL3d_6"
      },
      "execution_count": 50,
      "outputs": []
    },
    {
      "cell_type": "code",
      "source": [
        "df_meta=pd.read_csv('/content/gdrive/MyDrive/data.csv')\n",
        "df_meta.head(2)"
      ],
      "metadata": {
        "id": "4LONj80L32Lu",
        "colab": {
          "base_uri": "https://localhost:8080/",
          "height": 384
        },
        "outputId": "b3554a62-82af-472f-e36f-f884e268066c"
      },
      "execution_count": 52,
      "outputs": [
        {
          "output_type": "execute_result",
          "data": {
            "text/plain": [
              "   Unnamed: 0  Unnamed: 0.1  \\\n",
              "0        2925          2925   \n",
              "1        3234          3234   \n",
              "\n",
              "                                            category  \\\n",
              "0  ['Cell Phones & Accessories', 'Cell Phones', '...   \n",
              "1  ['Cell Phones & Accessories', 'Cell Phones', '...   \n",
              "\n",
              "                                         description  \\\n",
              "0  ['An entry level handset with a clean, stylish...   \n",
              "1  [\"Get more with this digital camera phone by u...   \n",
              "\n",
              "                                               title        also_buy  \\\n",
              "0                   Virgin Mobile Shorty Phone- Blue              []   \n",
              "1  Verizon or PagePlus LG VX5200 Great Condition ...  ['B004GK67UW']   \n",
              "\n",
              "                                               image  brand feature  \\\n",
              "0  ['https://images-na.ssl-images-amazon.com/imag...  Nokia      []   \n",
              "1  ['https://images-na.ssl-images-amazon.com/imag...     LG      []   \n",
              "\n",
              "                                                rank  \\\n",
              "0  ['>#436,771 in Cell Phones & Accessories (See ...   \n",
              "1  ['>#508,503 in Cell Phones & Accessories (See ...   \n",
              "\n",
              "                                           also_view details  \\\n",
              "0  ['B002ZNJGU0', 'B00O5EUBSI', 'B0757B64H2', 'B0...      {}   \n",
              "1  ['B01DRV2BBY', 'B07BHH848H', 'B01DRV2B2I', 'B0...      {}   \n",
              "\n",
              "                    main_cat  \\\n",
              "0  Cell Phones & Accessories   \n",
              "1  Cell Phones & Accessories   \n",
              "\n",
              "                                        similar_item  \\\n",
              "0   class=\"a-bordered a-horizontal-stripes  a-spa...   \n",
              "1   class=\"a-bordered a-horizontal-stripes  a-spa...   \n",
              "\n",
              "                                               price        asin  \n",
              "0  .a-box-inner{background-color:#fff}#alohaBuyBo...  B0009EP76Y  \n",
              "1  .a-box-inner{background-color:#fff}#alohaBuyBo...  B000BH9V0M  "
            ],
            "text/html": [
              "\n",
              "  <div id=\"df-ea678f1d-2cd4-4d20-a399-df739ef8e3a7\">\n",
              "    <div class=\"colab-df-container\">\n",
              "      <div>\n",
              "<style scoped>\n",
              "    .dataframe tbody tr th:only-of-type {\n",
              "        vertical-align: middle;\n",
              "    }\n",
              "\n",
              "    .dataframe tbody tr th {\n",
              "        vertical-align: top;\n",
              "    }\n",
              "\n",
              "    .dataframe thead th {\n",
              "        text-align: right;\n",
              "    }\n",
              "</style>\n",
              "<table border=\"1\" class=\"dataframe\">\n",
              "  <thead>\n",
              "    <tr style=\"text-align: right;\">\n",
              "      <th></th>\n",
              "      <th>Unnamed: 0</th>\n",
              "      <th>Unnamed: 0.1</th>\n",
              "      <th>category</th>\n",
              "      <th>description</th>\n",
              "      <th>title</th>\n",
              "      <th>also_buy</th>\n",
              "      <th>image</th>\n",
              "      <th>brand</th>\n",
              "      <th>feature</th>\n",
              "      <th>rank</th>\n",
              "      <th>also_view</th>\n",
              "      <th>details</th>\n",
              "      <th>main_cat</th>\n",
              "      <th>similar_item</th>\n",
              "      <th>price</th>\n",
              "      <th>asin</th>\n",
              "    </tr>\n",
              "  </thead>\n",
              "  <tbody>\n",
              "    <tr>\n",
              "      <th>0</th>\n",
              "      <td>2925</td>\n",
              "      <td>2925</td>\n",
              "      <td>['Cell Phones &amp; Accessories', 'Cell Phones', '...</td>\n",
              "      <td>['An entry level handset with a clean, stylish...</td>\n",
              "      <td>Virgin Mobile Shorty Phone- Blue</td>\n",
              "      <td>[]</td>\n",
              "      <td>['https://images-na.ssl-images-amazon.com/imag...</td>\n",
              "      <td>Nokia</td>\n",
              "      <td>[]</td>\n",
              "      <td>['&gt;#436,771 in Cell Phones &amp; Accessories (See ...</td>\n",
              "      <td>['B002ZNJGU0', 'B00O5EUBSI', 'B0757B64H2', 'B0...</td>\n",
              "      <td>{}</td>\n",
              "      <td>Cell Phones &amp; Accessories</td>\n",
              "      <td>class=\"a-bordered a-horizontal-stripes  a-spa...</td>\n",
              "      <td>.a-box-inner{background-color:#fff}#alohaBuyBo...</td>\n",
              "      <td>B0009EP76Y</td>\n",
              "    </tr>\n",
              "    <tr>\n",
              "      <th>1</th>\n",
              "      <td>3234</td>\n",
              "      <td>3234</td>\n",
              "      <td>['Cell Phones &amp; Accessories', 'Cell Phones', '...</td>\n",
              "      <td>[\"Get more with this digital camera phone by u...</td>\n",
              "      <td>Verizon or PagePlus LG VX5200 Great Condition ...</td>\n",
              "      <td>['B004GK67UW']</td>\n",
              "      <td>['https://images-na.ssl-images-amazon.com/imag...</td>\n",
              "      <td>LG</td>\n",
              "      <td>[]</td>\n",
              "      <td>['&gt;#508,503 in Cell Phones &amp; Accessories (See ...</td>\n",
              "      <td>['B01DRV2BBY', 'B07BHH848H', 'B01DRV2B2I', 'B0...</td>\n",
              "      <td>{}</td>\n",
              "      <td>Cell Phones &amp; Accessories</td>\n",
              "      <td>class=\"a-bordered a-horizontal-stripes  a-spa...</td>\n",
              "      <td>.a-box-inner{background-color:#fff}#alohaBuyBo...</td>\n",
              "      <td>B000BH9V0M</td>\n",
              "    </tr>\n",
              "  </tbody>\n",
              "</table>\n",
              "</div>\n",
              "      <button class=\"colab-df-convert\" onclick=\"convertToInteractive('df-ea678f1d-2cd4-4d20-a399-df739ef8e3a7')\"\n",
              "              title=\"Convert this dataframe to an interactive table.\"\n",
              "              style=\"display:none;\">\n",
              "        \n",
              "  <svg xmlns=\"http://www.w3.org/2000/svg\" height=\"24px\"viewBox=\"0 0 24 24\"\n",
              "       width=\"24px\">\n",
              "    <path d=\"M0 0h24v24H0V0z\" fill=\"none\"/>\n",
              "    <path d=\"M18.56 5.44l.94 2.06.94-2.06 2.06-.94-2.06-.94-.94-2.06-.94 2.06-2.06.94zm-11 1L8.5 8.5l.94-2.06 2.06-.94-2.06-.94L8.5 2.5l-.94 2.06-2.06.94zm10 10l.94 2.06.94-2.06 2.06-.94-2.06-.94-.94-2.06-.94 2.06-2.06.94z\"/><path d=\"M17.41 7.96l-1.37-1.37c-.4-.4-.92-.59-1.43-.59-.52 0-1.04.2-1.43.59L10.3 9.45l-7.72 7.72c-.78.78-.78 2.05 0 2.83L4 21.41c.39.39.9.59 1.41.59.51 0 1.02-.2 1.41-.59l7.78-7.78 2.81-2.81c.8-.78.8-2.07 0-2.86zM5.41 20L4 18.59l7.72-7.72 1.47 1.35L5.41 20z\"/>\n",
              "  </svg>\n",
              "      </button>\n",
              "      \n",
              "  <style>\n",
              "    .colab-df-container {\n",
              "      display:flex;\n",
              "      flex-wrap:wrap;\n",
              "      gap: 12px;\n",
              "    }\n",
              "\n",
              "    .colab-df-convert {\n",
              "      background-color: #E8F0FE;\n",
              "      border: none;\n",
              "      border-radius: 50%;\n",
              "      cursor: pointer;\n",
              "      display: none;\n",
              "      fill: #1967D2;\n",
              "      height: 32px;\n",
              "      padding: 0 0 0 0;\n",
              "      width: 32px;\n",
              "    }\n",
              "\n",
              "    .colab-df-convert:hover {\n",
              "      background-color: #E2EBFA;\n",
              "      box-shadow: 0px 1px 2px rgba(60, 64, 67, 0.3), 0px 1px 3px 1px rgba(60, 64, 67, 0.15);\n",
              "      fill: #174EA6;\n",
              "    }\n",
              "\n",
              "    [theme=dark] .colab-df-convert {\n",
              "      background-color: #3B4455;\n",
              "      fill: #D2E3FC;\n",
              "    }\n",
              "\n",
              "    [theme=dark] .colab-df-convert:hover {\n",
              "      background-color: #434B5C;\n",
              "      box-shadow: 0px 1px 3px 1px rgba(0, 0, 0, 0.15);\n",
              "      filter: drop-shadow(0px 1px 2px rgba(0, 0, 0, 0.3));\n",
              "      fill: #FFFFFF;\n",
              "    }\n",
              "  </style>\n",
              "\n",
              "      <script>\n",
              "        const buttonEl =\n",
              "          document.querySelector('#df-ea678f1d-2cd4-4d20-a399-df739ef8e3a7 button.colab-df-convert');\n",
              "        buttonEl.style.display =\n",
              "          google.colab.kernel.accessAllowed ? 'block' : 'none';\n",
              "\n",
              "        async function convertToInteractive(key) {\n",
              "          const element = document.querySelector('#df-ea678f1d-2cd4-4d20-a399-df739ef8e3a7');\n",
              "          const dataTable =\n",
              "            await google.colab.kernel.invokeFunction('convertToInteractive',\n",
              "                                                     [key], {});\n",
              "          if (!dataTable) return;\n",
              "\n",
              "          const docLinkHtml = 'Like what you see? Visit the ' +\n",
              "            '<a target=\"_blank\" href=https://colab.research.google.com/notebooks/data_table.ipynb>data table notebook</a>'\n",
              "            + ' to learn more about interactive tables.';\n",
              "          element.innerHTML = '';\n",
              "          dataTable['output_type'] = 'display_data';\n",
              "          await google.colab.output.renderOutput(dataTable, element);\n",
              "          const docLink = document.createElement('div');\n",
              "          docLink.innerHTML = docLinkHtml;\n",
              "          element.appendChild(docLink);\n",
              "        }\n",
              "      </script>\n",
              "    </div>\n",
              "  </div>\n",
              "  "
            ]
          },
          "metadata": {},
          "execution_count": 52
        }
      ]
    },
    {
      "cell_type": "markdown",
      "source": [
        "**Merging** **Datasets**"
      ],
      "metadata": {
        "id": "piJ-WHvB8sUp"
      }
    },
    {
      "cell_type": "code",
      "source": [
        "#merging the meta and phonedata datasets\n",
        "\n",
        "reviews = pd.merge(df_phonedata, df_meta, how=\"inner\", on=[\"asin\"])"
      ],
      "metadata": {
        "id": "iPXqZH8D8lzV"
      },
      "execution_count": 53,
      "outputs": []
    },
    {
      "cell_type": "code",
      "source": [
        "reviews.head(3)"
      ],
      "metadata": {
        "id": "CGaCJARJ83N8",
        "colab": {
          "base_uri": "https://localhost:8080/",
          "height": 497
        },
        "outputId": "7686b5a6-419e-4abf-b037-30bb9964e0b3"
      },
      "execution_count": 54,
      "outputs": [
        {
          "output_type": "execute_result",
          "data": {
            "text/plain": [
              "   overall  verified      reviewerID        asin                 style  \\\n",
              "0      4.0     False  A1ICOB5XZ9GK3R  B002KQLUVU  {'Color:': ' Black'}   \n",
              "1      5.0      True  A2O0XNK7T4KASU  B002KQLUVU  {'Color:': ' Black'}   \n",
              "2      5.0      True  A3CB1J66JA929L  B002KQLUVU  {'Color:': ' Black'}   \n",
              "\n",
              "  reviewerName                                         reviewText  \\\n",
              "0     pinknblu  I gave it a four because when I first got it, ...   \n",
              "1           JR                                               Good   \n",
              "2    Idelfonzo                                                 ok   \n",
              "\n",
              "               summary review_sentiment   Date&Time  ...  \\\n",
              "0  Blackberry Rim 8520         POSITIVE  2009-09-06  ...   \n",
              "1                 Good         POSITIVE  2017-08-17  ...   \n",
              "2           Five Stars         POSITIVE  2017-07-14  ...   \n",
              "\n",
              "                                            also_buy  \\\n",
              "0  ['B004G8QNDA', 'B002LDHF2K', 'B0085EIE38', 'B0...   \n",
              "1  ['B004G8QNDA', 'B002LDHF2K', 'B0085EIE38', 'B0...   \n",
              "2  ['B004G8QNDA', 'B002LDHF2K', 'B0085EIE38', 'B0...   \n",
              "\n",
              "                                               image       brand  \\\n",
              "0  ['https://images-na.ssl-images-amazon.com/imag...  BlackBerry   \n",
              "1  ['https://images-na.ssl-images-amazon.com/imag...  BlackBerry   \n",
              "2  ['https://images-na.ssl-images-amazon.com/imag...  BlackBerry   \n",
              "\n",
              "                                             feature  \\\n",
              "0  ['2.0MP Digital Camera, High-resolution displa...   \n",
              "1  ['2.0MP Digital Camera, High-resolution displa...   \n",
              "2  ['2.0MP Digital Camera, High-resolution displa...   \n",
              "\n",
              "                                                rank also_view details  \\\n",
              "0  ['>#228,047 in Cell Phones & Accessories (See ...        []      {}   \n",
              "1  ['>#228,047 in Cell Phones & Accessories (See ...        []      {}   \n",
              "2  ['>#228,047 in Cell Phones & Accessories (See ...        []      {}   \n",
              "\n",
              "                    main_cat  \\\n",
              "0  Cell Phones & Accessories   \n",
              "1  Cell Phones & Accessories   \n",
              "2  Cell Phones & Accessories   \n",
              "\n",
              "                                        similar_item   price  \n",
              "0   class=\"a-bordered a-horizontal-stripes  a-spa...  $16.00  \n",
              "1   class=\"a-bordered a-horizontal-stripes  a-spa...  $16.00  \n",
              "2   class=\"a-bordered a-horizontal-stripes  a-spa...  $16.00  \n",
              "\n",
              "[3 rows x 25 columns]"
            ],
            "text/html": [
              "\n",
              "  <div id=\"df-e5287861-e787-4d19-ae9f-c9db752b8494\">\n",
              "    <div class=\"colab-df-container\">\n",
              "      <div>\n",
              "<style scoped>\n",
              "    .dataframe tbody tr th:only-of-type {\n",
              "        vertical-align: middle;\n",
              "    }\n",
              "\n",
              "    .dataframe tbody tr th {\n",
              "        vertical-align: top;\n",
              "    }\n",
              "\n",
              "    .dataframe thead th {\n",
              "        text-align: right;\n",
              "    }\n",
              "</style>\n",
              "<table border=\"1\" class=\"dataframe\">\n",
              "  <thead>\n",
              "    <tr style=\"text-align: right;\">\n",
              "      <th></th>\n",
              "      <th>overall</th>\n",
              "      <th>verified</th>\n",
              "      <th>reviewerID</th>\n",
              "      <th>asin</th>\n",
              "      <th>style</th>\n",
              "      <th>reviewerName</th>\n",
              "      <th>reviewText</th>\n",
              "      <th>summary</th>\n",
              "      <th>review_sentiment</th>\n",
              "      <th>Date&amp;Time</th>\n",
              "      <th>...</th>\n",
              "      <th>also_buy</th>\n",
              "      <th>image</th>\n",
              "      <th>brand</th>\n",
              "      <th>feature</th>\n",
              "      <th>rank</th>\n",
              "      <th>also_view</th>\n",
              "      <th>details</th>\n",
              "      <th>main_cat</th>\n",
              "      <th>similar_item</th>\n",
              "      <th>price</th>\n",
              "    </tr>\n",
              "  </thead>\n",
              "  <tbody>\n",
              "    <tr>\n",
              "      <th>0</th>\n",
              "      <td>4.0</td>\n",
              "      <td>False</td>\n",
              "      <td>A1ICOB5XZ9GK3R</td>\n",
              "      <td>B002KQLUVU</td>\n",
              "      <td>{'Color:': ' Black'}</td>\n",
              "      <td>pinknblu</td>\n",
              "      <td>I gave it a four because when I first got it, ...</td>\n",
              "      <td>Blackberry Rim 8520</td>\n",
              "      <td>POSITIVE</td>\n",
              "      <td>2009-09-06</td>\n",
              "      <td>...</td>\n",
              "      <td>['B004G8QNDA', 'B002LDHF2K', 'B0085EIE38', 'B0...</td>\n",
              "      <td>['https://images-na.ssl-images-amazon.com/imag...</td>\n",
              "      <td>BlackBerry</td>\n",
              "      <td>['2.0MP Digital Camera, High-resolution displa...</td>\n",
              "      <td>['&gt;#228,047 in Cell Phones &amp; Accessories (See ...</td>\n",
              "      <td>[]</td>\n",
              "      <td>{}</td>\n",
              "      <td>Cell Phones &amp; Accessories</td>\n",
              "      <td>class=\"a-bordered a-horizontal-stripes  a-spa...</td>\n",
              "      <td>$16.00</td>\n",
              "    </tr>\n",
              "    <tr>\n",
              "      <th>1</th>\n",
              "      <td>5.0</td>\n",
              "      <td>True</td>\n",
              "      <td>A2O0XNK7T4KASU</td>\n",
              "      <td>B002KQLUVU</td>\n",
              "      <td>{'Color:': ' Black'}</td>\n",
              "      <td>JR</td>\n",
              "      <td>Good</td>\n",
              "      <td>Good</td>\n",
              "      <td>POSITIVE</td>\n",
              "      <td>2017-08-17</td>\n",
              "      <td>...</td>\n",
              "      <td>['B004G8QNDA', 'B002LDHF2K', 'B0085EIE38', 'B0...</td>\n",
              "      <td>['https://images-na.ssl-images-amazon.com/imag...</td>\n",
              "      <td>BlackBerry</td>\n",
              "      <td>['2.0MP Digital Camera, High-resolution displa...</td>\n",
              "      <td>['&gt;#228,047 in Cell Phones &amp; Accessories (See ...</td>\n",
              "      <td>[]</td>\n",
              "      <td>{}</td>\n",
              "      <td>Cell Phones &amp; Accessories</td>\n",
              "      <td>class=\"a-bordered a-horizontal-stripes  a-spa...</td>\n",
              "      <td>$16.00</td>\n",
              "    </tr>\n",
              "    <tr>\n",
              "      <th>2</th>\n",
              "      <td>5.0</td>\n",
              "      <td>True</td>\n",
              "      <td>A3CB1J66JA929L</td>\n",
              "      <td>B002KQLUVU</td>\n",
              "      <td>{'Color:': ' Black'}</td>\n",
              "      <td>Idelfonzo</td>\n",
              "      <td>ok</td>\n",
              "      <td>Five Stars</td>\n",
              "      <td>POSITIVE</td>\n",
              "      <td>2017-07-14</td>\n",
              "      <td>...</td>\n",
              "      <td>['B004G8QNDA', 'B002LDHF2K', 'B0085EIE38', 'B0...</td>\n",
              "      <td>['https://images-na.ssl-images-amazon.com/imag...</td>\n",
              "      <td>BlackBerry</td>\n",
              "      <td>['2.0MP Digital Camera, High-resolution displa...</td>\n",
              "      <td>['&gt;#228,047 in Cell Phones &amp; Accessories (See ...</td>\n",
              "      <td>[]</td>\n",
              "      <td>{}</td>\n",
              "      <td>Cell Phones &amp; Accessories</td>\n",
              "      <td>class=\"a-bordered a-horizontal-stripes  a-spa...</td>\n",
              "      <td>$16.00</td>\n",
              "    </tr>\n",
              "  </tbody>\n",
              "</table>\n",
              "<p>3 rows × 25 columns</p>\n",
              "</div>\n",
              "      <button class=\"colab-df-convert\" onclick=\"convertToInteractive('df-e5287861-e787-4d19-ae9f-c9db752b8494')\"\n",
              "              title=\"Convert this dataframe to an interactive table.\"\n",
              "              style=\"display:none;\">\n",
              "        \n",
              "  <svg xmlns=\"http://www.w3.org/2000/svg\" height=\"24px\"viewBox=\"0 0 24 24\"\n",
              "       width=\"24px\">\n",
              "    <path d=\"M0 0h24v24H0V0z\" fill=\"none\"/>\n",
              "    <path d=\"M18.56 5.44l.94 2.06.94-2.06 2.06-.94-2.06-.94-.94-2.06-.94 2.06-2.06.94zm-11 1L8.5 8.5l.94-2.06 2.06-.94-2.06-.94L8.5 2.5l-.94 2.06-2.06.94zm10 10l.94 2.06.94-2.06 2.06-.94-2.06-.94-.94-2.06-.94 2.06-2.06.94z\"/><path d=\"M17.41 7.96l-1.37-1.37c-.4-.4-.92-.59-1.43-.59-.52 0-1.04.2-1.43.59L10.3 9.45l-7.72 7.72c-.78.78-.78 2.05 0 2.83L4 21.41c.39.39.9.59 1.41.59.51 0 1.02-.2 1.41-.59l7.78-7.78 2.81-2.81c.8-.78.8-2.07 0-2.86zM5.41 20L4 18.59l7.72-7.72 1.47 1.35L5.41 20z\"/>\n",
              "  </svg>\n",
              "      </button>\n",
              "      \n",
              "  <style>\n",
              "    .colab-df-container {\n",
              "      display:flex;\n",
              "      flex-wrap:wrap;\n",
              "      gap: 12px;\n",
              "    }\n",
              "\n",
              "    .colab-df-convert {\n",
              "      background-color: #E8F0FE;\n",
              "      border: none;\n",
              "      border-radius: 50%;\n",
              "      cursor: pointer;\n",
              "      display: none;\n",
              "      fill: #1967D2;\n",
              "      height: 32px;\n",
              "      padding: 0 0 0 0;\n",
              "      width: 32px;\n",
              "    }\n",
              "\n",
              "    .colab-df-convert:hover {\n",
              "      background-color: #E2EBFA;\n",
              "      box-shadow: 0px 1px 2px rgba(60, 64, 67, 0.3), 0px 1px 3px 1px rgba(60, 64, 67, 0.15);\n",
              "      fill: #174EA6;\n",
              "    }\n",
              "\n",
              "    [theme=dark] .colab-df-convert {\n",
              "      background-color: #3B4455;\n",
              "      fill: #D2E3FC;\n",
              "    }\n",
              "\n",
              "    [theme=dark] .colab-df-convert:hover {\n",
              "      background-color: #434B5C;\n",
              "      box-shadow: 0px 1px 3px 1px rgba(0, 0, 0, 0.15);\n",
              "      filter: drop-shadow(0px 1px 2px rgba(0, 0, 0, 0.3));\n",
              "      fill: #FFFFFF;\n",
              "    }\n",
              "  </style>\n",
              "\n",
              "      <script>\n",
              "        const buttonEl =\n",
              "          document.querySelector('#df-e5287861-e787-4d19-ae9f-c9db752b8494 button.colab-df-convert');\n",
              "        buttonEl.style.display =\n",
              "          google.colab.kernel.accessAllowed ? 'block' : 'none';\n",
              "\n",
              "        async function convertToInteractive(key) {\n",
              "          const element = document.querySelector('#df-e5287861-e787-4d19-ae9f-c9db752b8494');\n",
              "          const dataTable =\n",
              "            await google.colab.kernel.invokeFunction('convertToInteractive',\n",
              "                                                     [key], {});\n",
              "          if (!dataTable) return;\n",
              "\n",
              "          const docLinkHtml = 'Like what you see? Visit the ' +\n",
              "            '<a target=\"_blank\" href=https://colab.research.google.com/notebooks/data_table.ipynb>data table notebook</a>'\n",
              "            + ' to learn more about interactive tables.';\n",
              "          element.innerHTML = '';\n",
              "          dataTable['output_type'] = 'display_data';\n",
              "          await google.colab.output.renderOutput(dataTable, element);\n",
              "          const docLink = document.createElement('div');\n",
              "          docLink.innerHTML = docLinkHtml;\n",
              "          element.appendChild(docLink);\n",
              "        }\n",
              "      </script>\n",
              "    </div>\n",
              "  </div>\n",
              "  "
            ]
          },
          "metadata": {},
          "execution_count": 54
        }
      ]
    },
    {
      "cell_type": "code",
      "source": [
        "reviews.info()"
      ],
      "metadata": {
        "id": "pfc6k0Ah87Qn",
        "colab": {
          "base_uri": "https://localhost:8080/"
        },
        "outputId": "c8f357b1-728b-4f9f-81fd-2c602517fdb8"
      },
      "execution_count": 55,
      "outputs": [
        {
          "output_type": "stream",
          "name": "stdout",
          "text": [
            "<class 'pandas.core.frame.DataFrame'>\n",
            "Int64Index: 11038 entries, 0 to 11037\n",
            "Data columns (total 25 columns):\n",
            " #   Column            Non-Null Count  Dtype  \n",
            "---  ------            --------------  -----  \n",
            " 0   overall           11038 non-null  float64\n",
            " 1   verified          11038 non-null  bool   \n",
            " 2   reviewerID        11038 non-null  object \n",
            " 3   asin              11038 non-null  object \n",
            " 4   style             11038 non-null  object \n",
            " 5   reviewerName      11036 non-null  object \n",
            " 6   reviewText        11024 non-null  object \n",
            " 7   summary           11032 non-null  object \n",
            " 8   review_sentiment  11038 non-null  object \n",
            " 9   Date&Time         11038 non-null  object \n",
            " 10  Unnamed: 0        11038 non-null  int64  \n",
            " 11  Unnamed: 0.1      11038 non-null  int64  \n",
            " 12  category          11038 non-null  object \n",
            " 13  description       11038 non-null  object \n",
            " 14  title             11038 non-null  object \n",
            " 15  also_buy          11038 non-null  object \n",
            " 16  image             11038 non-null  object \n",
            " 17  brand             11038 non-null  object \n",
            " 18  feature           11038 non-null  object \n",
            " 19  rank              11038 non-null  object \n",
            " 20  also_view         11038 non-null  object \n",
            " 21  details           11038 non-null  object \n",
            " 22  main_cat          11038 non-null  object \n",
            " 23  similar_item      11038 non-null  object \n",
            " 24  price             11038 non-null  object \n",
            "dtypes: bool(1), float64(1), int64(2), object(21)\n",
            "memory usage: 2.1+ MB\n"
          ]
        }
      ]
    },
    {
      "cell_type": "code",
      "source": [
        "reviews.to_csv('/content/gdrive/MyDrive/review.csv') #creating new .csv for merged data"
      ],
      "metadata": {
        "id": "ZNezsB8l9E9I"
      },
      "execution_count": 56,
      "outputs": []
    },
    {
      "cell_type": "code",
      "source": [
        "df=pd.read_csv('/content/gdrive/MyDrive/review.csv')"
      ],
      "metadata": {
        "id": "6shJRVPf9V8h"
      },
      "execution_count": 57,
      "outputs": []
    },
    {
      "cell_type": "code",
      "source": [
        "df.dtypes"
      ],
      "metadata": {
        "id": "PX3br5l3q5Zw",
        "colab": {
          "base_uri": "https://localhost:8080/"
        },
        "outputId": "24e11569-78dc-4825-bf3e-e98653265520"
      },
      "execution_count": 58,
      "outputs": [
        {
          "output_type": "execute_result",
          "data": {
            "text/plain": [
              "Unnamed: 0            int64\n",
              "overall             float64\n",
              "verified               bool\n",
              "reviewerID           object\n",
              "asin                 object\n",
              "style                object\n",
              "reviewerName         object\n",
              "reviewText           object\n",
              "summary              object\n",
              "review_sentiment     object\n",
              "Date&Time            object\n",
              "Unnamed: 0.1          int64\n",
              "Unnamed: 0.1.1        int64\n",
              "category             object\n",
              "description          object\n",
              "title                object\n",
              "also_buy             object\n",
              "image                object\n",
              "brand                object\n",
              "feature              object\n",
              "rank                 object\n",
              "also_view            object\n",
              "details              object\n",
              "main_cat             object\n",
              "similar_item         object\n",
              "price                object\n",
              "dtype: object"
            ]
          },
          "metadata": {},
          "execution_count": 58
        }
      ]
    },
    {
      "cell_type": "code",
      "source": [
        "df1=df"
      ],
      "metadata": {
        "id": "-ulLeUk0sz3O"
      },
      "execution_count": 59,
      "outputs": []
    },
    {
      "cell_type": "code",
      "source": [
        "pip install xlsxwriter"
      ],
      "metadata": {
        "id": "NbB3Ee7Qs6EU",
        "colab": {
          "base_uri": "https://localhost:8080/"
        },
        "outputId": "b7d4d3fb-7a1c-492c-b216-e022284da33b"
      },
      "execution_count": 60,
      "outputs": [
        {
          "output_type": "stream",
          "name": "stdout",
          "text": [
            "Looking in indexes: https://pypi.org/simple, https://us-python.pkg.dev/colab-wheels/public/simple/\n",
            "Collecting xlsxwriter\n",
            "  Downloading XlsxWriter-3.0.8-py3-none-any.whl (152 kB)\n",
            "\u001b[2K     \u001b[90m━━━━━━━━━━━━━━━━━━━━━━━━━━━━━━━━━━━━━━━\u001b[0m \u001b[32m152.8/152.8 KB\u001b[0m \u001b[31m7.2 MB/s\u001b[0m eta \u001b[36m0:00:00\u001b[0m\n",
            "\u001b[?25hInstalling collected packages: xlsxwriter\n",
            "Successfully installed xlsxwriter-3.0.8\n"
          ]
        }
      ]
    },
    {
      "cell_type": "code",
      "source": [
        "df1.to_excel(\"/content/gdrive/MyDrive/for_tableau.xlsx\",engine='xlsxwriter') #saving it as xlsx for tableau analysis"
      ],
      "metadata": {
        "id": "zP1u1s98s_mY"
      },
      "execution_count": 61,
      "outputs": []
    },
    {
      "cell_type": "code",
      "source": [
        "# Changes the overall category to categorical from numerical for easier visualizations\n",
        "df['classes']=df['overall']\n",
        "df['classes'].replace({5.0:\"positive\",4.0:\"positive\",3.0:\"neutral\",2.0:\"negative\",1.0:\"negative\"},inplace=True)\n",
        "df['classes'].unique()"
      ],
      "metadata": {
        "id": "El23BxOOyVV2",
        "colab": {
          "base_uri": "https://localhost:8080/"
        },
        "outputId": "da6e0dea-3380-4aeb-d862-23357c80f44b"
      },
      "execution_count": 62,
      "outputs": [
        {
          "output_type": "execute_result",
          "data": {
            "text/plain": [
              "array(['positive', 'negative', 'neutral'], dtype=object)"
            ]
          },
          "metadata": {},
          "execution_count": 62
        }
      ]
    },
    {
      "cell_type": "markdown",
      "source": [
        "**TEXT ANALYTICS**"
      ],
      "metadata": {
        "id": "CTS-7mbADncB"
      }
    },
    {
      "cell_type": "code",
      "source": [
        "from nltk.corpus import stopwords\n",
        "from nltk.stem import PorterStemmer\n",
        "\n",
        "import nltk\n",
        "import re\n",
        "import string\n",
        "nltk.download(\"stopwords\")"
      ],
      "metadata": {
        "id": "V01yP5ArDrqb",
        "colab": {
          "base_uri": "https://localhost:8080/"
        },
        "outputId": "2f3bdfeb-adb1-409f-cd8d-91581601f7ce"
      },
      "execution_count": 63,
      "outputs": [
        {
          "output_type": "stream",
          "name": "stderr",
          "text": [
            "[nltk_data] Downloading package stopwords to /root/nltk_data...\n",
            "[nltk_data]   Unzipping corpora/stopwords.zip.\n"
          ]
        },
        {
          "output_type": "execute_result",
          "data": {
            "text/plain": [
              "True"
            ]
          },
          "metadata": {},
          "execution_count": 63
        }
      ]
    },
    {
      "cell_type": "code",
      "source": [
        "#reading stop words from text file to a list\n",
        "stop_words=[line.rstrip('\\n') for line in open ('/content/gdrive/MyDrive/Web_and_social_media_analytics/stop_words_long.txt')]"
      ],
      "metadata": {
        "id": "s6Js4-3vEWRH"
      },
      "execution_count": 65,
      "outputs": []
    },
    {
      "cell_type": "code",
      "source": [
        "def clean_dataframe(df):\n",
        "  df['y']=df['overall'].apply(classify)  #creating new column with corresponding class labels, the output variable.\n",
        "\n",
        "  df=df.drop(labels=['Unnamed: 0','verified','asin','style','reviewerName','description','title','main_cat'],axis=1) #dropping unnescessary columns\n",
        "\n",
        "  df=df.dropna(axis=0,subset=['reviewText']) #dropping NaN values from column reviewText\n",
        "  return df"
      ],
      "metadata": {
        "id": "PQRDNOjfCd-b"
      },
      "execution_count": 66,
      "outputs": []
    },
    {
      "cell_type": "code",
      "source": [
        "# splits review rating into different classes, say positive(2), neutral(1) and negative(0)\n",
        "def classify(x):\n",
        "  if x == 5.0 or x == 4.0:\n",
        "    return 2\n",
        "  if x == 3.0:\n",
        "    return 1\n",
        "  return 0"
      ],
      "metadata": {
        "id": "BUvBlq-8FOem"
      },
      "execution_count": 67,
      "outputs": []
    },
    {
      "cell_type": "code",
      "source": [
        "df = clean_dataframe(df)"
      ],
      "metadata": {
        "id": "x1XUXwHZFnoN"
      },
      "execution_count": 68,
      "outputs": []
    },
    {
      "cell_type": "code",
      "source": [
        "# removes all the punctuations for the strings of reviewText, ie '!\"#$%&\\'()*+,-./:;<=>?@[\\\\]^_`{|}~'\n",
        "def remove_punctuation(text):\n",
        "  not_punc=[words for words in text if words not in string.punctuation]\n",
        "  words_punc=''.join(not_punc)\n",
        "  return words_punc"
      ],
      "metadata": {
        "id": "bAjiq0RkF6YV"
      },
      "execution_count": 69,
      "outputs": []
    },
    {
      "cell_type": "code",
      "source": [
        "def text_process(df):\n",
        "  df['reviewText']=df['reviewText'].apply(lambda x : remove_punctuation(x.lower())) # Removing all the punctuations from the words, and changing the words to lower case to maintain uniformity\n",
        "\n",
        "  stemmer=PorterStemmer()#stemming\n",
        "\n",
        "  words=stopwords.words(\"english\") #stopwords are like 'I','the',etc\n",
        "\n",
        "  df['cleanedreviews']=df['reviewText'].apply(lambda x : \" \".join([stemmer.stem(i) for i in re.sub(\"[^a-zA-Z]\",\" \",x).split() if i not in words]).lower())\n",
        "  return df"
      ],
      "metadata": {
        "id": "6xY8B-7WHdkZ"
      },
      "execution_count": 70,
      "outputs": []
    },
    {
      "cell_type": "code",
      "source": [
        "df['reviewText']=df['reviewText'].astype('str')"
      ],
      "metadata": {
        "id": "R4IdNaWDJ2NP"
      },
      "execution_count": 71,
      "outputs": []
    },
    {
      "cell_type": "code",
      "source": [
        "df = text_process(df)"
      ],
      "metadata": {
        "id": "uiXXkYdFJ8_V"
      },
      "execution_count": 72,
      "outputs": []
    },
    {
      "cell_type": "code",
      "source": [
        "# Dropping null values to have a cleaner dataset\n",
        "df=df.dropna(subset=['cleanedreviews'])"
      ],
      "metadata": {
        "id": "Pl-_MxvjKN11"
      },
      "execution_count": 73,
      "outputs": []
    },
    {
      "cell_type": "code",
      "source": [
        "df.to_excel(\"/content/gdrive/MyDrive/final_tab.xlsx\",engine='xlsxwriter') #xslx file for final tableau analysis"
      ],
      "metadata": {
        "id": "htsIBAgNL-Cs"
      },
      "execution_count": 74,
      "outputs": []
    },
    {
      "cell_type": "code",
      "source": [
        "df.head(3)"
      ],
      "metadata": {
        "id": "Jnp1Jow4NDuU",
        "colab": {
          "base_uri": "https://localhost:8080/",
          "height": 514
        },
        "outputId": "b10bcdce-c035-4a07-da6c-3d660ee72982"
      },
      "execution_count": 75,
      "outputs": [
        {
          "output_type": "execute_result",
          "data": {
            "text/plain": [
              "   overall      reviewerID                                         reviewText  \\\n",
              "0      4.0  A1ICOB5XZ9GK3R  i gave it a four because when i first got it i...   \n",
              "1      5.0  A2O0XNK7T4KASU                                               good   \n",
              "2      5.0  A3CB1J66JA929L                                                 ok   \n",
              "\n",
              "               summary review_sentiment   Date&Time  Unnamed: 0.1  \\\n",
              "0  Blackberry Rim 8520         POSITIVE  2009-09-06         20417   \n",
              "1                 Good         POSITIVE  2017-08-17         20417   \n",
              "2           Five Stars         POSITIVE  2017-07-14         20417   \n",
              "\n",
              "   Unnamed: 0.1.1                                           category  \\\n",
              "0           20417  ['Cell Phones & Accessories', 'Cell Phones', '...   \n",
              "1           20417  ['Cell Phones & Accessories', 'Cell Phones', '...   \n",
              "2           20417  ['Cell Phones & Accessories', 'Cell Phones', '...   \n",
              "\n",
              "                                            also_buy  ...       brand  \\\n",
              "0  ['B004G8QNDA', 'B002LDHF2K', 'B0085EIE38', 'B0...  ...  BlackBerry   \n",
              "1  ['B004G8QNDA', 'B002LDHF2K', 'B0085EIE38', 'B0...  ...  BlackBerry   \n",
              "2  ['B004G8QNDA', 'B002LDHF2K', 'B0085EIE38', 'B0...  ...  BlackBerry   \n",
              "\n",
              "                                             feature  \\\n",
              "0  ['2.0MP Digital Camera, High-resolution displa...   \n",
              "1  ['2.0MP Digital Camera, High-resolution displa...   \n",
              "2  ['2.0MP Digital Camera, High-resolution displa...   \n",
              "\n",
              "                                                rank also_view details  \\\n",
              "0  ['>#228,047 in Cell Phones & Accessories (See ...        []      {}   \n",
              "1  ['>#228,047 in Cell Phones & Accessories (See ...        []      {}   \n",
              "2  ['>#228,047 in Cell Phones & Accessories (See ...        []      {}   \n",
              "\n",
              "                                        similar_item   price   classes  y  \\\n",
              "0   class=\"a-bordered a-horizontal-stripes  a-spa...  $16.00  positive  2   \n",
              "1   class=\"a-bordered a-horizontal-stripes  a-spa...  $16.00  positive  2   \n",
              "2   class=\"a-bordered a-horizontal-stripes  a-spa...  $16.00  positive  2   \n",
              "\n",
              "                                      cleanedreviews  \n",
              "0  gave four first got took time see get use key ...  \n",
              "1                                               good  \n",
              "2                                                 ok  \n",
              "\n",
              "[3 rows x 21 columns]"
            ],
            "text/html": [
              "\n",
              "  <div id=\"df-487b98ca-04c9-4a8d-be0b-d945e630f7ef\">\n",
              "    <div class=\"colab-df-container\">\n",
              "      <div>\n",
              "<style scoped>\n",
              "    .dataframe tbody tr th:only-of-type {\n",
              "        vertical-align: middle;\n",
              "    }\n",
              "\n",
              "    .dataframe tbody tr th {\n",
              "        vertical-align: top;\n",
              "    }\n",
              "\n",
              "    .dataframe thead th {\n",
              "        text-align: right;\n",
              "    }\n",
              "</style>\n",
              "<table border=\"1\" class=\"dataframe\">\n",
              "  <thead>\n",
              "    <tr style=\"text-align: right;\">\n",
              "      <th></th>\n",
              "      <th>overall</th>\n",
              "      <th>reviewerID</th>\n",
              "      <th>reviewText</th>\n",
              "      <th>summary</th>\n",
              "      <th>review_sentiment</th>\n",
              "      <th>Date&amp;Time</th>\n",
              "      <th>Unnamed: 0.1</th>\n",
              "      <th>Unnamed: 0.1.1</th>\n",
              "      <th>category</th>\n",
              "      <th>also_buy</th>\n",
              "      <th>...</th>\n",
              "      <th>brand</th>\n",
              "      <th>feature</th>\n",
              "      <th>rank</th>\n",
              "      <th>also_view</th>\n",
              "      <th>details</th>\n",
              "      <th>similar_item</th>\n",
              "      <th>price</th>\n",
              "      <th>classes</th>\n",
              "      <th>y</th>\n",
              "      <th>cleanedreviews</th>\n",
              "    </tr>\n",
              "  </thead>\n",
              "  <tbody>\n",
              "    <tr>\n",
              "      <th>0</th>\n",
              "      <td>4.0</td>\n",
              "      <td>A1ICOB5XZ9GK3R</td>\n",
              "      <td>i gave it a four because when i first got it i...</td>\n",
              "      <td>Blackberry Rim 8520</td>\n",
              "      <td>POSITIVE</td>\n",
              "      <td>2009-09-06</td>\n",
              "      <td>20417</td>\n",
              "      <td>20417</td>\n",
              "      <td>['Cell Phones &amp; Accessories', 'Cell Phones', '...</td>\n",
              "      <td>['B004G8QNDA', 'B002LDHF2K', 'B0085EIE38', 'B0...</td>\n",
              "      <td>...</td>\n",
              "      <td>BlackBerry</td>\n",
              "      <td>['2.0MP Digital Camera, High-resolution displa...</td>\n",
              "      <td>['&gt;#228,047 in Cell Phones &amp; Accessories (See ...</td>\n",
              "      <td>[]</td>\n",
              "      <td>{}</td>\n",
              "      <td>class=\"a-bordered a-horizontal-stripes  a-spa...</td>\n",
              "      <td>$16.00</td>\n",
              "      <td>positive</td>\n",
              "      <td>2</td>\n",
              "      <td>gave four first got took time see get use key ...</td>\n",
              "    </tr>\n",
              "    <tr>\n",
              "      <th>1</th>\n",
              "      <td>5.0</td>\n",
              "      <td>A2O0XNK7T4KASU</td>\n",
              "      <td>good</td>\n",
              "      <td>Good</td>\n",
              "      <td>POSITIVE</td>\n",
              "      <td>2017-08-17</td>\n",
              "      <td>20417</td>\n",
              "      <td>20417</td>\n",
              "      <td>['Cell Phones &amp; Accessories', 'Cell Phones', '...</td>\n",
              "      <td>['B004G8QNDA', 'B002LDHF2K', 'B0085EIE38', 'B0...</td>\n",
              "      <td>...</td>\n",
              "      <td>BlackBerry</td>\n",
              "      <td>['2.0MP Digital Camera, High-resolution displa...</td>\n",
              "      <td>['&gt;#228,047 in Cell Phones &amp; Accessories (See ...</td>\n",
              "      <td>[]</td>\n",
              "      <td>{}</td>\n",
              "      <td>class=\"a-bordered a-horizontal-stripes  a-spa...</td>\n",
              "      <td>$16.00</td>\n",
              "      <td>positive</td>\n",
              "      <td>2</td>\n",
              "      <td>good</td>\n",
              "    </tr>\n",
              "    <tr>\n",
              "      <th>2</th>\n",
              "      <td>5.0</td>\n",
              "      <td>A3CB1J66JA929L</td>\n",
              "      <td>ok</td>\n",
              "      <td>Five Stars</td>\n",
              "      <td>POSITIVE</td>\n",
              "      <td>2017-07-14</td>\n",
              "      <td>20417</td>\n",
              "      <td>20417</td>\n",
              "      <td>['Cell Phones &amp; Accessories', 'Cell Phones', '...</td>\n",
              "      <td>['B004G8QNDA', 'B002LDHF2K', 'B0085EIE38', 'B0...</td>\n",
              "      <td>...</td>\n",
              "      <td>BlackBerry</td>\n",
              "      <td>['2.0MP Digital Camera, High-resolution displa...</td>\n",
              "      <td>['&gt;#228,047 in Cell Phones &amp; Accessories (See ...</td>\n",
              "      <td>[]</td>\n",
              "      <td>{}</td>\n",
              "      <td>class=\"a-bordered a-horizontal-stripes  a-spa...</td>\n",
              "      <td>$16.00</td>\n",
              "      <td>positive</td>\n",
              "      <td>2</td>\n",
              "      <td>ok</td>\n",
              "    </tr>\n",
              "  </tbody>\n",
              "</table>\n",
              "<p>3 rows × 21 columns</p>\n",
              "</div>\n",
              "      <button class=\"colab-df-convert\" onclick=\"convertToInteractive('df-487b98ca-04c9-4a8d-be0b-d945e630f7ef')\"\n",
              "              title=\"Convert this dataframe to an interactive table.\"\n",
              "              style=\"display:none;\">\n",
              "        \n",
              "  <svg xmlns=\"http://www.w3.org/2000/svg\" height=\"24px\"viewBox=\"0 0 24 24\"\n",
              "       width=\"24px\">\n",
              "    <path d=\"M0 0h24v24H0V0z\" fill=\"none\"/>\n",
              "    <path d=\"M18.56 5.44l.94 2.06.94-2.06 2.06-.94-2.06-.94-.94-2.06-.94 2.06-2.06.94zm-11 1L8.5 8.5l.94-2.06 2.06-.94-2.06-.94L8.5 2.5l-.94 2.06-2.06.94zm10 10l.94 2.06.94-2.06 2.06-.94-2.06-.94-.94-2.06-.94 2.06-2.06.94z\"/><path d=\"M17.41 7.96l-1.37-1.37c-.4-.4-.92-.59-1.43-.59-.52 0-1.04.2-1.43.59L10.3 9.45l-7.72 7.72c-.78.78-.78 2.05 0 2.83L4 21.41c.39.39.9.59 1.41.59.51 0 1.02-.2 1.41-.59l7.78-7.78 2.81-2.81c.8-.78.8-2.07 0-2.86zM5.41 20L4 18.59l7.72-7.72 1.47 1.35L5.41 20z\"/>\n",
              "  </svg>\n",
              "      </button>\n",
              "      \n",
              "  <style>\n",
              "    .colab-df-container {\n",
              "      display:flex;\n",
              "      flex-wrap:wrap;\n",
              "      gap: 12px;\n",
              "    }\n",
              "\n",
              "    .colab-df-convert {\n",
              "      background-color: #E8F0FE;\n",
              "      border: none;\n",
              "      border-radius: 50%;\n",
              "      cursor: pointer;\n",
              "      display: none;\n",
              "      fill: #1967D2;\n",
              "      height: 32px;\n",
              "      padding: 0 0 0 0;\n",
              "      width: 32px;\n",
              "    }\n",
              "\n",
              "    .colab-df-convert:hover {\n",
              "      background-color: #E2EBFA;\n",
              "      box-shadow: 0px 1px 2px rgba(60, 64, 67, 0.3), 0px 1px 3px 1px rgba(60, 64, 67, 0.15);\n",
              "      fill: #174EA6;\n",
              "    }\n",
              "\n",
              "    [theme=dark] .colab-df-convert {\n",
              "      background-color: #3B4455;\n",
              "      fill: #D2E3FC;\n",
              "    }\n",
              "\n",
              "    [theme=dark] .colab-df-convert:hover {\n",
              "      background-color: #434B5C;\n",
              "      box-shadow: 0px 1px 3px 1px rgba(0, 0, 0, 0.15);\n",
              "      filter: drop-shadow(0px 1px 2px rgba(0, 0, 0, 0.3));\n",
              "      fill: #FFFFFF;\n",
              "    }\n",
              "  </style>\n",
              "\n",
              "      <script>\n",
              "        const buttonEl =\n",
              "          document.querySelector('#df-487b98ca-04c9-4a8d-be0b-d945e630f7ef button.colab-df-convert');\n",
              "        buttonEl.style.display =\n",
              "          google.colab.kernel.accessAllowed ? 'block' : 'none';\n",
              "\n",
              "        async function convertToInteractive(key) {\n",
              "          const element = document.querySelector('#df-487b98ca-04c9-4a8d-be0b-d945e630f7ef');\n",
              "          const dataTable =\n",
              "            await google.colab.kernel.invokeFunction('convertToInteractive',\n",
              "                                                     [key], {});\n",
              "          if (!dataTable) return;\n",
              "\n",
              "          const docLinkHtml = 'Like what you see? Visit the ' +\n",
              "            '<a target=\"_blank\" href=https://colab.research.google.com/notebooks/data_table.ipynb>data table notebook</a>'\n",
              "            + ' to learn more about interactive tables.';\n",
              "          element.innerHTML = '';\n",
              "          dataTable['output_type'] = 'display_data';\n",
              "          await google.colab.output.renderOutput(dataTable, element);\n",
              "          const docLink = document.createElement('div');\n",
              "          docLink.innerHTML = docLinkHtml;\n",
              "          element.appendChild(docLink);\n",
              "        }\n",
              "      </script>\n",
              "    </div>\n",
              "  </div>\n",
              "  "
            ]
          },
          "metadata": {},
          "execution_count": 75
        }
      ]
    },
    {
      "cell_type": "markdown",
      "source": [
        "**Visualization And Storytelling**"
      ],
      "metadata": {
        "id": "e8-Mm5wITeGq"
      }
    },
    {
      "cell_type": "markdown",
      "source": [
        "***Distribution of Sentiment Analysis across Dataset***"
      ],
      "metadata": {
        "id": "0XhquJWWTnh5"
      }
    },
    {
      "cell_type": "code",
      "source": [
        "#importing visulization libraries\n",
        "\n",
        "import torch                       #the pytorch library, used for modeling and formatting our data to be compatible in a pytorch environment\n",
        "import pandas as pd                #for dataframe reading, cleaning functions\n",
        "from tqdm.notebook import tqdm     #used as a progress bar\n",
        "\n",
        "# Importing necessary libraries for basic visualization as well as word clouds\n",
        "import matplotlib.pyplot as plt\n",
        "import seaborn as sns\n",
        "from wordcloud import WordCloud,STOPWORDS\n",
        "from sklearn.feature_extraction.text import CountVectorizer\n",
        "\n",
        "# Using textblob to generate sentiment for easy visualization\n",
        "from textblob import TextBlob\n"
      ],
      "metadata": {
        "id": "jP1O8PXUN9Mt"
      },
      "execution_count": 76,
      "outputs": []
    },
    {
      "cell_type": "code",
      "source": [
        "#Distribution of Sentiment Analysis across dataset\n",
        "#Distribution of sentiment class\n",
        "\n",
        "fig,axes=plt.subplots(1,figsize=(8,5))\n",
        "fig.suptitle(\"Ratio of Neutral Negative & Positive Ratings\",fontsize=20)\n",
        "plt.tight_layout(pad=3.5)\n",
        "sns.countplot(x='classes',data=df)\n",
        "axes.set_xlabel(\"Review_sentiment\",fontsize=20)\n",
        "axes.set_ylabel(\"Count\",fontsize=20)\n",
        "sns.despine()"
      ],
      "metadata": {
        "id": "XxP5HeCFVMYx",
        "colab": {
          "base_uri": "https://localhost:8080/",
          "height": 373
        },
        "outputId": "6c0b571e-140c-4b73-8417-93d0c6f25592"
      },
      "execution_count": 77,
      "outputs": [
        {
          "output_type": "display_data",
          "data": {
            "text/plain": [
              "<Figure size 576x360 with 1 Axes>"
            ],
            "image/png": "[encoded data removed]"
          },
          "metadata": {
            "needs_background": "light"
          }
        }
      ]
    },
    {
      "cell_type": "code",
      "source": [
        "#percentage of positive , neutral , negative in train & test data\n",
        "def perc_count(data,category):\n",
        "  return (len(data[data['classes']==category])/len(data)*100)\n",
        "print(f\"Percentage of positive words in train --> {perc_count(df, 'positive')} %\")\n",
        "print(f\"Percentage of neutral words in train --> {perc_count(df, 'neutral')} %\")\n",
        "print(f\"Percentage of negative words in train --> {perc_count(df, 'negative')} %\")"
      ],
      "metadata": {
        "colab": {
          "base_uri": "https://localhost:8080/"
        },
        "id": "JgKIgJ5CayJX",
        "outputId": "6cfe6bd9-a32d-4778-f802-edda4c36bd4e"
      },
      "execution_count": 78,
      "outputs": [
        {
          "output_type": "stream",
          "name": "stdout",
          "text": [
            "Percentage of positive words in train --> 80.02539912917271 %\n",
            "Percentage of neutral words in train --> 6.467706821480407 %\n",
            "Percentage of negative words in train --> 13.50689404934688 %\n"
          ]
        }
      ]
    },
    {
      "cell_type": "markdown",
      "source": [
        "**Words and Word Cloud**"
      ],
      "metadata": {
        "id": "RRS47dOys7tM"
      }
    },
    {
      "cell_type": "code",
      "source": [
        "#most repeated words in reviews\n",
        "stopwords=set(STOPWORDS)\n",
        "def word_cloud(data,title):\n",
        "  wordcloud=WordCloud(background_color='white',max_font_size=40,max_words=200,stopwords=stopwords,scale=3).generate(str(data))\n",
        "  fig=plt.figure(figsize=(8.5,8.5))\n",
        "  plt.axis=(\"on\")\n",
        "  if title:\n",
        "    fig.suptitle(title,fontsize=15)\n",
        "    fig.subplots_adjust(top=2.35)\n",
        "  plt.imshow(wordcloud)\n",
        "  plt.show()\n"
      ],
      "metadata": {
        "id": "SqGiHcnZfIMN"
      },
      "execution_count": 79,
      "outputs": []
    },
    {
      "cell_type": "code",
      "source": [
        "# seperating all records into a different variable to generate wordcloud based on category\n",
        "neu=df[df[\"classes\"] == \"neutral\"][\"cleanedreviews\"]\n",
        "pos=df[df[\"classes\"] == \"positive\"][\"cleanedreviews\"]\n",
        "neg=df[df[\"classes\"] == \"negative\"][\"cleanedreviews\"]"
      ],
      "metadata": {
        "id": "6TRbzwQAw1xz"
      },
      "execution_count": 80,
      "outputs": []
    },
    {
      "cell_type": "code",
      "source": [
        "# Generating wordcloud based on category\n",
        "word_cloud(neu, \"Most Repeated words in neutral reviews\")\n",
        "word_cloud(pos, \"Most Repeated words in positive reviews\")\n",
        "word_cloud(neg, \"Most Repeated words in negtive reviews\")\n"
      ],
      "metadata": {
        "colab": {
          "base_uri": "https://localhost:8080/",
          "height": 944
        },
        "id": "WLpVlFiCxJlm",
        "outputId": "e483f7aa-4626-42d6-dbfd-bc821ab969fc"
      },
      "execution_count": 81,
      "outputs": [
        {
          "output_type": "display_data",
          "data": {
            "text/plain": [
              "<Figure size 612x612 with 1 Axes>"
            ],
            "image/png": "[encoded data removed]"
          },
          "metadata": {
            "needs_background": "light"
          }
        },
        {
          "output_type": "display_data",
          "data": {
            "text/plain": [
              "<Figure size 612x612 with 1 Axes>"
            ],
            "image/png": "[encoded data removed]"
          },
          "metadata": {
            "needs_background": "light"
          }
        },
        {
          "output_type": "display_data",
          "data": {
            "text/plain": [
              "<Figure size 612x612 with 1 Axes>"
            ],
            "image/png": "[encoded data removed]"
          },
          "metadata": {
            "needs_background": "light"
          }
        }
      ]
    },
    {
      "cell_type": "code",
      "source": [
        "#function for bigram\n",
        "def get_top_n_bigram(corpus,n=None):\n",
        "  vec=CountVectorizer(ngram_range=(2,2),stop_words='english').fit(corpus)\n",
        "  bag_of_words=vec.transform(corpus)\n",
        "  sum_words=bag_of_words.sum(axis=0)\n",
        "  words_freq=[(word,sum_words[0,idx]) for word,idx in vec.vocabulary_.items()]\n",
        "  words_freq=sorted(words_freq,key=lambda x:x[1],reverse=True)\n",
        "  return words_freq[:n] #apply function above"
      ],
      "metadata": {
        "id": "BfyNxzluzOF7"
      },
      "execution_count": 82,
      "outputs": []
    },
    {
      "cell_type": "code",
      "source": [
        "#create function for bigram plots\n",
        "def n_gram_plots(data,title,color):\n",
        "  x=[x[0] for x in data]\n",
        "  y=[x[1] for x in data]\n",
        "  sns.barplot(y,x,color='{}'.format(color))\n",
        "  plt.title('{} Reviews Bigrams'.format(title),fontsize=15)\n",
        "  plt.yticks(rotation=0,fontsize=15)\n",
        "\n",
        "common_words_good=get_top_n_bigram(pos,5)\n",
        "common_words_neutral=get_top_n_bigram(neu,5)\n",
        "common_words_bad=get_top_n_bigram(neg,5)\n",
        "\n",
        "#bigram plot using function above\n",
        "plt.figure(figsize=(10,5))\n",
        "\n",
        "#good reviews bigram\n",
        "plt.subplot(151)\n",
        "n_gram_plots(common_words_good,'Good','green')\n",
        "\n",
        "#neutral reviews bigram\n",
        "plt.subplot(153)\n",
        "n_gram_plots(common_words_neutral,'Neutral','Orange')\n",
        "\n",
        "#negative reviews bigram\n",
        "plt.subplot(155)\n",
        "n_gram_plots(common_words_bad,'Bad','red')\n",
        "\n",
        "plt.show()\n",
        "\n",
        "\n"
      ],
      "metadata": {
        "colab": {
          "base_uri": "https://localhost:8080/",
          "height": 462
        },
        "id": "jQffqRcgmYw2",
        "outputId": "74000a8a-21bc-49c8-c254-e1af27fb07c7"
      },
      "execution_count": 83,
      "outputs": [
        {
          "output_type": "stream",
          "name": "stderr",
          "text": [
            "/usr/local/lib/python3.8/dist-packages/seaborn/_decorators.py:36: FutureWarning: Pass the following variables as keyword args: x, y. From version 0.12, the only valid positional argument will be `data`, and passing other arguments without an explicit keyword will result in an error or misinterpretation.\n",
            "  warnings.warn(\n",
            "/usr/local/lib/python3.8/dist-packages/seaborn/_decorators.py:36: FutureWarning: Pass the following variables as keyword args: x, y. From version 0.12, the only valid positional argument will be `data`, and passing other arguments without an explicit keyword will result in an error or misinterpretation.\n",
            "  warnings.warn(\n",
            "/usr/local/lib/python3.8/dist-packages/seaborn/_decorators.py:36: FutureWarning: Pass the following variables as keyword args: x, y. From version 0.12, the only valid positional argument will be `data`, and passing other arguments without an explicit keyword will result in an error or misinterpretation.\n",
            "  warnings.warn(\n"
          ]
        },
        {
          "output_type": "display_data",
          "data": {
            "text/plain": [
              "<Figure size 720x360 with 3 Axes>"
            ],
            "image/png": "[encoded data removed]"
          },
          "metadata": {
            "needs_background": "light"
          }
        }
      ]
    },
    {
      "cell_type": "code",
      "source": [
        "#calculating sentiment polarity using external libraries\n",
        "df['sentiment']=df['cleanedreviews'].apply(lambda x :TextBlob(str(x)).sentiment.polarity )\n",
        "df.head(3)"
      ],
      "metadata": {
        "colab": {
          "base_uri": "https://localhost:8080/",
          "height": 514
        },
        "id": "FcIlAQggpHJq",
        "outputId": "9a199d22-71a3-4115-baa5-4d3fdb071b04"
      },
      "execution_count": 84,
      "outputs": [
        {
          "output_type": "execute_result",
          "data": {
            "text/plain": [
              "   overall      reviewerID                                         reviewText  \\\n",
              "0      4.0  A1ICOB5XZ9GK3R  i gave it a four because when i first got it i...   \n",
              "1      5.0  A2O0XNK7T4KASU                                               good   \n",
              "2      5.0  A3CB1J66JA929L                                                 ok   \n",
              "\n",
              "               summary review_sentiment   Date&Time  Unnamed: 0.1  \\\n",
              "0  Blackberry Rim 8520         POSITIVE  2009-09-06         20417   \n",
              "1                 Good         POSITIVE  2017-08-17         20417   \n",
              "2           Five Stars         POSITIVE  2017-07-14         20417   \n",
              "\n",
              "   Unnamed: 0.1.1                                           category  \\\n",
              "0           20417  ['Cell Phones & Accessories', 'Cell Phones', '...   \n",
              "1           20417  ['Cell Phones & Accessories', 'Cell Phones', '...   \n",
              "2           20417  ['Cell Phones & Accessories', 'Cell Phones', '...   \n",
              "\n",
              "                                            also_buy  ...  \\\n",
              "0  ['B004G8QNDA', 'B002LDHF2K', 'B0085EIE38', 'B0...  ...   \n",
              "1  ['B004G8QNDA', 'B002LDHF2K', 'B0085EIE38', 'B0...  ...   \n",
              "2  ['B004G8QNDA', 'B002LDHF2K', 'B0085EIE38', 'B0...  ...   \n",
              "\n",
              "                                             feature  \\\n",
              "0  ['2.0MP Digital Camera, High-resolution displa...   \n",
              "1  ['2.0MP Digital Camera, High-resolution displa...   \n",
              "2  ['2.0MP Digital Camera, High-resolution displa...   \n",
              "\n",
              "                                                rank also_view details  \\\n",
              "0  ['>#228,047 in Cell Phones & Accessories (See ...        []      {}   \n",
              "1  ['>#228,047 in Cell Phones & Accessories (See ...        []      {}   \n",
              "2  ['>#228,047 in Cell Phones & Accessories (See ...        []      {}   \n",
              "\n",
              "                                        similar_item   price   classes  y  \\\n",
              "0   class=\"a-bordered a-horizontal-stripes  a-spa...  $16.00  positive  2   \n",
              "1   class=\"a-bordered a-horizontal-stripes  a-spa...  $16.00  positive  2   \n",
              "2   class=\"a-bordered a-horizontal-stripes  a-spa...  $16.00  positive  2   \n",
              "\n",
              "                                      cleanedreviews  sentiment  \n",
              "0  gave four first got took time see get use key ...   0.124242  \n",
              "1                                               good   0.700000  \n",
              "2                                                 ok   0.500000  \n",
              "\n",
              "[3 rows x 22 columns]"
            ],
            "text/html": [
              "\n",
              "  <div id=\"df-6a8af7ab-b79e-494d-9b7d-f93b59343a19\">\n",
              "    <div class=\"colab-df-container\">\n",
              "      <div>\n",
              "<style scoped>\n",
              "    .dataframe tbody tr th:only-of-type {\n",
              "        vertical-align: middle;\n",
              "    }\n",
              "\n",
              "    .dataframe tbody tr th {\n",
              "        vertical-align: top;\n",
              "    }\n",
              "\n",
              "    .dataframe thead th {\n",
              "        text-align: right;\n",
              "    }\n",
              "</style>\n",
              "<table border=\"1\" class=\"dataframe\">\n",
              "  <thead>\n",
              "    <tr style=\"text-align: right;\">\n",
              "      <th></th>\n",
              "      <th>overall</th>\n",
              "      <th>reviewerID</th>\n",
              "      <th>reviewText</th>\n",
              "      <th>summary</th>\n",
              "      <th>review_sentiment</th>\n",
              "      <th>Date&amp;Time</th>\n",
              "      <th>Unnamed: 0.1</th>\n",
              "      <th>Unnamed: 0.1.1</th>\n",
              "      <th>category</th>\n",
              "      <th>also_buy</th>\n",
              "      <th>...</th>\n",
              "      <th>feature</th>\n",
              "      <th>rank</th>\n",
              "      <th>also_view</th>\n",
              "      <th>details</th>\n",
              "      <th>similar_item</th>\n",
              "      <th>price</th>\n",
              "      <th>classes</th>\n",
              "      <th>y</th>\n",
              "      <th>cleanedreviews</th>\n",
              "      <th>sentiment</th>\n",
              "    </tr>\n",
              "  </thead>\n",
              "  <tbody>\n",
              "    <tr>\n",
              "      <th>0</th>\n",
              "      <td>4.0</td>\n",
              "      <td>A1ICOB5XZ9GK3R</td>\n",
              "      <td>i gave it a four because when i first got it i...</td>\n",
              "      <td>Blackberry Rim 8520</td>\n",
              "      <td>POSITIVE</td>\n",
              "      <td>2009-09-06</td>\n",
              "      <td>20417</td>\n",
              "      <td>20417</td>\n",
              "      <td>['Cell Phones &amp; Accessories', 'Cell Phones', '...</td>\n",
              "      <td>['B004G8QNDA', 'B002LDHF2K', 'B0085EIE38', 'B0...</td>\n",
              "      <td>...</td>\n",
              "      <td>['2.0MP Digital Camera, High-resolution displa...</td>\n",
              "      <td>['&gt;#228,047 in Cell Phones &amp; Accessories (See ...</td>\n",
              "      <td>[]</td>\n",
              "      <td>{}</td>\n",
              "      <td>class=\"a-bordered a-horizontal-stripes  a-spa...</td>\n",
              "      <td>$16.00</td>\n",
              "      <td>positive</td>\n",
              "      <td>2</td>\n",
              "      <td>gave four first got took time see get use key ...</td>\n",
              "      <td>0.124242</td>\n",
              "    </tr>\n",
              "    <tr>\n",
              "      <th>1</th>\n",
              "      <td>5.0</td>\n",
              "      <td>A2O0XNK7T4KASU</td>\n",
              "      <td>good</td>\n",
              "      <td>Good</td>\n",
              "      <td>POSITIVE</td>\n",
              "      <td>2017-08-17</td>\n",
              "      <td>20417</td>\n",
              "      <td>20417</td>\n",
              "      <td>['Cell Phones &amp; Accessories', 'Cell Phones', '...</td>\n",
              "      <td>['B004G8QNDA', 'B002LDHF2K', 'B0085EIE38', 'B0...</td>\n",
              "      <td>...</td>\n",
              "      <td>['2.0MP Digital Camera, High-resolution displa...</td>\n",
              "      <td>['&gt;#228,047 in Cell Phones &amp; Accessories (See ...</td>\n",
              "      <td>[]</td>\n",
              "      <td>{}</td>\n",
              "      <td>class=\"a-bordered a-horizontal-stripes  a-spa...</td>\n",
              "      <td>$16.00</td>\n",
              "      <td>positive</td>\n",
              "      <td>2</td>\n",
              "      <td>good</td>\n",
              "      <td>0.700000</td>\n",
              "    </tr>\n",
              "    <tr>\n",
              "      <th>2</th>\n",
              "      <td>5.0</td>\n",
              "      <td>A3CB1J66JA929L</td>\n",
              "      <td>ok</td>\n",
              "      <td>Five Stars</td>\n",
              "      <td>POSITIVE</td>\n",
              "      <td>2017-07-14</td>\n",
              "      <td>20417</td>\n",
              "      <td>20417</td>\n",
              "      <td>['Cell Phones &amp; Accessories', 'Cell Phones', '...</td>\n",
              "      <td>['B004G8QNDA', 'B002LDHF2K', 'B0085EIE38', 'B0...</td>\n",
              "      <td>...</td>\n",
              "      <td>['2.0MP Digital Camera, High-resolution displa...</td>\n",
              "      <td>['&gt;#228,047 in Cell Phones &amp; Accessories (See ...</td>\n",
              "      <td>[]</td>\n",
              "      <td>{}</td>\n",
              "      <td>class=\"a-bordered a-horizontal-stripes  a-spa...</td>\n",
              "      <td>$16.00</td>\n",
              "      <td>positive</td>\n",
              "      <td>2</td>\n",
              "      <td>ok</td>\n",
              "      <td>0.500000</td>\n",
              "    </tr>\n",
              "  </tbody>\n",
              "</table>\n",
              "<p>3 rows × 22 columns</p>\n",
              "</div>\n",
              "      <button class=\"colab-df-convert\" onclick=\"convertToInteractive('df-6a8af7ab-b79e-494d-9b7d-f93b59343a19')\"\n",
              "              title=\"Convert this dataframe to an interactive table.\"\n",
              "              style=\"display:none;\">\n",
              "        \n",
              "  <svg xmlns=\"http://www.w3.org/2000/svg\" height=\"24px\"viewBox=\"0 0 24 24\"\n",
              "       width=\"24px\">\n",
              "    <path d=\"M0 0h24v24H0V0z\" fill=\"none\"/>\n",
              "    <path d=\"M18.56 5.44l.94 2.06.94-2.06 2.06-.94-2.06-.94-.94-2.06-.94 2.06-2.06.94zm-11 1L8.5 8.5l.94-2.06 2.06-.94-2.06-.94L8.5 2.5l-.94 2.06-2.06.94zm10 10l.94 2.06.94-2.06 2.06-.94-2.06-.94-.94-2.06-.94 2.06-2.06.94z\"/><path d=\"M17.41 7.96l-1.37-1.37c-.4-.4-.92-.59-1.43-.59-.52 0-1.04.2-1.43.59L10.3 9.45l-7.72 7.72c-.78.78-.78 2.05 0 2.83L4 21.41c.39.39.9.59 1.41.59.51 0 1.02-.2 1.41-.59l7.78-7.78 2.81-2.81c.8-.78.8-2.07 0-2.86zM5.41 20L4 18.59l7.72-7.72 1.47 1.35L5.41 20z\"/>\n",
              "  </svg>\n",
              "      </button>\n",
              "      \n",
              "  <style>\n",
              "    .colab-df-container {\n",
              "      display:flex;\n",
              "      flex-wrap:wrap;\n",
              "      gap: 12px;\n",
              "    }\n",
              "\n",
              "    .colab-df-convert {\n",
              "      background-color: #E8F0FE;\n",
              "      border: none;\n",
              "      border-radius: 50%;\n",
              "      cursor: pointer;\n",
              "      display: none;\n",
              "      fill: #1967D2;\n",
              "      height: 32px;\n",
              "      padding: 0 0 0 0;\n",
              "      width: 32px;\n",
              "    }\n",
              "\n",
              "    .colab-df-convert:hover {\n",
              "      background-color: #E2EBFA;\n",
              "      box-shadow: 0px 1px 2px rgba(60, 64, 67, 0.3), 0px 1px 3px 1px rgba(60, 64, 67, 0.15);\n",
              "      fill: #174EA6;\n",
              "    }\n",
              "\n",
              "    [theme=dark] .colab-df-convert {\n",
              "      background-color: #3B4455;\n",
              "      fill: #D2E3FC;\n",
              "    }\n",
              "\n",
              "    [theme=dark] .colab-df-convert:hover {\n",
              "      background-color: #434B5C;\n",
              "      box-shadow: 0px 1px 3px 1px rgba(0, 0, 0, 0.15);\n",
              "      filter: drop-shadow(0px 1px 2px rgba(0, 0, 0, 0.3));\n",
              "      fill: #FFFFFF;\n",
              "    }\n",
              "  </style>\n",
              "\n",
              "      <script>\n",
              "        const buttonEl =\n",
              "          document.querySelector('#df-6a8af7ab-b79e-494d-9b7d-f93b59343a19 button.colab-df-convert');\n",
              "        buttonEl.style.display =\n",
              "          google.colab.kernel.accessAllowed ? 'block' : 'none';\n",
              "\n",
              "        async function convertToInteractive(key) {\n",
              "          const element = document.querySelector('#df-6a8af7ab-b79e-494d-9b7d-f93b59343a19');\n",
              "          const dataTable =\n",
              "            await google.colab.kernel.invokeFunction('convertToInteractive',\n",
              "                                                     [key], {});\n",
              "          if (!dataTable) return;\n",
              "\n",
              "          const docLinkHtml = 'Like what you see? Visit the ' +\n",
              "            '<a target=\"_blank\" href=https://colab.research.google.com/notebooks/data_table.ipynb>data table notebook</a>'\n",
              "            + ' to learn more about interactive tables.';\n",
              "          element.innerHTML = '';\n",
              "          dataTable['output_type'] = 'display_data';\n",
              "          await google.colab.output.renderOutput(dataTable, element);\n",
              "          const docLink = document.createElement('div');\n",
              "          docLink.innerHTML = docLinkHtml;\n",
              "          element.appendChild(docLink);\n",
              "        }\n",
              "      </script>\n",
              "    </div>\n",
              "  </div>\n",
              "  "
            ]
          },
          "metadata": {},
          "execution_count": 84
        }
      ]
    },
    {
      "cell_type": "code",
      "source": [
        "#Barchart using to visualize the sentiment distribution generated above\n",
        "plt. figure(figsize=(8,8))\n",
        "plt.margins(0.02)\n",
        "plt.xlabel('sentiment',fontsize=20)\n",
        "plt.xticks(fontsize=20)\n",
        "plt.ylabel('sentiment', fontsize=20)\n",
        "plt.yticks(fontsize=20)\n",
        "plt.hist(df['sentiment'],bins=55)\n",
        "plt.title('Sentiment Distribution', fontsize=30)\n",
        "plt.show()"
      ],
      "metadata": {
        "colab": {
          "base_uri": "https://localhost:8080/",
          "height": 544
        },
        "id": "TnAY-u9LzUl1",
        "outputId": "aa395fcb-35df-4f75-e776-502952163fd7"
      },
      "execution_count": 85,
      "outputs": [
        {
          "output_type": "display_data",
          "data": {
            "text/plain": [
              "<Figure size 576x576 with 1 Axes>"
            ],
            "image/png": "[encoded data removed]"
          },
          "metadata": {
            "needs_background": "light"
          }
        }
      ]
    },
    {
      "cell_type": "markdown",
      "source": [
        "We can conclude that there's more reviews that look neutral exist in our dataset than there are positive or negative reviews. We also see that people tend to put in reviews only when its positive or when its neutral and they barely bother to put up a review when its a really bad product.\n"
      ],
      "metadata": {
        "id": "S-vqsDvZ6yXu"
      }
    },
    {
      "cell_type": "markdown",
      "source": [
        "**Correlation heatmap to analyse the dependence between review length and sentiment**"
      ],
      "metadata": {
        "id": "KgOpPs_46yaf"
      }
    },
    {
      "cell_type": "markdown",
      "source": [
        "It is a known fact that individuals tend to rant more about a product than they would praise a product. The following correlation heatmap further proves that face, there's a negative correlation between review length and the sendiment indicating negative reviews tend to be longer than positive or neutral ones."
      ],
      "metadata": {
        "id": "HTxqMAWp6yeI"
      }
    },
    {
      "cell_type": "code",
      "source": [
        "# Heatmap from overall rating, review length, sentiment and word count\n",
        "\n",
        "# calculating word count and review length\n",
        "df['word_count']= df['reviewText'].apply(lambda x :len(str(x).split(\" \")))\n",
        "df['review_len']=df['reviewText'].apply(lambda x :len(str(x)))\n",
        "\n",
        "#visualizing the heatmap\n",
        "correlation = df[['overall','sentiment','review_len','word_count']].corr()\n",
        "mask=np.zeros_like(correlation,dtype=np.bool)\n",
        "mask[np.triu_indices_from(mask)]=True\n",
        "plt.figure(figsize=(8,5))\n",
        "plt.xticks(fontsize=16)\n",
        "plt.yticks(fontsize=16)\n",
        "sns.heatmap(correlation,cmap='PiYG',annot=True,annot_kws={'size':12},linewidths=10,vmin=-1.5,mask=mask)"
      ],
      "metadata": {
        "colab": {
          "base_uri": "https://localhost:8080/",
          "height": 492
        },
        "id": "3XzawDbp7Dg8",
        "outputId": "926b8359-9dea-46e5-8cbb-752bf253e2f3"
      },
      "execution_count": 86,
      "outputs": [
        {
          "output_type": "stream",
          "name": "stderr",
          "text": [
            "<ipython-input-86-b997aae80a7c>:9: DeprecationWarning: `np.bool` is a deprecated alias for the builtin `bool`. To silence this warning, use `bool` by itself. Doing this will not modify any behavior and is safe. If you specifically wanted the numpy scalar type, use `np.bool_` here.\n",
            "Deprecated in NumPy 1.20; for more details and guidance: https://numpy.org/devdocs/release/1.20.0-notes.html#deprecations\n",
            "  mask=np.zeros_like(correlation,dtype=np.bool)\n"
          ]
        },
        {
          "output_type": "execute_result",
          "data": {
            "text/plain": [
              "<matplotlib.axes._subplots.AxesSubplot at 0x7f72ef559280>"
            ]
          },
          "metadata": {},
          "execution_count": 86
        },
        {
          "output_type": "display_data",
          "data": {
            "text/plain": [
              "<Figure size 576x360 with 2 Axes>"
            ],
            "image/png": "[encoded data removed]"
          },
          "metadata": {
            "needs_background": "light"
          }
        }
      ]
    },
    {
      "cell_type": "code",
      "source": [
        "#libraries for tokenization\n",
        "from sklearn.feature_extraction.text import CountVectorizer,TfidfTransformer,TfidfVectorizer\n",
        "\n",
        "#libraries to implement NaiveBayes\n",
        "from sklearn.naive_bayes import MultinomialNB\n",
        "from sklearn.naive_bayes import ComplementNB\n",
        "from sklearn.naive_bayes import BernoulliNB\n",
        "\n",
        "#libraries to implement & optimize Random Forest\n",
        "from sklearn.ensemble import RandomForestClassifier\n",
        "from sklearn.model_selection import GridSearchCV\n",
        "\n",
        "#To create Pipelines and select best feautures before passing through the model\n",
        "from sklearn.linear_model import SGDClassifier\n",
        "from sklearn.pipeline import Pipeline\n",
        "from sklearn.feature_selection import SelectKBest, chi2\n",
        "\n",
        "#Preprocessing & NLP libraries\n",
        "from nltk.corpus import stopwords\n",
        "from nltk.stem import PorterStemmer\n",
        "from nltk.tokenize import RegexpTokenizer\n",
        "nltk.download(\"stopwords\")\n",
        "import nltk\n",
        "import re\n",
        "import string\n",
        "\n",
        "#Visualization tools\n",
        "import seaborn as sns\n",
        "import matplotlib.pyplot as plt\n",
        "\n",
        "\n"
      ],
      "metadata": {
        "colab": {
          "base_uri": "https://localhost:8080/"
        },
        "id": "sOSc_leg-rgB",
        "outputId": "0dcb31aa-50d8-4c20-c0b7-62b6516d7534"
      },
      "execution_count": 87,
      "outputs": [
        {
          "output_type": "stream",
          "name": "stderr",
          "text": [
            "[nltk_data] Downloading package stopwords to /root/nltk_data...\n",
            "[nltk_data]   Package stopwords is already up-to-date!\n"
          ]
        }
      ]
    },
    {
      "cell_type": "code",
      "source": [
        "#Tokenization methods to break down text into tokens(words)\n",
        "#Using TF-IDF with ngram range of (1,1)\n",
        "tfidf_vectorizer=TfidfVectorizer(min_df=3,sublinear_tf=True,norm='12',ngram_range=(1,1))\n",
        "\n",
        "#Using Bag of Words with ngram range of (1,1)\n",
        "count_vectorizer=CountVectorizer(ngram_range=(1,1))"
      ],
      "metadata": {
        "id": "0vHzclrmHnBG"
      },
      "execution_count": 88,
      "outputs": []
    },
    {
      "cell_type": "code",
      "source": [
        "#Seperating test-train with standard 80-20 split\n",
        "msk=np.random.rand(len(df))< 0.8\n",
        "df_train = df[msk]\n",
        "df_test = df[~msk]\n",
        "X_train_class = df_train['cleanedreviews']\n",
        "Y_train_class = df_train['y']\n",
        "X_test_class = df_test['cleanedreviews']\n",
        "Y_test_class = df_test['y']\n"
      ],
      "metadata": {
        "id": "RIhPb-wnMiYy"
      },
      "execution_count": 93,
      "outputs": []
    },
    {
      "cell_type": "code",
      "source": [
        "#Creating Model Pipelines for various models with the pattern [Tokenizer Method][SelectKBest features][Model+Paramaters]\n",
        "#text_clf_classifier1 = Pipeline([('vect', counter_vectorizer),('chi',  SelectKBest(chi2, k=1200)),('clf', RandomForestClassifier(criterion='entropy')),])\n",
        "\n",
        "text_clf_classifier1 = Pipeline([('vect',count_vectorizer),('chi',SelectKBest(chi2,k=1200)),('clf',RandomForestClassifier()),])\n",
        "text_clf_classifier2 = Pipeline([('vect',count_vectorizer),('chi',SelectKBest(chi2,k=2890)),('clf',MultinomialNB(alpha=11)),])\n",
        "text_clf_classifier4 = Pipeline([('vect',count_vectorizer),('chi',SelectKBest(chi2,k=2890)),('clf',BernoulliNB(alpha=11)),])\n",
        "                                                                                "
      ],
      "metadata": {
        "id": "do4xM5T5Nn38"
      },
      "execution_count": 94,
      "outputs": []
    },
    {
      "cell_type": "code",
      "source": [
        "#Function to execute and run Model Pipelines and display Model Paramaters used along with Accuracy\n",
        "def run_model(text_clf_classifier):\n",
        "  print(text_clf_classifier)\n",
        "\n",
        "  classifier_model=text_clf_classifier.fit(X_train_class,Y_train_class.ravel())\n",
        "  print(np.mean(classifier_model.predict(X_test_class) == Y_test_class))\n"
      ],
      "metadata": {
        "id": "NBFZHvy1QBH0"
      },
      "execution_count": 95,
      "outputs": []
    },
    {
      "cell_type": "markdown",
      "source": [
        "**Random Forest Classifier Parameters Tuned**"
      ],
      "metadata": {
        "id": "Ou3Ne4A0tsrW"
      }
    },
    {
      "cell_type": "markdown",
      "source": [
        "1.No of estimators - No. of trees - 100,\n",
        "\n",
        "2.Information Gain criteria - Entropy & Gini Index : Gini Index gives better accuracy.\n",
        "\n",
        "3.Cost complexity pruning paramter - 0.0(No pruning)"
      ],
      "metadata": {
        "id": "MD-L6BzPt4E5"
      }
    },
    {
      "cell_type": "code",
      "source": [
        "print(\"Random Forest Classifier - Count Vectorizer:\")\n",
        "run_model(text_clf_classifier1)"
      ],
      "metadata": {
        "colab": {
          "base_uri": "https://localhost:8080/"
        },
        "id": "6pEWG5DrQvTn",
        "outputId": "7bdf0d00-7012-49f6-afb8-be88f027e4a7"
      },
      "execution_count": 96,
      "outputs": [
        {
          "output_type": "stream",
          "name": "stdout",
          "text": [
            "Random Forest Classifier - Count Vectorizer:\n",
            "Pipeline(steps=[('vect', CountVectorizer()),\n",
            "                ('chi',\n",
            "                 SelectKBest(k=1200,\n",
            "                             score_func=<function chi2 at 0x7f7130816ee0>)),\n",
            "                ('clf', RandomForestClassifier())])\n",
            "0.8538708199725149\n"
          ]
        }
      ]
    },
    {
      "cell_type": "markdown",
      "source": [
        "**Naive Bayes Method**"
      ],
      "metadata": {
        "id": "e7PKFTwREz0j"
      }
    },
    {
      "cell_type": "markdown",
      "source": [
        "1.Learning Rate Variants : 0.0001,0.001,0.01,0.1,1,3,5,8,11,13,15\n",
        "\n",
        "2.Best Results were given by alpha=11 for Counter Vectorizer for Tokenization"
      ],
      "metadata": {
        "id": "mbJdRs82E3Sw"
      }
    },
    {
      "cell_type": "code",
      "source": [
        "#Running Multinomial Naive Bayes - Counter Vertorizer for variety of learning rates to best estimate hyperparameter value\n",
        "x_alpha=[0.0001,0.001,0.01,0.1,1,3,5,8,11,13,15]\n",
        "y_accuracy=[]\n",
        "for x in x_alpha:\n",
        "  clf=Pipeline([('vect',count_vectorizer),('chi',SelectKBest(chi2,k=2890)),('clf',MultinomialNB(alpha=x)),])\n",
        "  classifier_model=clf.fit(X_train_class,Y_train_class)\n",
        "  y_accuracy.append(np.mean(classifier_model.predict(X_test_class)==Y_test_class))"
      ],
      "metadata": {
        "id": "hwvig0L94Hkj"
      },
      "execution_count": 97,
      "outputs": []
    },
    {
      "cell_type": "code",
      "source": [
        "plt.plot(x_alpha,y_accuracy,'^k')\n",
        "plt.ylabel(\"Accuracies\")\n",
        "plt.xlabel(\"Learning Rate\")\n",
        "plt.show()\n",
        "print(y_accuracy)"
      ],
      "metadata": {
        "colab": {
          "base_uri": "https://localhost:8080/",
          "height": 316
        },
        "id": "qESkWeuWCoyn",
        "outputId": "0d2f0bc1-8a02-4c6c-c059-c68ddd695674"
      },
      "execution_count": 99,
      "outputs": [
        {
          "output_type": "display_data",
          "data": {
            "text/plain": [
              "<Figure size 432x288 with 1 Axes>"
            ],
            "image/png": "[encoded data removed]"
          },
          "metadata": {
            "needs_background": "light"
          }
        },
        {
          "output_type": "stream",
          "name": "stdout",
          "text": [
            "[0.847457627118644, 0.8502061383417315, 0.8497480531378836, 0.8502061383417315, 0.8547869903802107, 0.858909757214842, 0.8557031607879065, 0.8437929454878608, 0.8323408153916628, 0.82638570774164, 0.8222629409070087]\n"
          ]
        }
      ]
    },
    {
      "cell_type": "code",
      "source": [
        "print(\"Multinomial Naive Bayes - Count Vectorizer:\")\n",
        "run_model(text_clf_classifier2)"
      ],
      "metadata": {
        "colab": {
          "base_uri": "https://localhost:8080/"
        },
        "id": "8JDBfHe9J5-2",
        "outputId": "4509e827-2528-47c9-8c3c-09b7400d4690"
      },
      "execution_count": 100,
      "outputs": [
        {
          "output_type": "stream",
          "name": "stdout",
          "text": [
            "Multinomial Naive Bayes - Count Vectorizer:\n",
            "Pipeline(steps=[('vect', CountVectorizer()),\n",
            "                ('chi',\n",
            "                 SelectKBest(k=2890,\n",
            "                             score_func=<function chi2 at 0x7f7130816ee0>)),\n",
            "                ('clf', MultinomialNB(alpha=11))])\n",
            "0.8323408153916628\n"
          ]
        }
      ]
    },
    {
      "cell_type": "code",
      "source": [
        "print(\"Bernoulli Naive Bayes - Count Vectorizer:\")\n",
        "run_model(text_clf_classifier4)"
      ],
      "metadata": {
        "colab": {
          "base_uri": "https://localhost:8080/"
        },
        "id": "VbzD5F28TprL",
        "outputId": "926a1972-9b8e-48ec-d76c-b200a23abdd3"
      },
      "execution_count": 101,
      "outputs": [
        {
          "output_type": "stream",
          "name": "stdout",
          "text": [
            "Bernoulli Naive Bayes - Count Vectorizer:\n",
            "Pipeline(steps=[('vect', CountVectorizer()),\n",
            "                ('chi',\n",
            "                 SelectKBest(k=2890,\n",
            "                             score_func=<function chi2 at 0x7f7130816ee0>)),\n",
            "                ('clf', BernoulliNB(alpha=11))])\n",
            "0.7929454878607421\n"
          ]
        }
      ]
    },
    {
      "cell_type": "code",
      "source": [
        "def prediction(review):\n",
        "  prediction_df = pd.DataFrame([[review,0]],columns=['reviewText','y'])\n",
        "  prediction_df=text_process(prediction_df)\n",
        "  classifier_prediction=classifier_model.predict(prediction_df['cleanedreviews'])\n",
        "  return classifier_prediction[0]"
      ],
      "metadata": {
        "id": "HHPxVfqoDTM0"
      },
      "execution_count": 108,
      "outputs": []
    },
    {
      "cell_type": "code",
      "source": [
        "prediction(\"works good, viewing angle critical for good picture,the size was perfect for the location\")"
      ],
      "metadata": {
        "colab": {
          "base_uri": "https://localhost:8080/"
        },
        "id": "6pNQwPCLEB7a",
        "outputId": "7b3e63d4-f321-4468-fff1-6f964c0ad312"
      },
      "execution_count": 109,
      "outputs": [
        {
          "output_type": "execute_result",
          "data": {
            "text/plain": [
              "2"
            ]
          },
          "metadata": {},
          "execution_count": 109
        }
      ]
    },
    {
      "cell_type": "code",
      "source": [
        "df.to_csv('/content/gdrive/MyDrive/final_result_for_capstone.csv')"
      ],
      "metadata": {
        "id": "ZySuBqtREJe6"
      },
      "execution_count": 110,
      "outputs": []
    }
  ],
  "metadata": {
    "colab": {
      "provenance": []
    },
    "gpuClass": "standard",
    "kernelspec": {
      "display_name": "Python 3",
      "name": "python3"
    },
    "language_info": {
      "name": "python"
    }
  },
  "nbformat": 4,
  "nbformat_minor": 0
}